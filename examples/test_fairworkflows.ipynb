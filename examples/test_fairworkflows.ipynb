{
 "cells": [
  {
   "cell_type": "code",
   "execution_count": 1,
   "metadata": {
    "collapsed": false,
    "jupyter": {
     "outputs_hidden": false
    },
    "nanopubURI": "http://purl.org/np/RACLlhNijmCk4AX_2PuoBPHKfY1T6jieGaUPVFv-fWCAg",
    "tags": [
     "Injected by FAIR Workflows Widget"
    ]
   },
   "outputs": [],
   "source": [
    "from fairworkflows import FairStep, FairWorkflow, add_step\n",
    "import rdflib"
   ]
  },
  {
   "cell_type": "markdown",
   "metadata": {},
   "source": [
    "# Load a FairStep from a nanopub description"
   ]
  },
  {
   "cell_type": "code",
   "execution_count": 2,
   "metadata": {},
   "outputs": [],
   "source": [
    "step = FairStep.from_nanopub(uri='http://purl.org/np/RACLlhNijmCk4AX_2PuoBPHKfY1T6jieGaUPVFv-fWCAg#step')"
   ]
  },
  {
   "cell_type": "code",
   "execution_count": 3,
   "metadata": {},
   "outputs": [
    {
     "name": "stdout",
     "output_type": "stream",
     "text": [
      "Step URI = http://purl.org/np/RACLlhNijmCk4AX_2PuoBPHKfY1T6jieGaUPVFv-fWCAg#step\n",
      "@prefix bpmn: <http://dkm.fbk.eu/index.php/BPMN2_Ontology#> .\n",
      "@prefix dcterms: <http://purl.org/dc/terms/> .\n",
      "@prefix p-plan: <http://purl.org/net/p-plan#> .\n",
      "\n",
      "_:Nc65201847be048f5a984b28e43558a52 {\n",
      "    [] a bpmn:ManualTask,\n",
      "            p-plan:Step ;\n",
      "        dcterms:description \"Preheat an oven to 350 degrees F (175 degrees C).\" .\n",
      "}\n",
      "\n",
      "\n"
     ]
    }
   ],
   "source": [
    "print(step)"
   ]
  },
  {
   "cell_type": "code",
   "execution_count": 4,
   "metadata": {
    "ExecutionTime": {
     "end_time": "2020-08-26T17:00:43.494858Z",
     "start_time": "2020-08-26T17:00:43.488722Z"
    },
    "provenance": [
     {
      "end_time": "2020-08-26T13:55:41.410Z",
      "execution_time": "9ms",
      "outputs": [
       {
        "ename": "NameError",
        "evalue": "name 'pyschacl' is not defined",
        "output_type": "error",
        "traceback": [
         "\u001b[0;31m---------------------------------------------------------------------------\u001b[0m",
         "\u001b[0;31mNameError\u001b[0m                                 Traceback (most recent call last)",
         "\u001b[0;32m<ipython-input-10-c4075b179893>\u001b[0m in \u001b[0;36m<module>\u001b[0;34m\u001b[0m\n\u001b[0;32m----> 1\u001b[0;31m \u001b[0mstep1\u001b[0m\u001b[0;34m.\u001b[0m\u001b[0mvalidate\u001b[0m\u001b[0;34m(\u001b[0m\u001b[0;34m)\u001b[0m\u001b[0;34m\u001b[0m\u001b[0;34m\u001b[0m\u001b[0m\n\u001b[0m",
         "\u001b[0;32m~/code/FAIRWorkbench/fairworkflows/fairstep.py\u001b[0m in \u001b[0;36mvalidate\u001b[0;34m(self)\u001b[0m\n\u001b[1;32m     18\u001b[0m         \u001b[0mshacl_graph\u001b[0m \u001b[0;34m=\u001b[0m \u001b[0mrdflib\u001b[0m\u001b[0;34m.\u001b[0m\u001b[0mGraph\u001b[0m\u001b[0;34m(\u001b[0m\u001b[0;34m)\u001b[0m\u001b[0;34m\u001b[0m\u001b[0;34m\u001b[0m\u001b[0m\n\u001b[1;32m     19\u001b[0m \u001b[0;34m\u001b[0m\u001b[0m\n\u001b[0;32m---> 20\u001b[0;31m         \u001b[0mr\u001b[0m \u001b[0;34m=\u001b[0m \u001b[0mpyschacl\u001b[0m\u001b[0;34m.\u001b[0m\u001b[0mvalidate\u001b[0m\u001b[0;34m(\u001b[0m\u001b[0mself\u001b[0m\u001b[0;34m.\u001b[0m\u001b[0mrdf\u001b[0m\u001b[0;34m,\u001b[0m \u001b[0mshacl_graph\u001b[0m\u001b[0;34m=\u001b[0m\u001b[0mshacl_graph\u001b[0m\u001b[0;34m)\u001b[0m\u001b[0;34m\u001b[0m\u001b[0;34m\u001b[0m\u001b[0m\n\u001b[0m\u001b[1;32m     21\u001b[0m         \u001b[0mprint\u001b[0m\u001b[0;34m(\u001b[0m\u001b[0mr\u001b[0m\u001b[0;34m)\u001b[0m\u001b[0;34m\u001b[0m\u001b[0;34m\u001b[0m\u001b[0m\n\u001b[1;32m     22\u001b[0m \u001b[0;34m\u001b[0m\u001b[0m\n",
         "\u001b[0;31mNameError\u001b[0m: name 'pyschacl' is not defined"
        ]
       }
      ],
      "source": "step1.validate()",
      "start_time": "2020-08-26T13:55:41.401Z"
     },
     {
      "end_time": "2020-08-26T14:14:21.673Z",
      "execution_time": "11ms",
      "outputs": [
       {
        "name": "stdout",
        "output_type": "stream",
        "text": "Validation Report\nConforms: True\n\n"
       },
       {
        "data": {
         "text/plain": "True"
        },
        "execution_count": 4,
        "metadata": {},
        "output_type": "execute_result"
       }
      ],
      "source": "step1.validate()",
      "start_time": "2020-08-26T14:14:21.662Z"
     },
     {
      "end_time": "2020-08-26T14:14:26.439Z",
      "execution_time": "5ms",
      "outputs": [
       {
        "name": "stdout",
        "output_type": "stream",
        "text": "Validation Report\nConforms: True\n\n"
       },
       {
        "data": {
         "text/plain": "True"
        },
        "execution_count": 5,
        "metadata": {},
        "output_type": "execute_result"
       }
      ],
      "source": "step1.validate()",
      "start_time": "2020-08-26T14:14:26.434Z"
     },
     {
      "end_time": "2020-08-26T14:14:29.398Z",
      "execution_time": "5ms",
      "outputs": [
       {
        "name": "stdout",
        "output_type": "stream",
        "text": "Validation Report\nConforms: True\n\n"
       },
       {
        "data": {
         "text/plain": "True"
        },
        "execution_count": 7,
        "metadata": {},
        "output_type": "execute_result"
       }
      ],
      "source": "step1.validate()",
      "start_time": "2020-08-26T14:14:29.393Z"
     },
     {
      "end_time": "2020-08-26T14:33:41.226Z",
      "execution_time": "13ms",
      "outputs": [
       {
        "name": "stdout",
        "output_type": "stream",
        "text": "Validation Report\nConforms: True\n\n"
       },
       {
        "data": {
         "text/plain": "True"
        },
        "execution_count": 42,
        "metadata": {},
        "output_type": "execute_result"
       }
      ],
      "source": "step1.validate()",
      "start_time": "2020-08-26T14:33:41.213Z"
     },
     {
      "end_time": "2020-08-26T14:33:53.914Z",
      "execution_time": "7ms",
      "outputs": [
       {
        "name": "stdout",
        "output_type": "stream",
        "text": "Validation Report\nConforms: True\n\n"
       },
       {
        "data": {
         "text/plain": "True"
        },
        "execution_count": 47,
        "metadata": {},
        "output_type": "execute_result"
       }
      ],
      "source": "step1.validate()",
      "start_time": "2020-08-26T14:33:53.907Z"
     },
     {
      "end_time": "2020-08-26T14:47:58.927Z",
      "execution_time": "132ms",
      "outputs": [
       {
        "ename": "NameError",
        "evalue": "name 'step_rdf' is not defined",
        "output_type": "error",
        "traceback": [
         "\u001b[0;31m---------------------------------------------------------------------------\u001b[0m",
         "\u001b[0;31mNameError\u001b[0m                                 Traceback (most recent call last)",
         "\u001b[0;32m<ipython-input-5-c4075b179893>\u001b[0m in \u001b[0;36m<module>\u001b[0;34m\u001b[0m\n\u001b[0;32m----> 1\u001b[0;31m \u001b[0mstep1\u001b[0m\u001b[0;34m.\u001b[0m\u001b[0mvalidate\u001b[0m\u001b[0;34m(\u001b[0m\u001b[0;34m)\u001b[0m\u001b[0;34m\u001b[0m\u001b[0;34m\u001b[0m\u001b[0m\n\u001b[0m",
         "\u001b[0;32m~/code/FAIRWorkbench/fairworkflows/fairstep.py\u001b[0m in \u001b[0;36mvalidate\u001b[0;34m(self)\u001b[0m\n\u001b[1;32m     39\u001b[0m \u001b[0;34m\u001b[0m\u001b[0m\n\u001b[1;32m     40\u001b[0m \u001b[0;34m\u001b[0m\u001b[0m\n\u001b[0;32m---> 41\u001b[0;31m         \u001b[0;32mif\u001b[0m \u001b[0;34m(\u001b[0m\u001b[0mself\u001b[0m\u001b[0;34m.\u001b[0m\u001b[0mthis_step\u001b[0m\u001b[0;34m,\u001b[0m \u001b[0mRDF\u001b[0m\u001b[0;34m.\u001b[0m\u001b[0mtype\u001b[0m\u001b[0;34m,\u001b[0m \u001b[0mNanopub\u001b[0m\u001b[0;34m.\u001b[0m\u001b[0mPPLAN\u001b[0m\u001b[0;34m.\u001b[0m\u001b[0mPlana\u001b[0m\u001b[0;34m)\u001b[0m \u001b[0;32min\u001b[0m \u001b[0mstep_rdf\u001b[0m\u001b[0;34m:\u001b[0m\u001b[0;34m\u001b[0m\u001b[0;34m\u001b[0m\u001b[0m\n\u001b[0m\u001b[1;32m     42\u001b[0m             \u001b[0mprint\u001b[0m\u001b[0;34m(\u001b[0m\u001b[0;34m\"cool\"\u001b[0m\u001b[0;34m)\u001b[0m\u001b[0;34m\u001b[0m\u001b[0;34m\u001b[0m\u001b[0m\n\u001b[1;32m     43\u001b[0m \u001b[0;34m\u001b[0m\u001b[0m\n",
         "\u001b[0;31mNameError\u001b[0m: name 'step_rdf' is not defined"
        ]
       }
      ],
      "source": "step1.validate()",
      "start_time": "2020-08-26T14:47:58.795Z"
     },
     {
      "end_time": "2020-08-26T14:50:52.001Z",
      "execution_time": "2ms",
      "outputs": [],
      "source": "step1.validate()",
      "start_time": "2020-08-26T14:50:51.999Z"
     },
     {
      "end_time": "2020-08-26T14:53:53.252Z",
      "execution_time": "3ms",
      "outputs": [
       {
        "name": "stdout",
        "output_type": "stream",
        "text": "(rdflib.term.URIRef('http://purl.org/nanopub/temp/mynanopub#step'), rdflib.term.URIRef('http://www.w3.org/1999/02/22-rdf-syntax-ns#type'), rdflib.term.URIRef('http://purl.org/net/p-plan#Step'))\n"
       }
      ],
      "source": "step1.validate()",
      "start_time": "2020-08-26T14:53:53.249Z"
     },
     {
      "end_time": "2020-08-26T14:54:27.701Z",
      "execution_time": "2ms",
      "outputs": [
       {
        "name": "stdout",
        "output_type": "stream",
        "text": "cool\n"
       }
      ],
      "source": "step1.validate()",
      "start_time": "2020-08-26T14:54:27.699Z"
     },
     {
      "end_time": "2020-08-26T14:58:14.786Z",
      "execution_time": "153ms",
      "outputs": [
       {
        "ename": "ValueError",
        "evalue": "too many values to unpack (expected 3)",
        "output_type": "error",
        "traceback": [
         "\u001b[0;31m---------------------------------------------------------------------------\u001b[0m",
         "\u001b[0;31mValueError\u001b[0m                                Traceback (most recent call last)",
         "\u001b[0;32m<ipython-input-5-c4075b179893>\u001b[0m in \u001b[0;36m<module>\u001b[0;34m\u001b[0m\n\u001b[0;32m----> 1\u001b[0;31m \u001b[0mstep1\u001b[0m\u001b[0;34m.\u001b[0m\u001b[0mvalidate\u001b[0m\u001b[0;34m(\u001b[0m\u001b[0;34m)\u001b[0m\u001b[0;34m\u001b[0m\u001b[0;34m\u001b[0m\u001b[0m\n\u001b[0m",
         "\u001b[0;32m~/code/FAIRWorkbench/fairworkflows/fairstep.py\u001b[0m in \u001b[0;36mvalidate\u001b[0;34m(self)\u001b[0m\n\u001b[1;32m     42\u001b[0m         \u001b[0mnecessary_triples\u001b[0m \u001b[0;34m=\u001b[0m \u001b[0;34m(\u001b[0m\u001b[0mself\u001b[0m\u001b[0;34m.\u001b[0m\u001b[0mthis_step\u001b[0m\u001b[0;34m,\u001b[0m \u001b[0mRDF\u001b[0m\u001b[0;34m.\u001b[0m\u001b[0mtype\u001b[0m\u001b[0;34m,\u001b[0m \u001b[0mNanopub\u001b[0m\u001b[0;34m.\u001b[0m\u001b[0mPPLAN\u001b[0m\u001b[0;34m.\u001b[0m\u001b[0mStep\u001b[0m\u001b[0;34m)\u001b[0m\u001b[0;34m\u001b[0m\u001b[0;34m\u001b[0m\u001b[0m\n\u001b[1;32m     43\u001b[0m         \u001b[0;32mfor\u001b[0m \u001b[0mt\u001b[0m \u001b[0;32min\u001b[0m \u001b[0mnecessary_triples\u001b[0m\u001b[0;34m:\u001b[0m\u001b[0;34m\u001b[0m\u001b[0;34m\u001b[0m\u001b[0m\n\u001b[0;32m---> 44\u001b[0;31m             \u001b[0;32mif\u001b[0m \u001b[0mt\u001b[0m \u001b[0;32mnot\u001b[0m \u001b[0;32min\u001b[0m \u001b[0mself\u001b[0m\u001b[0;34m.\u001b[0m\u001b[0mrdf\u001b[0m\u001b[0;34m:\u001b[0m\u001b[0;34m\u001b[0m\u001b[0;34m\u001b[0m\u001b[0m\n\u001b[0m\u001b[1;32m     45\u001b[0m                 \u001b[0mprint\u001b[0m\u001b[0;34m(\u001b[0m\u001b[0;34m\"Plex step is missing triple of the form:\"\u001b[0m\u001b[0;34m,\u001b[0m \u001b[0mt\u001b[0m\u001b[0;34m)\u001b[0m\u001b[0;34m\u001b[0m\u001b[0;34m\u001b[0m\u001b[0m\n\u001b[1;32m     46\u001b[0m                 \u001b[0mconforms\u001b[0m \u001b[0;34m=\u001b[0m \u001b[0;32mFalse\u001b[0m\u001b[0;34m\u001b[0m\u001b[0;34m\u001b[0m\u001b[0m\n",
         "\u001b[0;32m/usr/local/lib/python3.8/site-packages/rdflib/graph.py\u001b[0m in \u001b[0;36m__contains__\u001b[0;34m(self, triple)\u001b[0m\n\u001b[1;32m    507\u001b[0m     \u001b[0;32mdef\u001b[0m \u001b[0m__contains__\u001b[0m\u001b[0;34m(\u001b[0m\u001b[0mself\u001b[0m\u001b[0;34m,\u001b[0m \u001b[0mtriple\u001b[0m\u001b[0;34m)\u001b[0m\u001b[0;34m:\u001b[0m\u001b[0;34m\u001b[0m\u001b[0;34m\u001b[0m\u001b[0m\n\u001b[1;32m    508\u001b[0m         \u001b[0;34m\"\"\"Support for 'triple in graph' syntax\"\"\"\u001b[0m\u001b[0;34m\u001b[0m\u001b[0;34m\u001b[0m\u001b[0m\n\u001b[0;32m--> 509\u001b[0;31m         \u001b[0;32mfor\u001b[0m \u001b[0mtriple\u001b[0m \u001b[0;32min\u001b[0m \u001b[0mself\u001b[0m\u001b[0;34m.\u001b[0m\u001b[0mtriples\u001b[0m\u001b[0;34m(\u001b[0m\u001b[0mtriple\u001b[0m\u001b[0;34m)\u001b[0m\u001b[0;34m:\u001b[0m\u001b[0;34m\u001b[0m\u001b[0;34m\u001b[0m\u001b[0m\n\u001b[0m\u001b[1;32m    510\u001b[0m             \u001b[0;32mreturn\u001b[0m \u001b[0;32mTrue\u001b[0m\u001b[0;34m\u001b[0m\u001b[0;34m\u001b[0m\u001b[0m\n\u001b[1;32m    511\u001b[0m         \u001b[0;32mreturn\u001b[0m \u001b[0;32mFalse\u001b[0m\u001b[0;34m\u001b[0m\u001b[0;34m\u001b[0m\u001b[0m\n",
         "\u001b[0;32m/usr/local/lib/python3.8/site-packages/rdflib/graph.py\u001b[0m in \u001b[0;36mtriples\u001b[0;34m(self, triple)\u001b[0m\n\u001b[1;32m    414\u001b[0m         \u001b[0mdoes\u001b[0m \u001b[0;32mnot\u001b[0m \u001b[0mprovide\u001b[0m \u001b[0ma\u001b[0m \u001b[0mcontext\u001b[0m\u001b[0;34m,\u001b[0m \u001b[0mall\u001b[0m \u001b[0mcontexts\u001b[0m \u001b[0mwill\u001b[0m \u001b[0mbe\u001b[0m \u001b[0msearched\u001b[0m\u001b[0;34m.\u001b[0m\u001b[0;34m\u001b[0m\u001b[0;34m\u001b[0m\u001b[0m\n\u001b[1;32m    415\u001b[0m         \"\"\"\n\u001b[0;32m--> 416\u001b[0;31m         \u001b[0ms\u001b[0m\u001b[0;34m,\u001b[0m \u001b[0mp\u001b[0m\u001b[0;34m,\u001b[0m \u001b[0mo\u001b[0m \u001b[0;34m=\u001b[0m \u001b[0mtriple\u001b[0m\u001b[0;34m\u001b[0m\u001b[0;34m\u001b[0m\u001b[0m\n\u001b[0m\u001b[1;32m    417\u001b[0m         \u001b[0;32mif\u001b[0m \u001b[0misinstance\u001b[0m\u001b[0;34m(\u001b[0m\u001b[0mp\u001b[0m\u001b[0;34m,\u001b[0m \u001b[0mPath\u001b[0m\u001b[0;34m)\u001b[0m\u001b[0;34m:\u001b[0m\u001b[0;34m\u001b[0m\u001b[0;34m\u001b[0m\u001b[0m\n\u001b[1;32m    418\u001b[0m             \u001b[0;32mfor\u001b[0m \u001b[0m_s\u001b[0m\u001b[0;34m,\u001b[0m \u001b[0m_o\u001b[0m \u001b[0;32min\u001b[0m \u001b[0mp\u001b[0m\u001b[0;34m.\u001b[0m\u001b[0meval\u001b[0m\u001b[0;34m(\u001b[0m\u001b[0mself\u001b[0m\u001b[0;34m,\u001b[0m \u001b[0ms\u001b[0m\u001b[0;34m,\u001b[0m \u001b[0mo\u001b[0m\u001b[0;34m)\u001b[0m\u001b[0;34m:\u001b[0m\u001b[0;34m\u001b[0m\u001b[0;34m\u001b[0m\u001b[0m\n",
         "\u001b[0;31mValueError\u001b[0m: too many values to unpack (expected 3)"
        ]
       }
      ],
      "source": "step1.validate()",
      "start_time": "2020-08-26T14:58:14.633Z"
     },
     {
      "end_time": "2020-08-26T14:59:16.323Z",
      "execution_time": "9ms",
      "outputs": [
       {
        "data": {
         "text/plain": "True"
        },
        "execution_count": 5,
        "metadata": {},
        "output_type": "execute_result"
       }
      ],
      "source": "step1.validate()",
      "start_time": "2020-08-26T14:59:16.314Z"
     },
     {
      "end_time": "2020-08-26T15:08:43.054Z",
      "execution_time": "10ms",
      "outputs": [
       {
        "data": {
         "text/plain": "True"
        },
        "execution_count": 5,
        "metadata": {},
        "output_type": "execute_result"
       }
      ],
      "source": "step1.validate()",
      "start_time": "2020-08-26T15:08:43.044Z"
     },
     {
      "end_time": "2020-08-26T15:18:20.348Z",
      "execution_time": "11ms",
      "outputs": [
       {
        "name": "stdout",
        "output_type": "stream",
        "text": "\n"
       },
       {
        "data": {
         "text/plain": "True"
        },
        "execution_count": 5,
        "metadata": {},
        "output_type": "execute_result"
       }
      ],
      "source": "step1.validate()",
      "start_time": "2020-08-26T15:18:20.337Z"
     },
     {
      "end_time": "2020-08-26T15:18:46.437Z",
      "execution_time": "5ms",
      "outputs": [
       {
        "name": "stdout",
        "output_type": "stream",
        "text": "RDF is not a pplan:step\nRDF has no dcterms:description\n\n"
       },
       {
        "data": {
         "text/plain": "False"
        },
        "execution_count": 10,
        "metadata": {},
        "output_type": "execute_result"
       }
      ],
      "source": "step1.validate()",
      "start_time": "2020-08-26T15:18:46.432Z"
     },
     {
      "end_time": "2020-08-26T15:18:54.309Z",
      "execution_time": "4ms",
      "outputs": [
       {
        "name": "stdout",
        "output_type": "stream",
        "text": "\n"
       },
       {
        "data": {
         "text/plain": "True"
        },
        "execution_count": 13,
        "metadata": {},
        "output_type": "execute_result"
       }
      ],
      "source": "step1.validate()",
      "start_time": "2020-08-26T15:18:54.305Z"
     },
     {
      "end_time": "2020-08-26T15:27:25.247Z",
      "execution_time": "10ms",
      "outputs": [
       {
        "name": "stdout",
        "output_type": "stream",
        "text": "\n"
       },
       {
        "data": {
         "text/plain": "True"
        },
        "execution_count": 5,
        "metadata": {},
        "output_type": "execute_result"
       }
      ],
      "source": "step1.validate()",
      "start_time": "2020-08-26T15:27:25.237Z"
     },
     {
      "end_time": "2020-08-26T15:27:55.777Z",
      "execution_time": "4ms",
      "outputs": [
       {
        "name": "stdout",
        "output_type": "stream",
        "text": "Step RDF does not say it is a pplan:step\nStep RDF has no dcterms:description\nStep RDF must be either a bpmn:ManualTask or a bpmn:ScriptTask\n\n"
       },
       {
        "data": {
         "text/plain": "False"
        },
        "execution_count": 12,
        "metadata": {},
        "output_type": "execute_result"
       }
      ],
      "source": "step1.validate()",
      "start_time": "2020-08-26T15:27:55.773Z"
     },
     {
      "end_time": "2020-08-26T15:28:04.656Z",
      "execution_time": "4ms",
      "outputs": [
       {
        "name": "stdout",
        "output_type": "stream",
        "text": "\n"
       },
       {
        "data": {
         "text/plain": "True"
        },
        "execution_count": 19,
        "metadata": {},
        "output_type": "execute_result"
       }
      ],
      "source": "step1.validate()",
      "start_time": "2020-08-26T15:28:04.652Z"
     },
     {
      "end_time": "2020-08-26T15:32:45.422Z",
      "execution_time": "11ms",
      "outputs": [
       {
        "name": "stdout",
        "output_type": "stream",
        "text": "\n"
       },
       {
        "data": {
         "text/plain": "True"
        },
        "execution_count": 5,
        "metadata": {},
        "output_type": "execute_result"
       }
      ],
      "source": "step1.validate()",
      "start_time": "2020-08-26T15:32:45.411Z"
     },
     {
      "end_time": "2020-08-26T15:50:41.478Z",
      "execution_time": "10ms",
      "outputs": [
       {
        "name": "stdout",
        "output_type": "stream",
        "text": "\n"
       },
       {
        "data": {
         "text/plain": "True"
        },
        "execution_count": 5,
        "metadata": {},
        "output_type": "execute_result"
       }
      ],
      "source": "step1.validate()",
      "start_time": "2020-08-26T15:50:41.468Z"
     },
     {
      "end_time": "2020-08-26T15:51:07.053Z",
      "execution_time": "5ms",
      "outputs": [
       {
        "name": "stdout",
        "output_type": "stream",
        "text": "\n"
       },
       {
        "data": {
         "text/plain": "True"
        },
        "execution_count": 13,
        "metadata": {},
        "output_type": "execute_result"
       }
      ],
      "source": "step1.validate()",
      "start_time": "2020-08-26T15:51:07.048Z"
     },
     {
      "end_time": "2020-08-26T16:25:44.169Z",
      "execution_time": "11ms",
      "outputs": [
       {
        "name": "stdout",
        "output_type": "stream",
        "text": "\n"
       },
       {
        "data": {
         "text/plain": "True"
        },
        "execution_count": 6,
        "metadata": {},
        "output_type": "execute_result"
       }
      ],
      "source": "step1.validate()",
      "start_time": "2020-08-26T16:25:44.158Z"
     },
     {
      "end_time": "2020-08-26T16:30:22.113Z",
      "execution_time": "9ms",
      "outputs": [
       {
        "name": "stdout",
        "output_type": "stream",
        "text": "\n"
       },
       {
        "data": {
         "text/plain": "True"
        },
        "execution_count": 7,
        "metadata": {},
        "output_type": "execute_result"
       }
      ],
      "source": "step1.validate()",
      "start_time": "2020-08-26T16:30:22.104Z"
     },
     {
      "end_time": "2020-08-26T16:30:25.181Z",
      "execution_time": "4ms",
      "outputs": [
       {
        "name": "stdout",
        "output_type": "stream",
        "text": "\n"
       },
       {
        "data": {
         "text/plain": "True"
        },
        "execution_count": 9,
        "metadata": {},
        "output_type": "execute_result"
       }
      ],
      "source": "step1.validate()",
      "start_time": "2020-08-26T16:30:25.177Z"
     },
     {
      "end_time": "2020-08-26T16:31:49.267Z",
      "execution_time": "10ms",
      "outputs": [
       {
        "name": "stdout",
        "output_type": "stream",
        "text": "\n"
       },
       {
        "data": {
         "text/plain": "True"
        },
        "execution_count": 6,
        "metadata": {},
        "output_type": "execute_result"
       }
      ],
      "source": "step1.validate()",
      "start_time": "2020-08-26T16:31:49.257Z"
     },
     {
      "end_time": "2020-08-26T16:32:34.618Z",
      "execution_time": "11ms",
      "outputs": [
       {
        "name": "stdout",
        "output_type": "stream",
        "text": "\n"
       },
       {
        "data": {
         "text/plain": "True"
        },
        "execution_count": 6,
        "metadata": {},
        "output_type": "execute_result"
       }
      ],
      "source": "step1.validate()",
      "start_time": "2020-08-26T16:32:34.607Z"
     },
     {
      "end_time": "2020-08-26T16:35:03.196Z",
      "execution_time": "8ms",
      "outputs": [
       {
        "name": "stdout",
        "output_type": "stream",
        "text": "\n"
       },
       {
        "data": {
         "text/plain": "True"
        },
        "execution_count": 21,
        "metadata": {},
        "output_type": "execute_result"
       }
      ],
      "source": "step1.validate()",
      "start_time": "2020-08-26T16:35:03.188Z"
     },
     {
      "end_time": "2020-08-26T16:38:19.819Z",
      "execution_time": "11ms",
      "outputs": [
       {
        "name": "stdout",
        "output_type": "stream",
        "text": "\n"
       },
       {
        "data": {
         "text/plain": "True"
        },
        "execution_count": 6,
        "metadata": {},
        "output_type": "execute_result"
       }
      ],
      "source": "step1.validate()",
      "start_time": "2020-08-26T16:38:19.808Z"
     },
     {
      "end_time": "2020-08-26T16:40:58.343Z",
      "execution_time": "13ms",
      "outputs": [
       {
        "name": "stdout",
        "output_type": "stream",
        "text": "\n"
       },
       {
        "data": {
         "text/plain": "True"
        },
        "execution_count": 6,
        "metadata": {},
        "output_type": "execute_result"
       }
      ],
      "source": "step1.validate()",
      "start_time": "2020-08-26T16:40:58.330Z"
     },
     {
      "end_time": "2020-08-26T16:43:40.164Z",
      "execution_time": "5ms",
      "outputs": [
       {
        "name": "stdout",
        "output_type": "stream",
        "text": "\n"
       },
       {
        "data": {
         "text/plain": "True"
        },
        "execution_count": 25,
        "metadata": {},
        "output_type": "execute_result"
       }
      ],
      "source": "step1.validate()",
      "start_time": "2020-08-26T16:43:40.159Z"
     },
     {
      "end_time": "2020-08-26T17:00:43.494Z",
      "execution_time": "6ms",
      "outputs": [
       {
        "name": "stdout",
        "output_type": "stream",
        "text": "\n"
       },
       {
        "data": {
         "text/plain": "True"
        },
        "execution_count": 6,
        "metadata": {},
        "output_type": "execute_result"
       }
      ],
      "source": "step1.validate()",
      "start_time": "2020-08-26T17:00:43.488Z"
     }
    ]
   },
   "outputs": [
    {
     "ename": "AssertionError",
     "evalue": "Step RDF has no rdfs:label\n",
     "output_type": "error",
     "traceback": [
      "\u001b[0;31m---------------------------------------------------------------------------\u001b[0m",
      "\u001b[0;31mAssertionError\u001b[0m                            Traceback (most recent call last)",
      "\u001b[0;32m<ipython-input-4-fa1ebd1e840e>\u001b[0m in \u001b[0;36m<module>\u001b[0;34m\u001b[0m\n\u001b[0;32m----> 1\u001b[0;31m \u001b[0mstep\u001b[0m\u001b[0;34m.\u001b[0m\u001b[0mvalidate\u001b[0m\u001b[0;34m(\u001b[0m\u001b[0;34m)\u001b[0m\u001b[0;34m\u001b[0m\u001b[0;34m\u001b[0m\u001b[0m\n\u001b[0m",
      "\u001b[0;32m~/projects/fair-workflows/fairworkflows/fairworkflows/fairstep.py\u001b[0m in \u001b[0;36mvalidate\u001b[0;34m(self, shacl)\u001b[0m\n\u001b[1;32m    252\u001b[0m             \u001b[0mconforms\u001b[0m \u001b[0;34m=\u001b[0m \u001b[0;32mFalse\u001b[0m\u001b[0;34m\u001b[0m\u001b[0;34m\u001b[0m\u001b[0m\n\u001b[1;32m    253\u001b[0m \u001b[0;34m\u001b[0m\u001b[0m\n\u001b[0;32m--> 254\u001b[0;31m         \u001b[0;32massert\u001b[0m \u001b[0mconforms\u001b[0m\u001b[0;34m,\u001b[0m \u001b[0mlog\u001b[0m\u001b[0;34m\u001b[0m\u001b[0;34m\u001b[0m\u001b[0m\n\u001b[0m\u001b[1;32m    255\u001b[0m \u001b[0;34m\u001b[0m\u001b[0m\n\u001b[1;32m    256\u001b[0m         \u001b[0;31m# Now validate against the PLEX shacl shapes file, if requested\u001b[0m\u001b[0;34m\u001b[0m\u001b[0;34m\u001b[0m\u001b[0;34m\u001b[0m\u001b[0m\n",
      "\u001b[0;31mAssertionError\u001b[0m: Step RDF has no rdfs:label\n"
     ]
    }
   ],
   "source": [
    "step.validate()"
   ]
  },
  {
   "cell_type": "code",
   "execution_count": 5,
   "metadata": {
    "ExecutionTime": {
     "end_time": "2020-08-26T17:00:43.505744Z",
     "start_time": "2020-08-26T17:00:43.502447Z"
    },
    "provenance": [
     {
      "end_time": "Unknown",
      "execution_time": "Unknown",
      "outputs": [],
      "source": "",
      "start_time": "Unknown"
     },
     {
      "end_time": "2020-08-26T15:09:00.683Z",
      "execution_time": "4ms",
      "outputs": [
       {
        "data": {
         "text/plain": "True"
        },
        "execution_count": 6,
        "metadata": {},
        "output_type": "execute_result"
       }
      ],
      "source": "step1.is_pplan_step()",
      "start_time": "2020-08-26T15:09:00.679Z"
     },
     {
      "end_time": "2020-08-26T15:18:25.478Z",
      "execution_time": "5ms",
      "outputs": [
       {
        "data": {
         "text/plain": "True"
        },
        "execution_count": 6,
        "metadata": {},
        "output_type": "execute_result"
       }
      ],
      "source": "step1.is_pplan_step()",
      "start_time": "2020-08-26T15:18:25.473Z"
     },
     {
      "end_time": "2020-08-26T15:18:55.159Z",
      "execution_time": "5ms",
      "outputs": [
       {
        "data": {
         "text/plain": "True"
        },
        "execution_count": 14,
        "metadata": {},
        "output_type": "execute_result"
       }
      ],
      "source": "step1.is_pplan_step()",
      "start_time": "2020-08-26T15:18:55.154Z"
     },
     {
      "end_time": "2020-08-26T15:27:25.252Z",
      "execution_time": "3ms",
      "outputs": [
       {
        "data": {
         "text/plain": "True"
        },
        "execution_count": 6,
        "metadata": {},
        "output_type": "execute_result"
       }
      ],
      "source": "step1.is_pplan_step()",
      "start_time": "2020-08-26T15:27:25.249Z"
     },
     {
      "end_time": "2020-08-26T15:27:55.921Z",
      "execution_time": "4ms",
      "outputs": [
       {
        "data": {
         "text/plain": "False"
        },
        "execution_count": 13,
        "metadata": {},
        "output_type": "execute_result"
       }
      ],
      "source": "step1.is_pplan_step()",
      "start_time": "2020-08-26T15:27:55.917Z"
     },
     {
      "end_time": "2020-08-26T15:28:04.815Z",
      "execution_time": "3ms",
      "outputs": [
       {
        "data": {
         "text/plain": "True"
        },
        "execution_count": 20,
        "metadata": {},
        "output_type": "execute_result"
       }
      ],
      "source": "step1.is_pplan_step()",
      "start_time": "2020-08-26T15:28:04.812Z"
     },
     {
      "end_time": "2020-08-26T15:32:45.798Z",
      "execution_time": "4ms",
      "outputs": [
       {
        "data": {
         "text/plain": "True"
        },
        "execution_count": 6,
        "metadata": {},
        "output_type": "execute_result"
       }
      ],
      "source": "step1.is_pplan_step()",
      "start_time": "2020-08-26T15:32:45.794Z"
     },
     {
      "end_time": "2020-08-26T15:50:44.434Z",
      "execution_time": "8ms",
      "outputs": [
       {
        "data": {
         "text/plain": "True"
        },
        "execution_count": 6,
        "metadata": {},
        "output_type": "execute_result"
       }
      ],
      "source": "step1.is_pplan_step()",
      "start_time": "2020-08-26T15:50:44.426Z"
     },
     {
      "end_time": "2020-08-26T15:51:07.707Z",
      "execution_time": "4ms",
      "outputs": [
       {
        "data": {
         "text/plain": "True"
        },
        "execution_count": 14,
        "metadata": {},
        "output_type": "execute_result"
       }
      ],
      "source": "step1.is_pplan_step()",
      "start_time": "2020-08-26T15:51:07.703Z"
     },
     {
      "end_time": "2020-08-26T16:25:44.543Z",
      "execution_time": "3ms",
      "outputs": [
       {
        "data": {
         "text/plain": "True"
        },
        "execution_count": 7,
        "metadata": {},
        "output_type": "execute_result"
       }
      ],
      "source": "step1.is_pplan_step()",
      "start_time": "2020-08-26T16:25:44.540Z"
     },
     {
      "end_time": "2020-08-26T16:30:22.121Z",
      "execution_time": "5ms",
      "outputs": [
       {
        "data": {
         "text/plain": "True"
        },
        "execution_count": 8,
        "metadata": {},
        "output_type": "execute_result"
       }
      ],
      "source": "step1.is_pplan_step()",
      "start_time": "2020-08-26T16:30:22.116Z"
     },
     {
      "end_time": "2020-08-26T16:30:25.355Z",
      "execution_time": "4ms",
      "outputs": [
       {
        "data": {
         "text/plain": "True"
        },
        "execution_count": 10,
        "metadata": {},
        "output_type": "execute_result"
       }
      ],
      "source": "step1.is_pplan_step()",
      "start_time": "2020-08-26T16:30:25.351Z"
     },
     {
      "end_time": "2020-08-26T16:31:49.453Z",
      "execution_time": "4ms",
      "outputs": [
       {
        "data": {
         "text/plain": "True"
        },
        "execution_count": 7,
        "metadata": {},
        "output_type": "execute_result"
       }
      ],
      "source": "step1.is_pplan_step()",
      "start_time": "2020-08-26T16:31:49.449Z"
     },
     {
      "end_time": "2020-08-26T16:32:34.624Z",
      "execution_time": "4ms",
      "outputs": [
       {
        "data": {
         "text/plain": "True"
        },
        "execution_count": 7,
        "metadata": {},
        "output_type": "execute_result"
       }
      ],
      "source": "step1.is_pplan_step()",
      "start_time": "2020-08-26T16:32:34.620Z"
     },
     {
      "end_time": "2020-08-26T16:35:03.202Z",
      "execution_time": "4ms",
      "outputs": [
       {
        "data": {
         "text/plain": "True"
        },
        "execution_count": 22,
        "metadata": {},
        "output_type": "execute_result"
       }
      ],
      "source": "step1.is_pplan_step()",
      "start_time": "2020-08-26T16:35:03.198Z"
     },
     {
      "end_time": "2020-08-26T16:38:19.824Z",
      "execution_time": "3ms",
      "outputs": [
       {
        "data": {
         "text/plain": "True"
        },
        "execution_count": 7,
        "metadata": {},
        "output_type": "execute_result"
       }
      ],
      "source": "step1.is_pplan_step()",
      "start_time": "2020-08-26T16:38:19.821Z"
     },
     {
      "end_time": "2020-08-26T16:40:58.352Z",
      "execution_time": "5ms",
      "outputs": [
       {
        "data": {
         "text/plain": "True"
        },
        "execution_count": 7,
        "metadata": {},
        "output_type": "execute_result"
       }
      ],
      "source": "step1.is_pplan_step()",
      "start_time": "2020-08-26T16:40:58.347Z"
     },
     {
      "end_time": "2020-08-26T16:43:40.216Z",
      "execution_time": "3ms",
      "outputs": [
       {
        "data": {
         "text/plain": "True"
        },
        "execution_count": 26,
        "metadata": {},
        "output_type": "execute_result"
       }
      ],
      "source": "step1.is_pplan_step()",
      "start_time": "2020-08-26T16:43:40.213Z"
     },
     {
      "end_time": "2020-08-26T17:00:43.505Z",
      "execution_time": "3ms",
      "outputs": [
       {
        "data": {
         "text/plain": "True"
        },
        "execution_count": 7,
        "metadata": {},
        "output_type": "execute_result"
       }
      ],
      "source": "step1.is_pplan_step()",
      "start_time": "2020-08-26T17:00:43.502Z"
     }
    ]
   },
   "outputs": [
    {
     "data": {
      "text/plain": [
       "True"
      ]
     },
     "execution_count": 5,
     "metadata": {},
     "output_type": "execute_result"
    }
   ],
   "source": [
    "step.is_pplan_step"
   ]
  },
  {
   "cell_type": "code",
   "execution_count": 6,
   "metadata": {
    "ExecutionTime": {
     "end_time": "2020-08-26T17:00:43.512364Z",
     "start_time": "2020-08-26T17:00:43.507825Z"
    },
    "provenance": [
     {
      "end_time": "Unknown",
      "execution_time": "Unknown",
      "outputs": [],
      "source": "step1.description()",
      "start_time": "Unknown"
     },
     {
      "end_time": "2020-08-26T15:18:26.838Z",
      "execution_time": "5ms",
      "outputs": [
       {
        "data": {
         "text/plain": "rdflib.term.Literal('Melt the butter in a skillet over medium heat. Add the apple and onion to the melted butter, season with the curry powder, and cook and stir until the apple and onion are tender, 7 to 10 minutes. Stir the mushroom soup and half-and-half into the mixture until completely combined; spoon over the chicken pieces.')"
        },
        "execution_count": 7,
        "metadata": {},
        "output_type": "execute_result"
       }
      ],
      "source": "step1.description()",
      "start_time": "2020-08-26T15:18:26.833Z"
     },
     {
      "end_time": "2020-08-26T15:18:55.448Z",
      "execution_time": "7ms",
      "outputs": [
       {
        "data": {
         "text/plain": "rdflib.term.Literal('Melt the butter in a skillet over medium heat. Add the apple and onion to the melted butter, season with the curry powder, and cook and stir until the apple and onion are tender, 7 to 10 minutes. Stir the mushroom soup and half-and-half into the mixture until completely combined; spoon over the chicken pieces.')"
        },
        "execution_count": 15,
        "metadata": {},
        "output_type": "execute_result"
       }
      ],
      "source": "step1.description()",
      "start_time": "2020-08-26T15:18:55.441Z"
     },
     {
      "end_time": "2020-08-26T15:27:25.260Z",
      "execution_time": "4ms",
      "outputs": [
       {
        "data": {
         "text/plain": "rdflib.term.Literal('Melt the butter in a skillet over medium heat. Add the apple and onion to the melted butter, season with the curry powder, and cook and stir until the apple and onion are tender, 7 to 10 minutes. Stir the mushroom soup and half-and-half into the mixture until completely combined; spoon over the chicken pieces.')"
        },
        "execution_count": 7,
        "metadata": {},
        "output_type": "execute_result"
       }
      ],
      "source": "step1.description()",
      "start_time": "2020-08-26T15:27:25.256Z"
     },
     {
      "end_time": "2020-08-26T15:27:56.062Z",
      "execution_time": "2ms",
      "outputs": [],
      "source": "step1.description()",
      "start_time": "2020-08-26T15:27:56.060Z"
     },
     {
      "end_time": "2020-08-26T15:28:04.945Z",
      "execution_time": "4ms",
      "outputs": [
       {
        "data": {
         "text/plain": "rdflib.term.Literal('Melt the butter in a skillet over medium heat. Add the apple and onion to the melted butter, season with the curry powder, and cook and stir until the apple and onion are tender, 7 to 10 minutes. Stir the mushroom soup and half-and-half into the mixture until completely combined; spoon over the chicken pieces.')"
        },
        "execution_count": 21,
        "metadata": {},
        "output_type": "execute_result"
       }
      ],
      "source": "step1.description()",
      "start_time": "2020-08-26T15:28:04.941Z"
     },
     {
      "end_time": "2020-08-26T15:32:46.390Z",
      "execution_time": "4ms",
      "outputs": [
       {
        "data": {
         "text/plain": "rdflib.term.Literal('Melt the butter in a skillet over medium heat. Add the apple and onion to the melted butter, season with the curry powder, and cook and stir until the apple and onion are tender, 7 to 10 minutes. Stir the mushroom soup and half-and-half into the mixture until completely combined; spoon over the chicken pieces.')"
        },
        "execution_count": 7,
        "metadata": {},
        "output_type": "execute_result"
       }
      ],
      "source": "step1.description()",
      "start_time": "2020-08-26T15:32:46.386Z"
     },
     {
      "end_time": "2020-08-26T15:50:44.851Z",
      "execution_time": "4ms",
      "outputs": [
       {
        "data": {
         "text/plain": "rdflib.term.Literal('Melt the butter in a skillet over medium heat. Add the apple and onion to the melted butter, season with the curry powder, and cook and stir until the apple and onion are tender, 7 to 10 minutes. Stir the mushroom soup and half-and-half into the mixture until completely combined; spoon over the chicken pieces.')"
        },
        "execution_count": 7,
        "metadata": {},
        "output_type": "execute_result"
       }
      ],
      "source": "step1.description()",
      "start_time": "2020-08-26T15:50:44.847Z"
     },
     {
      "end_time": "2020-08-26T15:51:07.981Z",
      "execution_time": "4ms",
      "outputs": [
       {
        "data": {
         "text/plain": "rdflib.term.Literal('Melt the butter in a skillet over medium heat. Add the apple and onion to the melted butter, season with the curry powder, and cook and stir until the apple and onion are tender, 7 to 10 minutes. Stir the mushroom soup and half-and-half into the mixture until completely combined; spoon over the chicken pieces.')"
        },
        "execution_count": 15,
        "metadata": {},
        "output_type": "execute_result"
       }
      ],
      "source": "step1.description()",
      "start_time": "2020-08-26T15:51:07.977Z"
     },
     {
      "end_time": "2020-08-26T16:25:45.190Z",
      "execution_time": "4ms",
      "outputs": [
       {
        "data": {
         "text/plain": "rdflib.term.Literal('Melt the butter in a skillet over medium heat. Add the apple and onion to the melted butter, season with the curry powder, and cook and stir until the apple and onion are tender, 7 to 10 minutes. Stir the mushroom soup and half-and-half into the mixture until completely combined; spoon over the chicken pieces.')"
        },
        "execution_count": 8,
        "metadata": {},
        "output_type": "execute_result"
       }
      ],
      "source": "step1.description()",
      "start_time": "2020-08-26T16:25:45.186Z"
     },
     {
      "end_time": "2020-08-26T16:30:25.514Z",
      "execution_time": "4ms",
      "outputs": [
       {
        "data": {
         "text/plain": "rdflib.term.Literal('Melt the butter in a skillet over medium heat. Add the apple and onion to the melted butter, season with the curry powder, and cook and stir until the apple and onion are tender, 7 to 10 minutes. Stir the mushroom soup and half-and-half into the mixture until completely combined; spoon over the chicken pieces.')"
        },
        "execution_count": 11,
        "metadata": {},
        "output_type": "execute_result"
       }
      ],
      "source": "step1.description()",
      "start_time": "2020-08-26T16:30:25.510Z"
     },
     {
      "end_time": "2020-08-26T16:31:49.660Z",
      "execution_time": "4ms",
      "outputs": [
       {
        "data": {
         "text/plain": "rdflib.term.Literal('Melt the butter in a skillet over medium heat. Add the apple and onion to the melted butter, season with the curry powder, and cook and stir until the apple and onion are tender, 7 to 10 minutes. Stir the mushroom soup and half-and-half into the mixture until completely combined; spoon over the chicken pieces.')"
        },
        "execution_count": 8,
        "metadata": {},
        "output_type": "execute_result"
       }
      ],
      "source": "step1.description()",
      "start_time": "2020-08-26T16:31:49.656Z"
     },
     {
      "end_time": "2020-08-26T16:32:34.642Z",
      "execution_time": "4ms",
      "outputs": [
       {
        "data": {
         "text/plain": "rdflib.term.Literal('Melt the butter in a skillet over medium heat. Add the apple and onion to the melted butter, season with the curry powder, and cook and stir until the apple and onion are tender, 7 to 10 minutes. Stir the mushroom soup and half-and-half into the mixture until completely combined; spoon over the chicken pieces.')"
        },
        "execution_count": 8,
        "metadata": {},
        "output_type": "execute_result"
       }
      ],
      "source": "step1.description()",
      "start_time": "2020-08-26T16:32:34.638Z"
     },
     {
      "end_time": "2020-08-26T16:35:03.210Z",
      "execution_time": "5ms",
      "outputs": [
       {
        "data": {
         "text/plain": "rdflib.term.Literal('Melt the butter in a skillet over medium heat. Add the apple and onion to the melted butter, season with the curry powder, and cook and stir until the apple and onion are tender, 7 to 10 minutes. Stir the mushroom soup and half-and-half into the mixture until completely combined; spoon over the chicken pieces.')"
        },
        "execution_count": 23,
        "metadata": {},
        "output_type": "execute_result"
       }
      ],
      "source": "step1.description()",
      "start_time": "2020-08-26T16:35:03.205Z"
     },
     {
      "end_time": "2020-08-26T16:38:19.830Z",
      "execution_time": "4ms",
      "outputs": [
       {
        "data": {
         "text/plain": "rdflib.term.Literal('Melt the butter in a skillet over medium heat. Add the apple and onion to the melted butter, season with the curry powder, and cook and stir until the apple and onion are tender, 7 to 10 minutes. Stir the mushroom soup and half-and-half into the mixture until completely combined; spoon over the chicken pieces.')"
        },
        "execution_count": 8,
        "metadata": {},
        "output_type": "execute_result"
       }
      ],
      "source": "step1.description()",
      "start_time": "2020-08-26T16:38:19.826Z"
     },
     {
      "end_time": "2020-08-26T16:40:58.839Z",
      "execution_time": "4ms",
      "outputs": [
       {
        "data": {
         "text/plain": "rdflib.term.Literal('Melt the butter in a skillet over medium heat. Add the apple and onion to the melted butter, season with the curry powder, and cook and stir until the apple and onion are tender, 7 to 10 minutes. Stir the mushroom soup and half-and-half into the mixture until completely combined; spoon over the chicken pieces.')"
        },
        "execution_count": 8,
        "metadata": {},
        "output_type": "execute_result"
       }
      ],
      "source": "step1.description()",
      "start_time": "2020-08-26T16:40:58.835Z"
     },
     {
      "end_time": "2020-08-26T16:43:40.395Z",
      "execution_time": "5ms",
      "outputs": [
       {
        "data": {
         "text/plain": "rdflib.term.Literal('Melt the butter in a skillet over medium heat. Add the apple and onion to the melted butter, season with the curry powder, and cook and stir until the apple and onion are tender, 7 to 10 minutes. Stir the mushroom soup and half-and-half into the mixture until completely combined; spoon over the chicken pieces.')"
        },
        "execution_count": 27,
        "metadata": {},
        "output_type": "execute_result"
       }
      ],
      "source": "step1.description()",
      "start_time": "2020-08-26T16:43:40.390Z"
     },
     {
      "end_time": "2020-08-26T17:00:43.512Z",
      "execution_time": "5ms",
      "outputs": [
       {
        "data": {
         "text/plain": "rdflib.term.Literal('Melt the butter in a skillet over medium heat. Add the apple and onion to the melted butter, season with the curry powder, and cook and stir until the apple and onion are tender, 7 to 10 minutes. Stir the mushroom soup and half-and-half into the mixture until completely combined; spoon over the chicken pieces.')"
        },
        "execution_count": 8,
        "metadata": {},
        "output_type": "execute_result"
       }
      ],
      "source": "step1.description()",
      "start_time": "2020-08-26T17:00:43.507Z"
     }
    ]
   },
   "outputs": [
    {
     "data": {
      "text/plain": [
       "rdflib.term.Literal('Preheat an oven to 350 degrees F (175 degrees C).')"
      ]
     },
     "execution_count": 6,
     "metadata": {},
     "output_type": "execute_result"
    }
   ],
   "source": [
    "step.description"
   ]
  },
  {
   "cell_type": "code",
   "execution_count": 7,
   "metadata": {
    "ExecutionTime": {
     "end_time": "2020-08-26T17:00:43.563345Z",
     "start_time": "2020-08-26T17:00:43.559561Z"
    },
    "provenance": [
     {
      "end_time": "Unknown",
      "execution_time": "Unknown",
      "outputs": [],
      "source": "",
      "start_time": "Unknown"
     },
     {
      "end_time": "2020-08-26T15:27:40.821Z",
      "execution_time": "5ms",
      "outputs": [
       {
        "data": {
         "text/plain": "True"
        },
        "execution_count": 8,
        "metadata": {},
        "output_type": "execute_result"
       }
      ],
      "source": "step1.is_manual_task()",
      "start_time": "2020-08-26T15:27:40.816Z"
     },
     {
      "end_time": "2020-08-26T15:27:56.208Z",
      "execution_time": "4ms",
      "outputs": [
       {
        "data": {
         "text/plain": "False"
        },
        "execution_count": 15,
        "metadata": {},
        "output_type": "execute_result"
       }
      ],
      "source": "step1.is_manual_task()",
      "start_time": "2020-08-26T15:27:56.204Z"
     },
     {
      "end_time": "2020-08-26T15:28:05.648Z",
      "execution_time": "4ms",
      "outputs": [
       {
        "data": {
         "text/plain": "True"
        },
        "execution_count": 22,
        "metadata": {},
        "output_type": "execute_result"
       }
      ],
      "source": "step1.is_manual_task()",
      "start_time": "2020-08-26T15:28:05.644Z"
     },
     {
      "end_time": "2020-08-26T15:32:46.872Z",
      "execution_time": "5ms",
      "outputs": [
       {
        "data": {
         "text/plain": "True"
        },
        "execution_count": 8,
        "metadata": {},
        "output_type": "execute_result"
       }
      ],
      "source": "step1.is_manual_task()",
      "start_time": "2020-08-26T15:32:46.867Z"
     },
     {
      "end_time": "2020-08-26T15:50:45.430Z",
      "execution_time": "4ms",
      "outputs": [
       {
        "data": {
         "text/plain": "True"
        },
        "execution_count": 8,
        "metadata": {},
        "output_type": "execute_result"
       }
      ],
      "source": "step1.is_manual_task()",
      "start_time": "2020-08-26T15:50:45.426Z"
     },
     {
      "end_time": "2020-08-26T16:25:45.372Z",
      "execution_time": "5ms",
      "outputs": [
       {
        "data": {
         "text/plain": "True"
        },
        "execution_count": 9,
        "metadata": {},
        "output_type": "execute_result"
       }
      ],
      "source": "step1.is_manual_task()",
      "start_time": "2020-08-26T16:25:45.367Z"
     },
     {
      "end_time": "2020-08-26T16:30:26.043Z",
      "execution_time": "4ms",
      "outputs": [
       {
        "data": {
         "text/plain": "True"
        },
        "execution_count": 12,
        "metadata": {},
        "output_type": "execute_result"
       }
      ],
      "source": "step1.is_manual_task()",
      "start_time": "2020-08-26T16:30:26.039Z"
     },
     {
      "end_time": "2020-08-26T16:31:50.094Z",
      "execution_time": "4ms",
      "outputs": [
       {
        "data": {
         "text/plain": "True"
        },
        "execution_count": 9,
        "metadata": {},
        "output_type": "execute_result"
       }
      ],
      "source": "step1.is_manual_task()",
      "start_time": "2020-08-26T16:31:50.090Z"
     },
     {
      "end_time": "2020-08-26T16:32:34.783Z",
      "execution_time": "4ms",
      "outputs": [
       {
        "data": {
         "text/plain": "True"
        },
        "execution_count": 9,
        "metadata": {},
        "output_type": "execute_result"
       }
      ],
      "source": "step1.is_manual_task()",
      "start_time": "2020-08-26T16:32:34.779Z"
     },
     {
      "end_time": "2020-08-26T16:35:03.294Z",
      "execution_time": "3ms",
      "outputs": [
       {
        "data": {
         "text/plain": "True"
        },
        "execution_count": 24,
        "metadata": {},
        "output_type": "execute_result"
       }
      ],
      "source": "step1.is_manual_task()",
      "start_time": "2020-08-26T16:35:03.291Z"
     },
     {
      "end_time": "2020-08-26T16:38:19.839Z",
      "execution_time": "7ms",
      "outputs": [
       {
        "data": {
         "text/plain": "True"
        },
        "execution_count": 9,
        "metadata": {},
        "output_type": "execute_result"
       }
      ],
      "source": "step1.is_manual_task()",
      "start_time": "2020-08-26T16:38:19.832Z"
     },
     {
      "end_time": "2020-08-26T16:40:59.191Z",
      "execution_time": "4ms",
      "outputs": [
       {
        "data": {
         "text/plain": "True"
        },
        "execution_count": 9,
        "metadata": {},
        "output_type": "execute_result"
       }
      ],
      "source": "step1.is_manual_task()",
      "start_time": "2020-08-26T16:40:59.187Z"
     },
     {
      "end_time": "2020-08-26T16:43:40.569Z",
      "execution_time": "4ms",
      "outputs": [
       {
        "data": {
         "text/plain": "True"
        },
        "execution_count": 28,
        "metadata": {},
        "output_type": "execute_result"
       }
      ],
      "source": "step1.is_manual_task()",
      "start_time": "2020-08-26T16:43:40.565Z"
     },
     {
      "end_time": "2020-08-26T17:00:43.563Z",
      "execution_time": "4ms",
      "outputs": [
       {
        "data": {
         "text/plain": "True"
        },
        "execution_count": 9,
        "metadata": {},
        "output_type": "execute_result"
       }
      ],
      "source": "step1.is_manual_task()",
      "start_time": "2020-08-26T17:00:43.559Z"
     }
    ]
   },
   "outputs": [
    {
     "data": {
      "text/plain": [
       "True"
      ]
     },
     "execution_count": 7,
     "metadata": {},
     "output_type": "execute_result"
    }
   ],
   "source": [
    "step.is_manual_task"
   ]
  },
  {
   "cell_type": "code",
   "execution_count": 8,
   "metadata": {
    "ExecutionTime": {
     "end_time": "2020-08-26T17:00:43.736358Z",
     "start_time": "2020-08-26T17:00:43.732358Z"
    },
    "provenance": [
     {
      "end_time": "2020-08-26T15:27:48.242Z",
      "execution_time": "4ms",
      "outputs": [
       {
        "data": {
         "text/plain": "False"
        },
        "execution_count": 9,
        "metadata": {},
        "output_type": "execute_result"
       }
      ],
      "source": "step1.is_script_task()",
      "start_time": "2020-08-26T15:27:48.238Z"
     },
     {
      "end_time": "2020-08-26T15:27:56.353Z",
      "execution_time": "4ms",
      "outputs": [
       {
        "data": {
         "text/plain": "False"
        },
        "execution_count": 16,
        "metadata": {},
        "output_type": "execute_result"
       }
      ],
      "source": "step1.is_script_task()",
      "start_time": "2020-08-26T15:27:56.349Z"
     },
     {
      "end_time": "2020-08-26T15:28:07.120Z",
      "execution_time": "4ms",
      "outputs": [
       {
        "data": {
         "text/plain": "False"
        },
        "execution_count": 23,
        "metadata": {},
        "output_type": "execute_result"
       }
      ],
      "source": "step1.is_script_task()",
      "start_time": "2020-08-26T15:28:07.116Z"
     },
     {
      "end_time": "2020-08-26T15:32:47.751Z",
      "execution_time": "4ms",
      "outputs": [
       {
        "data": {
         "text/plain": "False"
        },
        "execution_count": 9,
        "metadata": {},
        "output_type": "execute_result"
       }
      ],
      "source": "step1.is_script_task()",
      "start_time": "2020-08-26T15:32:47.747Z"
     },
     {
      "end_time": "2020-08-26T15:50:45.993Z",
      "execution_time": "4ms",
      "outputs": [
       {
        "data": {
         "text/plain": "False"
        },
        "execution_count": 9,
        "metadata": {},
        "output_type": "execute_result"
       }
      ],
      "source": "step1.is_script_task()",
      "start_time": "2020-08-26T15:50:45.989Z"
     },
     {
      "end_time": "2020-08-26T15:51:10.188Z",
      "execution_time": "4ms",
      "outputs": [
       {
        "data": {
         "text/plain": "False"
        },
        "execution_count": 16,
        "metadata": {},
        "output_type": "execute_result"
       }
      ],
      "source": "step1.is_script_task()",
      "start_time": "2020-08-26T15:51:10.184Z"
     },
     {
      "end_time": "2020-08-26T16:25:45.748Z",
      "execution_time": "4ms",
      "outputs": [
       {
        "data": {
         "text/plain": "False"
        },
        "execution_count": 10,
        "metadata": {},
        "output_type": "execute_result"
       }
      ],
      "source": "step1.is_script_task()",
      "start_time": "2020-08-26T16:25:45.744Z"
     },
     {
      "end_time": "2020-08-26T16:30:26.762Z",
      "execution_time": "4ms",
      "outputs": [
       {
        "data": {
         "text/plain": "False"
        },
        "execution_count": 13,
        "metadata": {},
        "output_type": "execute_result"
       }
      ],
      "source": "step1.is_script_task()",
      "start_time": "2020-08-26T16:30:26.758Z"
     },
     {
      "end_time": "2020-08-26T16:31:50.589Z",
      "execution_time": "4ms",
      "outputs": [
       {
        "data": {
         "text/plain": "False"
        },
        "execution_count": 10,
        "metadata": {},
        "output_type": "execute_result"
       }
      ],
      "source": "step1.is_script_task()",
      "start_time": "2020-08-26T16:31:50.585Z"
     },
     {
      "end_time": "2020-08-26T16:32:34.926Z",
      "execution_time": "4ms",
      "outputs": [
       {
        "data": {
         "text/plain": "False"
        },
        "execution_count": 10,
        "metadata": {},
        "output_type": "execute_result"
       }
      ],
      "source": "step1.is_script_task()",
      "start_time": "2020-08-26T16:32:34.922Z"
     },
     {
      "end_time": "2020-08-26T16:35:03.471Z",
      "execution_time": "4ms",
      "outputs": [
       {
        "data": {
         "text/plain": "False"
        },
        "execution_count": 25,
        "metadata": {},
        "output_type": "execute_result"
       }
      ],
      "source": "step1.is_script_task()",
      "start_time": "2020-08-26T16:35:03.467Z"
     },
     {
      "end_time": "2020-08-26T16:38:19.853Z",
      "execution_time": "9ms",
      "outputs": [
       {
        "data": {
         "text/plain": "False"
        },
        "execution_count": 10,
        "metadata": {},
        "output_type": "execute_result"
       }
      ],
      "source": "step1.is_script_task()",
      "start_time": "2020-08-26T16:38:19.844Z"
     },
     {
      "end_time": "2020-08-26T16:40:59.463Z",
      "execution_time": "4ms",
      "outputs": [
       {
        "data": {
         "text/plain": "False"
        },
        "execution_count": 10,
        "metadata": {},
        "output_type": "execute_result"
       }
      ],
      "source": "step1.is_script_task()",
      "start_time": "2020-08-26T16:40:59.459Z"
     },
     {
      "end_time": "2020-08-26T16:43:40.761Z",
      "execution_time": "4ms",
      "outputs": [
       {
        "data": {
         "text/plain": "False"
        },
        "execution_count": 29,
        "metadata": {},
        "output_type": "execute_result"
       }
      ],
      "source": "step1.is_script_task()",
      "start_time": "2020-08-26T16:43:40.757Z"
     },
     {
      "end_time": "2020-08-26T17:00:43.736Z",
      "execution_time": "4ms",
      "outputs": [
       {
        "data": {
         "text/plain": "False"
        },
        "execution_count": 10,
        "metadata": {},
        "output_type": "execute_result"
       }
      ],
      "source": "step1.is_script_task()",
      "start_time": "2020-08-26T17:00:43.732Z"
     }
    ]
   },
   "outputs": [
    {
     "data": {
      "text/plain": [
       "False"
      ]
     },
     "execution_count": 8,
     "metadata": {},
     "output_type": "execute_result"
    }
   ],
   "source": [
    "step.is_script_task"
   ]
  },
  {
   "cell_type": "markdown",
   "metadata": {},
   "source": [
    "# Create a FairWorkflow\n",
    "Then add a few steps to it."
   ]
  },
  {
   "cell_type": "code",
   "execution_count": 9,
   "metadata": {},
   "outputs": [],
   "source": [
    "# Create a workflow\n",
    "workflow = FairWorkflow(description='This is a test workflow.')"
   ]
  },
  {
   "cell_type": "code",
   "execution_count": 10,
   "metadata": {},
   "outputs": [],
   "source": [
    "# Load some steps from nanopublications\n",
    "preheat_oven = FairStep.from_nanopub(uri='http://purl.org/np/RACLlhNijmCk4AX_2PuoBPHKfY1T6jieGaUPVFv-fWCAg#step')\n",
    "melt_butter = FairStep.from_nanopub(uri='http://purl.org/np/RANBLu3UN2ngnjY5Hzrn7S5GpqFdz8_BBy92bDlt991X4#step')\n",
    "arrange_chicken = FairStep.from_nanopub(uri='http://purl.org/np/RA5D8NzM2OXPZAWNlADQ8hZdVu1k0HnmVmgl20apjhU8M#step')"
   ]
  },
  {
   "cell_type": "code",
   "execution_count": 11,
   "metadata": {},
   "outputs": [],
   "source": [
    "# Specify ordering of steps\n",
    "workflow.add(melt_butter, follows=preheat_oven)\n",
    "workflow.add(arrange_chicken, follows=melt_butter)"
   ]
  },
  {
   "cell_type": "code",
   "execution_count": 12,
   "metadata": {},
   "outputs": [
    {
     "ename": "AssertionError",
     "evalue": "Plan RDF has no rdfs:label\nPlan RDF does not specify a first step (pwo:hasFirstStep)\n",
     "output_type": "error",
     "traceback": [
      "\u001b[0;31m---------------------------------------------------------------------------\u001b[0m",
      "\u001b[0;31mAssertionError\u001b[0m                            Traceback (most recent call last)",
      "\u001b[0;32m<ipython-input-12-601fde0b10f3>\u001b[0m in \u001b[0;36m<module>\u001b[0;34m\u001b[0m\n\u001b[1;32m      1\u001b[0m \u001b[0;31m# Does it validate? No.\u001b[0m\u001b[0;34m\u001b[0m\u001b[0;34m\u001b[0m\u001b[0;34m\u001b[0m\u001b[0m\n\u001b[0;32m----> 2\u001b[0;31m \u001b[0mworkflow\u001b[0m\u001b[0;34m.\u001b[0m\u001b[0mvalidate\u001b[0m\u001b[0;34m(\u001b[0m\u001b[0;34m)\u001b[0m\u001b[0;34m\u001b[0m\u001b[0;34m\u001b[0m\u001b[0m\n\u001b[0m",
      "\u001b[0;32m~/projects/fair-workflows/fairworkflows/fairworkflows/fairworkflow.py\u001b[0m in \u001b[0;36mvalidate\u001b[0;34m(self, shacl)\u001b[0m\n\u001b[1;32m    337\u001b[0m             \u001b[0mconforms\u001b[0m \u001b[0;34m=\u001b[0m \u001b[0;32mFalse\u001b[0m\u001b[0;34m\u001b[0m\u001b[0;34m\u001b[0m\u001b[0m\n\u001b[1;32m    338\u001b[0m \u001b[0;34m\u001b[0m\u001b[0m\n\u001b[0;32m--> 339\u001b[0;31m         \u001b[0;32massert\u001b[0m \u001b[0mconforms\u001b[0m\u001b[0;34m,\u001b[0m \u001b[0mlog\u001b[0m\u001b[0;34m\u001b[0m\u001b[0;34m\u001b[0m\u001b[0m\n\u001b[0m\u001b[1;32m    340\u001b[0m \u001b[0;34m\u001b[0m\u001b[0m\n\u001b[1;32m    341\u001b[0m         \u001b[0;31m# Now validate against the PLEX shacl shapes file, if requested\u001b[0m\u001b[0;34m\u001b[0m\u001b[0;34m\u001b[0m\u001b[0;34m\u001b[0m\u001b[0m\n",
      "\u001b[0;31mAssertionError\u001b[0m: Plan RDF has no rdfs:label\nPlan RDF does not specify a first step (pwo:hasFirstStep)\n"
     ]
    }
   ],
   "source": [
    "# Does it validate? No.\n",
    "workflow.validate()"
   ]
  },
  {
   "cell_type": "code",
   "execution_count": null,
   "metadata": {},
   "outputs": [],
   "source": [
    "# Specify the first step in the plan\n",
    "workflow.first_step = preheat_oven"
   ]
  },
  {
   "cell_type": "code",
   "execution_count": 13,
   "metadata": {},
   "outputs": [
    {
     "name": "stdout",
     "output_type": "stream",
     "text": [
      "Workflow URI = None\n",
      "@prefix dul: <http://www.ontologydesignpatterns.org/ont/dul/DUL.owl#> .\n",
      "@prefix ns1: <http://purl.org/dc/terms/> .\n",
      "@prefix pplan: <http://purl.org/net/p-plan#> .\n",
      "\n",
      "_:N7b70916165194872ad41bb45d5ad9dd5 {\n",
      "    <http://purl.org/np/RACLlhNijmCk4AX_2PuoBPHKfY1T6jieGaUPVFv-fWCAg#step> pplan:isStepOfPlan _:plan ;\n",
      "        dul:precedes <http://purl.org/np/RANBLu3UN2ngnjY5Hzrn7S5GpqFdz8_BBy92bDlt991X4#step> .\n",
      "\n",
      "    <http://purl.org/np/RA5D8NzM2OXPZAWNlADQ8hZdVu1k0HnmVmgl20apjhU8M#step> pplan:isStepOfPlan _:plan .\n",
      "\n",
      "    <http://purl.org/np/RANBLu3UN2ngnjY5Hzrn7S5GpqFdz8_BBy92bDlt991X4#step> pplan:isStepOfPlan _:plan ;\n",
      "        dul:precedes <http://purl.org/np/RA5D8NzM2OXPZAWNlADQ8hZdVu1k0HnmVmgl20apjhU8M#step> .\n",
      "\n",
      "    _:plan a pplan:Plan ;\n",
      "        ns1:description \"This is a test workflow.\" .\n",
      "}\n",
      "\n",
      "\n"
     ]
    }
   ],
   "source": [
    "# Print workflow rdf\n",
    "print(workflow)"
   ]
  },
  {
   "cell_type": "code",
   "execution_count": 14,
   "metadata": {},
   "outputs": [],
   "source": [
    "# Validate the workflow rdf with the plex shape file\n",
    "workflow.shacl_validate()"
   ]
  },
  {
   "cell_type": "code",
   "execution_count": 15,
   "metadata": {},
   "outputs": [],
   "source": [
    "# Validate the step rdf with the plex shape file\n",
    "workflow.shacl_validate()"
   ]
  },
  {
   "cell_type": "code",
   "execution_count": 16,
   "metadata": {},
   "outputs": [],
   "source": [
    "preheat_oven.shacl_validate()"
   ]
  },
  {
   "cell_type": "code",
   "execution_count": 18,
   "metadata": {},
   "outputs": [
    {
     "data": {
      "image/svg+xml": [
       "<?xml version=\"1.0\" encoding=\"UTF-8\" standalone=\"no\"?>\n",
       "<!DOCTYPE svg PUBLIC \"-//W3C//DTD SVG 1.1//EN\"\n",
       " \"http://www.w3.org/Graphics/SVG/1.1/DTD/svg11.dtd\">\n",
       "<!-- Generated by graphviz version 2.44.1 (20200629.0846)\n",
       " -->\n",
       "<!-- Pages: 1 -->\n",
       "<svg width=\"741pt\" height=\"451pt\"\n",
       " viewBox=\"0.00 0.00 740.50 451.00\" xmlns=\"http://www.w3.org/2000/svg\" xmlns:xlink=\"http://www.w3.org/1999/xlink\">\n",
       "<g id=\"graph0\" class=\"graph\" transform=\"scale(1 1) rotate(0) translate(4 447)\">\n",
       "<polygon fill=\"white\" stroke=\"transparent\" points=\"-4,4 -4,-447 736.5,-447 736.5,4 -4,4\"/>\n",
       "<!-- node0 -->\n",
       "<g id=\"node1\" class=\"node\">\n",
       "<title>node0</title>\n",
       "<polygon fill=\"grey\" stroke=\"transparent\" points=\"9.5,-419 9.5,-438 370.5,-438 370.5,-419 9.5,-419\"/>\n",
       "<text text-anchor=\"start\" x=\"176\" y=\"-425.8\" font-family=\"DejaVu Sans\" font-weight=\"bold\" font-size=\"14.00\">step</text>\n",
       "<g id=\"a_node1_0\"><a xlink:href=\"http://purl.org/np/RACLlhNijmCk4AX_2PuoBPHKfY1T6jieGaUPVFv-fWCAg#step\" xlink:title=\"&lt;TABLE&gt;\">\n",
       "<polygon fill=\"#eeeeee\" stroke=\"transparent\" points=\"9.5,-404 9.5,-419 370.5,-419 370.5,-404 9.5,-404\"/>\n",
       "<text text-anchor=\"start\" x=\"11.5\" y=\"-409\" font-family=\"DejaVu Sans\" font-size=\"10.00\" fill=\"#6666ff\">http://purl.org/np/RACLlhNijmCk4AX_2PuoBPHKfY1T6jieGaUPVFv&#45;fWCAg#step</text>\n",
       "</a>\n",
       "</g>\n",
       "<polygon fill=\"none\" stroke=\"#666666\" points=\"8,-403 8,-439 371,-439 371,-403 8,-403\"/>\n",
       "</g>\n",
       "<!-- node1 -->\n",
       "<g id=\"node2\" class=\"node\">\n",
       "<title>node1</title>\n",
       "<polygon fill=\"grey\" stroke=\"transparent\" points=\"107.5,-133.5 107.5,-152.5 353.5,-152.5 353.5,-133.5 107.5,-133.5\"/>\n",
       "<text text-anchor=\"start\" x=\"216.5\" y=\"-140.3\" font-family=\"DejaVu Sans\" font-weight=\"bold\" font-size=\"14.00\">plan</text>\n",
       "<g id=\"a_node2_1\"><a xlink:href=\"plan\" xlink:title=\"&lt;TABLE&gt;\">\n",
       "<polygon fill=\"#eeeeee\" stroke=\"transparent\" points=\"107.5,-118.5 107.5,-133.5 353.5,-133.5 353.5,-118.5 107.5,-118.5\"/>\n",
       "<text text-anchor=\"start\" x=\"221\" y=\"-123.5\" font-family=\"DejaVu Sans\" font-size=\"10.00\" fill=\"#6666ff\">plan</text>\n",
       "</a>\n",
       "</g>\n",
       "<text text-anchor=\"start\" x=\"109.5\" y=\"-105.3\" font-family=\"DejaVu Sans\" font-size=\"14.00\">ns1:description</text>\n",
       "<text text-anchor=\"start\" x=\"204.5\" y=\"-105.3\" font-family=\"DejaVu Sans\" font-size=\"14.00\">&quot;This is a test workflow.&quot;</text>\n",
       "<polygon fill=\"none\" stroke=\"#666666\" points=\"106.5,-99 106.5,-154 354.5,-154 354.5,-99 106.5,-99\"/>\n",
       "</g>\n",
       "<!-- node0&#45;&gt;node1 -->\n",
       "<g id=\"edge1\" class=\"edge\">\n",
       "<title>node0&#45;&gt;node1</title>\n",
       "<path fill=\"none\" stroke=\"BLACK\" d=\"M172.61,-398.73C162.88,-385.09 151.61,-366.53 146.5,-348 141.3,-329.15 142.6,-323.16 146.5,-304 156.71,-253.78 184.1,-201.4 204.85,-166.87\"/>\n",
       "<polygon fill=\"BLACK\" stroke=\"BLACK\" points=\"208.01,-168.42 210.24,-158.06 202.04,-164.77 208.01,-168.42\"/>\n",
       "<text text-anchor=\"start\" x=\"155.5\" y=\"-275.8\" font-family=\"Times,serif\" font-size=\"14.00\"> </text>\n",
       "<text text-anchor=\"start\" x=\"159.5\" y=\"-275.8\" font-family=\"Times,serif\" font-size=\"10.00\" fill=\"#336633\">pplan:isStepOfPlan</text>\n",
       "<text text-anchor=\"start\" x=\"239.5\" y=\"-275.8\" font-family=\"Times,serif\" font-size=\"14.00\"> </text>\n",
       "</g>\n",
       "<!-- node3 -->\n",
       "<g id=\"node4\" class=\"node\">\n",
       "<title>node3</title>\n",
       "<polygon fill=\"grey\" stroke=\"transparent\" points=\"164.5,-324 164.5,-343 520.5,-343 520.5,-324 164.5,-324\"/>\n",
       "<text text-anchor=\"start\" x=\"328.5\" y=\"-330.8\" font-family=\"DejaVu Sans\" font-weight=\"bold\" font-size=\"14.00\">step</text>\n",
       "<g id=\"a_node4_2\"><a xlink:href=\"http://purl.org/np/RANBLu3UN2ngnjY5Hzrn7S5GpqFdz8_BBy92bDlt991X4#step\" xlink:title=\"&lt;TABLE&gt;\">\n",
       "<polygon fill=\"#eeeeee\" stroke=\"transparent\" points=\"164.5,-309 164.5,-324 520.5,-324 520.5,-309 164.5,-309\"/>\n",
       "<text text-anchor=\"start\" x=\"166.5\" y=\"-314\" font-family=\"DejaVu Sans\" font-size=\"10.00\" fill=\"#6666ff\">http://purl.org/np/RANBLu3UN2ngnjY5Hzrn7S5GpqFdz8_BBy92bDlt991X4#step</text>\n",
       "</a>\n",
       "</g>\n",
       "<polygon fill=\"none\" stroke=\"#666666\" points=\"163.5,-308 163.5,-344 521.5,-344 521.5,-308 163.5,-308\"/>\n",
       "</g>\n",
       "<!-- node0&#45;&gt;node3 -->\n",
       "<g id=\"edge6\" class=\"edge\">\n",
       "<title>node0&#45;&gt;node3</title>\n",
       "<path fill=\"none\" stroke=\"BLACK\" d=\"M224.22,-398.9C246.42,-385.4 275.4,-367.79 299.11,-353.37\"/>\n",
       "<polygon fill=\"BLACK\" stroke=\"BLACK\" points=\"301.19,-356.2 307.92,-348.02 297.56,-350.22 301.19,-356.2\"/>\n",
       "<text text-anchor=\"start\" x=\"274.5\" y=\"-370.8\" font-family=\"Times,serif\" font-size=\"14.00\"> </text>\n",
       "<text text-anchor=\"start\" x=\"278.5\" y=\"-370.8\" font-family=\"Times,serif\" font-size=\"10.00\" fill=\"#336633\">dul:precedes</text>\n",
       "<text text-anchor=\"start\" x=\"330.5\" y=\"-370.8\" font-family=\"Times,serif\" font-size=\"14.00\"> </text>\n",
       "</g>\n",
       "<!-- node2 -->\n",
       "<g id=\"node3\" class=\"node\">\n",
       "<title>node2</title>\n",
       "<polygon fill=\"grey\" stroke=\"transparent\" points=\"164.5,-20 164.5,-39 297.5,-39 297.5,-20 164.5,-20\"/>\n",
       "<text text-anchor=\"start\" x=\"216.5\" y=\"-26.8\" font-family=\"DejaVu Sans\" font-weight=\"bold\" font-size=\"14.00\">Plan</text>\n",
       "<g id=\"a_node3_3\"><a xlink:href=\"http://purl.org/net/p-plan#Plan\" xlink:title=\"&lt;TABLE&gt;\">\n",
       "<polygon fill=\"#eeeeee\" stroke=\"transparent\" points=\"164.5,-5 164.5,-20 297.5,-20 297.5,-5 164.5,-5\"/>\n",
       "<text text-anchor=\"start\" x=\"166.5\" y=\"-10\" font-family=\"DejaVu Sans\" font-size=\"10.00\" fill=\"#6666ff\">http://purl.org/net/p&#45;plan#Plan</text>\n",
       "</a>\n",
       "</g>\n",
       "<polygon fill=\"none\" stroke=\"#666666\" points=\"163,-4 163,-40 298,-40 298,-4 163,-4\"/>\n",
       "</g>\n",
       "<!-- node1&#45;&gt;node2 -->\n",
       "<g id=\"edge2\" class=\"edge\">\n",
       "<title>node1&#45;&gt;node2</title>\n",
       "<path fill=\"none\" stroke=\"BLACK\" d=\"M230.5,-94.75C230.5,-82.03 230.5,-67.3 230.5,-54.51\"/>\n",
       "<polygon fill=\"BLACK\" stroke=\"BLACK\" points=\"234,-54.3 230.5,-44.3 227,-54.3 234,-54.3\"/>\n",
       "<text text-anchor=\"start\" x=\"230.5\" y=\"-66.8\" font-family=\"Times,serif\" font-size=\"14.00\"> </text>\n",
       "<text text-anchor=\"start\" x=\"234.5\" y=\"-66.8\" font-family=\"Times,serif\" font-size=\"10.00\" fill=\"#336633\">rdf:type</text>\n",
       "<text text-anchor=\"start\" x=\"267.5\" y=\"-66.8\" font-family=\"Times,serif\" font-size=\"14.00\"> </text>\n",
       "</g>\n",
       "<!-- node3&#45;&gt;node1 -->\n",
       "<g id=\"edge3\" class=\"edge\">\n",
       "<title>node3&#45;&gt;node1</title>\n",
       "<path fill=\"none\" stroke=\"BLACK\" d=\"M295.25,-303.85C274.5,-292 252.04,-275.11 239.5,-253 225.05,-227.54 223.26,-194.33 224.84,-168.48\"/>\n",
       "<polygon fill=\"BLACK\" stroke=\"BLACK\" points=\"228.35,-168.49 225.66,-158.25 221.37,-167.94 228.35,-168.49\"/>\n",
       "<text text-anchor=\"start\" x=\"239.5\" y=\"-228.3\" font-family=\"Times,serif\" font-size=\"14.00\"> </text>\n",
       "<text text-anchor=\"start\" x=\"243.5\" y=\"-228.3\" font-family=\"Times,serif\" font-size=\"10.00\" fill=\"#336633\">pplan:isStepOfPlan</text>\n",
       "<text text-anchor=\"start\" x=\"323.5\" y=\"-228.3\" font-family=\"Times,serif\" font-size=\"14.00\"> </text>\n",
       "</g>\n",
       "<!-- node4 -->\n",
       "<g id=\"node5\" class=\"node\">\n",
       "<title>node4</title>\n",
       "<polygon fill=\"grey\" stroke=\"transparent\" points=\"345.5,-229 345.5,-248 723.5,-248 723.5,-229 345.5,-229\"/>\n",
       "<text text-anchor=\"start\" x=\"520.5\" y=\"-235.8\" font-family=\"DejaVu Sans\" font-weight=\"bold\" font-size=\"14.00\">step</text>\n",
       "<g id=\"a_node5_4\"><a xlink:href=\"http://purl.org/np/RA5D8NzM2OXPZAWNlADQ8hZdVu1k0HnmVmgl20apjhU8M#step\" xlink:title=\"&lt;TABLE&gt;\">\n",
       "<polygon fill=\"#eeeeee\" stroke=\"transparent\" points=\"345.5,-214 345.5,-229 723.5,-229 723.5,-214 345.5,-214\"/>\n",
       "<text text-anchor=\"start\" x=\"347.5\" y=\"-219\" font-family=\"DejaVu Sans\" font-size=\"10.00\" fill=\"#6666ff\">http://purl.org/np/RA5D8NzM2OXPZAWNlADQ8hZdVu1k0HnmVmgl20apjhU8M#step</text>\n",
       "</a>\n",
       "</g>\n",
       "<polygon fill=\"none\" stroke=\"#666666\" points=\"344.5,-213 344.5,-249 724.5,-249 724.5,-213 344.5,-213\"/>\n",
       "</g>\n",
       "<!-- node3&#45;&gt;node4 -->\n",
       "<g id=\"edge5\" class=\"edge\">\n",
       "<title>node3&#45;&gt;node4</title>\n",
       "<path fill=\"none\" stroke=\"BLACK\" d=\"M386.07,-303.9C414.54,-290.1 451.9,-272.01 482.01,-257.42\"/>\n",
       "<polygon fill=\"BLACK\" stroke=\"BLACK\" points=\"483.63,-260.53 491.1,-253.02 480.58,-254.23 483.63,-260.53\"/>\n",
       "<text text-anchor=\"start\" x=\"449.5\" y=\"-275.8\" font-family=\"Times,serif\" font-size=\"14.00\"> </text>\n",
       "<text text-anchor=\"start\" x=\"453.5\" y=\"-275.8\" font-family=\"Times,serif\" font-size=\"10.00\" fill=\"#336633\">dul:precedes</text>\n",
       "<text text-anchor=\"start\" x=\"505.5\" y=\"-275.8\" font-family=\"Times,serif\" font-size=\"14.00\"> </text>\n",
       "</g>\n",
       "<!-- node4&#45;&gt;node1 -->\n",
       "<g id=\"edge4\" class=\"edge\">\n",
       "<title>node4&#45;&gt;node1</title>\n",
       "<path fill=\"none\" stroke=\"BLACK\" d=\"M471.88,-208.89C431.15,-195.15 377.13,-176.94 330.53,-161.23\"/>\n",
       "<polygon fill=\"BLACK\" stroke=\"BLACK\" points=\"331.6,-157.89 321.01,-158.02 329.36,-164.53 331.6,-157.89\"/>\n",
       "<text text-anchor=\"start\" x=\"418.5\" y=\"-180.8\" font-family=\"Times,serif\" font-size=\"14.00\"> </text>\n",
       "<text text-anchor=\"start\" x=\"422.5\" y=\"-180.8\" font-family=\"Times,serif\" font-size=\"10.00\" fill=\"#336633\">pplan:isStepOfPlan</text>\n",
       "<text text-anchor=\"start\" x=\"502.5\" y=\"-180.8\" font-family=\"Times,serif\" font-size=\"14.00\"> </text>\n",
       "</g>\n",
       "</g>\n",
       "</svg>\n"
      ],
      "text/plain": [
       "<graphviz.files.Source at 0x7fc104fc87f0>"
      ]
     },
     "execution_count": 18,
     "metadata": {},
     "output_type": "execute_result"
    }
   ],
   "source": [
    "# What does the graph look like?\n",
    "workflow.display()"
   ]
  },
  {
   "cell_type": "markdown",
   "metadata": {},
   "source": [
    "# What if we want to add computational steps?\n",
    "You can convert a python function to a FairStep and add it to the plex workflow."
   ]
  },
  {
   "cell_type": "code",
   "execution_count": 19,
   "metadata": {},
   "outputs": [],
   "source": [
    "# Define your computational step as a function\n",
    "def a_computational_step(x, y):\n",
    "    \"\"\"A test function that adds two numbers\"\"\"\n",
    "    return x + y"
   ]
  },
  {
   "cell_type": "code",
   "execution_count": 20,
   "metadata": {},
   "outputs": [],
   "source": [
    "# Make it a FairStep and add it to the workflow\n",
    "new_step = FairStep.from_function(a_computational_step)\n",
    "workflow.add(new_step)"
   ]
  },
  {
   "cell_type": "markdown",
   "metadata": {},
   "source": [
    "# Alternatively, use the @fairstep decorator\n",
    "Use the decorator on any function that defines a computational step you wish to carry out. Each time it is called, a FairStep describing that step will be created and added to the plex workflow. This includes any input variables and their values."
   ]
  },
  {
   "cell_type": "code",
   "execution_count": 21,
   "metadata": {
    "ExecutionTime": {
     "end_time": "2020-08-26T17:00:44.103279Z",
     "start_time": "2020-08-26T17:00:44.099215Z"
    },
    "provenance": [
     {
      "end_time": "Unknown",
      "execution_time": "Unknown",
      "outputs": [],
      "source": "",
      "start_time": "Unknown"
     },
     {
      "end_time": "2020-08-26T16:30:40.506Z",
      "execution_time": "129ms",
      "outputs": [
       {
        "ename": "AttributeError",
        "evalue": "'FairStep' object has no attribute 'uri'",
        "output_type": "error",
        "traceback": [
         "\u001b[0;31m---------------------------------------------------------------------------\u001b[0m",
         "\u001b[0;31mAttributeError\u001b[0m                            Traceback (most recent call last)",
         "\u001b[0;32m<ipython-input-15-29754db2b68d>\u001b[0m in \u001b[0;36m<module>\u001b[0;34m\u001b[0m\n\u001b[0;32m----> 1\u001b[0;31m \u001b[0mworkflow\u001b[0m\u001b[0;34m.\u001b[0m\u001b[0mset_first_step\u001b[0m\u001b[0;34m(\u001b[0m\u001b[0mstep1\u001b[0m\u001b[0;34m)\u001b[0m\u001b[0;34m\u001b[0m\u001b[0;34m\u001b[0m\u001b[0m\n\u001b[0m",
         "\u001b[0;32m~/code/FAIRWorkbench/fairworkflows/fairworkflow.py\u001b[0m in \u001b[0;36mset_first_step\u001b[0;34m(self, step)\u001b[0m\n\u001b[1;32m     18\u001b[0m \u001b[0;34m\u001b[0m\u001b[0m\n\u001b[1;32m     19\u001b[0m     \u001b[0;32mdef\u001b[0m \u001b[0mset_first_step\u001b[0m\u001b[0;34m(\u001b[0m\u001b[0mself\u001b[0m\u001b[0;34m,\u001b[0m \u001b[0mstep\u001b[0m\u001b[0;34m:\u001b[0m\u001b[0mFairStep\u001b[0m\u001b[0;34m)\u001b[0m\u001b[0;34m:\u001b[0m\u001b[0;34m\u001b[0m\u001b[0;34m\u001b[0m\u001b[0m\n\u001b[0;32m---> 20\u001b[0;31m         \u001b[0mself\u001b[0m\u001b[0;34m.\u001b[0m\u001b[0m_rdf\u001b[0m\u001b[0;34m.\u001b[0m\u001b[0madd\u001b[0m\u001b[0;34m(\u001b[0m \u001b[0;34m(\u001b[0m\u001b[0mself\u001b[0m\u001b[0;34m.\u001b[0m\u001b[0mthis_plan\u001b[0m\u001b[0;34m,\u001b[0m \u001b[0mNanopub\u001b[0m\u001b[0;34m.\u001b[0m\u001b[0mPWO\u001b[0m\u001b[0;34m.\u001b[0m\u001b[0mhasFirstStep\u001b[0m\u001b[0;34m,\u001b[0m \u001b[0mstep\u001b[0m\u001b[0;34m.\u001b[0m\u001b[0muri\u001b[0m\u001b[0;34m)\u001b[0m \u001b[0;34m)\u001b[0m\u001b[0;34m\u001b[0m\u001b[0;34m\u001b[0m\u001b[0m\n\u001b[0m\u001b[1;32m     21\u001b[0m \u001b[0;34m\u001b[0m\u001b[0m\n\u001b[1;32m     22\u001b[0m     \u001b[0;32mdef\u001b[0m \u001b[0madd_step\u001b[0m\u001b[0;34m(\u001b[0m\u001b[0mself\u001b[0m\u001b[0;34m,\u001b[0m \u001b[0mnew_step\u001b[0m\u001b[0;34m,\u001b[0m \u001b[0mprecedes_step\u001b[0m\u001b[0;34m)\u001b[0m\u001b[0;34m:\u001b[0m\u001b[0;34m\u001b[0m\u001b[0;34m\u001b[0m\u001b[0m\n",
         "\u001b[0;31mAttributeError\u001b[0m: 'FairStep' object has no attribute 'uri'"
        ]
       }
      ],
      "source": "workflow.set_first_step(step1)",
      "start_time": "2020-08-26T16:30:40.377Z"
     },
     {
      "end_time": "2020-08-26T16:31:52.812Z",
      "execution_time": "3ms",
      "outputs": [],
      "source": "workflow.set_first_step(step1)",
      "start_time": "2020-08-26T16:31:52.809Z"
     },
     {
      "end_time": "2020-08-26T16:32:03.853Z",
      "execution_time": "4ms",
      "outputs": [
       {
        "name": "stdout",
        "output_type": "stream",
        "text": "Workflow URI = http://purl.org/nanopub/temp/mynanopub#plan\n@prefix ns1: <http://purl.org/dc/terms/> .\n@prefix ns2: <http://purl.org/spar/pwo#> .\n\n_:N7155822cf92641f88e2644e5db3fdb70 {\n    <http://purl.org/nanopub/temp/mynanopub#plan> a <http://purl.org/net/p-plan#Plan> ;\n        ns1:description \"A test workflow.\" ;\n        ns2:hasFirstStep <http://purl.org/np/RANBLu3UN2ngnjY5Hzrn7S5GpqFdz8_BBy92bDlt991X4#step> .\n}\n\n\n"
       }
      ],
      "source": "workflow.set_first_step(step1)\nprint(workflow)",
      "start_time": "2020-08-26T16:32:03.849Z"
     },
     {
      "end_time": "2020-08-26T16:32:37.197Z",
      "execution_time": "4ms",
      "outputs": [
       {
        "name": "stdout",
        "output_type": "stream",
        "text": "Workflow URI = http://purl.org/nanopub/temp/mynanopub#plan\n@prefix ns1: <http://purl.org/dc/terms/> .\n@prefix ns2: <http://purl.org/spar/pwo#> .\n\n_:Neb53e22d50a241f38b6e6c2c3de82b12 {\n    <http://purl.org/nanopub/temp/mynanopub#plan> a <http://purl.org/net/p-plan#Plan> ;\n        ns1:description \"A test workflow.\" ;\n        ns2:hasFirstStep <http://purl.org/np/RANBLu3UN2ngnjY5Hzrn7S5GpqFdz8_BBy92bDlt991X4#step> .\n}\n\n\n"
       }
      ],
      "source": "workflow.set_first_step(step1)\nprint(workflow)",
      "start_time": "2020-08-26T16:32:37.193Z"
     },
     {
      "end_time": "2020-08-26T16:35:04.450Z",
      "execution_time": "4ms",
      "outputs": [
       {
        "name": "stdout",
        "output_type": "stream",
        "text": "Workflow URI = http://purl.org/nanopub/temp/mynanopub#plan\n@prefix ns1: <http://purl.org/dc/terms/> .\n@prefix ns2: <http://purl.org/spar/pwo#> .\n\n_:Ncbfc3476a1df46f1946737fbb70d6fe8 {\n    <http://purl.org/nanopub/temp/mynanopub#plan> a <http://purl.org/net/p-plan#Plan> ;\n        ns1:description \"A test workflow.\" ;\n        ns2:hasFirstStep <http://purl.org/np/RANBLu3UN2ngnjY5Hzrn7S5GpqFdz8_BBy92bDlt991X4#step> .\n}\n\n\n"
       }
      ],
      "source": "workflow.set_first_step(step1)\nprint(workflow)",
      "start_time": "2020-08-26T16:35:04.446Z"
     },
     {
      "end_time": "2020-08-26T16:38:20.247Z",
      "execution_time": "4ms",
      "outputs": [
       {
        "name": "stdout",
        "output_type": "stream",
        "text": "Workflow URI = http://purl.org/nanopub/temp/mynanopub#plan\n@prefix ns1: <http://purl.org/dc/terms/> .\n@prefix ns2: <http://purl.org/spar/pwo#> .\n\n_:Nfb4b37ca8ead468e8e5702ec31ca7262 {\n    <http://purl.org/nanopub/temp/mynanopub#plan> a <http://purl.org/net/p-plan#Plan> ;\n        ns1:description \"A test workflow.\" ;\n        ns2:hasFirstStep <http://purl.org/np/RANBLu3UN2ngnjY5Hzrn7S5GpqFdz8_BBy92bDlt991X4#step> .\n}\n\n\n"
       }
      ],
      "source": "workflow.set_first_step(step1)\nprint(workflow)",
      "start_time": "2020-08-26T16:38:20.243Z"
     },
     {
      "end_time": "2020-08-26T16:41:00.966Z",
      "execution_time": "4ms",
      "outputs": [
       {
        "name": "stdout",
        "output_type": "stream",
        "text": "Workflow URI = http://purl.org/nanopub/temp/mynanopub#plan\n@prefix ns1: <http://purl.org/dc/terms/> .\n@prefix ns2: <http://purl.org/spar/pwo#> .\n\n_:N125fb95aab2d44cc98d704c055b4b06b {\n    <http://purl.org/nanopub/temp/mynanopub#plan> a <http://purl.org/net/p-plan#Plan> ;\n        ns1:description \"A test workflow.\" ;\n        ns2:hasFirstStep <http://purl.org/np/RANBLu3UN2ngnjY5Hzrn7S5GpqFdz8_BBy92bDlt991X4#step> .\n}\n\n\n"
       }
      ],
      "source": "workflow.set_first_step(step1)\nprint(workflow)",
      "start_time": "2020-08-26T16:41:00.962Z"
     },
     {
      "end_time": "2020-08-26T16:43:41.673Z",
      "execution_time": "5ms",
      "outputs": [
       {
        "name": "stdout",
        "output_type": "stream",
        "text": "Workflow URI = http://purl.org/nanopub/temp/mynanopub#plan\n@prefix ns1: <http://purl.org/dc/terms/> .\n@prefix ns2: <http://purl.org/spar/pwo#> .\n\n_:N61ffd43f04674f0a90bfa89ce5c782b7 {\n    <http://purl.org/nanopub/temp/mynanopub#plan> a <http://purl.org/net/p-plan#Plan> ;\n        ns1:description \"A test workflow.\" ;\n        ns2:hasFirstStep <http://purl.org/np/RANBLu3UN2ngnjY5Hzrn7S5GpqFdz8_BBy92bDlt991X4#step> .\n}\n\n\n"
       }
      ],
      "source": "workflow.set_first_step(step1)\nprint(workflow)",
      "start_time": "2020-08-26T16:43:41.668Z"
     },
     {
      "end_time": "2020-08-26T17:00:44.103Z",
      "execution_time": "4ms",
      "outputs": [
       {
        "name": "stdout",
        "output_type": "stream",
        "text": "Workflow URI = http://purl.org/nanopub/temp/mynanopub#plan\n@prefix ns1: <http://purl.org/dc/terms/> .\n@prefix ns2: <http://purl.org/spar/pwo#> .\n\n_:N198b5517fb85496798e6e792a2201342 {\n    <http://purl.org/nanopub/temp/mynanopub#plan> a <http://purl.org/net/p-plan#Plan> ;\n        ns1:description \"A test workflow.\" ;\n        ns2:hasFirstStep <http://purl.org/np/RANBLu3UN2ngnjY5Hzrn7S5GpqFdz8_BBy92bDlt991X4#step> .\n}\n\n\n"
       }
      ],
      "source": "workflow.set_first_step(step1)\nprint(workflow)",
      "start_time": "2020-08-26T17:00:44.099Z"
     }
    ]
   },
   "outputs": [],
   "source": [
    "@add_step(workflow)\n",
    "def another_computational_step(a, b):\n",
    "    \"\"\"Another script task\"\"\"\n",
    "    return a * b"
   ]
  },
  {
   "cell_type": "code",
   "execution_count": 22,
   "metadata": {},
   "outputs": [],
   "source": [
    "# Run the step\n",
    "another_computational_step(1, 5)"
   ]
  },
  {
   "cell_type": "code",
   "execution_count": 23,
   "metadata": {},
   "outputs": [],
   "source": [
    "# Run it again with different inputs\n",
    "another_computational_step(4, 3)"
   ]
  },
  {
   "cell_type": "code",
   "execution_count": 24,
   "metadata": {},
   "outputs": [
    {
     "name": "stdout",
     "output_type": "stream",
     "text": [
      "Workflow URI = None\n",
      "@prefix dul: <http://www.ontologydesignpatterns.org/ont/dul/DUL.owl#> .\n",
      "@prefix ns1: <http://purl.org/dc/terms/> .\n",
      "@prefix ns2: <http://purl.org/np/RACLlhNijmCk4AX_2PuoBPHKfY1T6jieGaUPVFv-fWCAg#> .\n",
      "@prefix ns3: <http://purl.org/np/RANBLu3UN2ngnjY5Hzrn7S5GpqFdz8_BBy92bDlt991X4#> .\n",
      "@prefix ns4: <http://purl.org/np/RA5D8NzM2OXPZAWNlADQ8hZdVu1k0HnmVmgl20apjhU8M#> .\n",
      "@prefix pplan: <http://purl.org/net/p-plan#> .\n",
      "@prefix pwo: <http://purl.org/spar/pwo/> .\n",
      "\n",
      "_:N7b70916165194872ad41bb45d5ad9dd5 {\n",
      "    ns2:step pplan:isStepOfPlan _:plan ;\n",
      "        dul:precedes ns3:step .\n",
      "\n",
      "    <http://purl.org/nanopub/temp/mynanopub#functiona_computational_step1608565750.7931361> pplan:isStepOfPlan _:plan ;\n",
      "        dul:precedes <http://purl.org/nanopub/temp/mynanopub#functionanother_computational_step1608565751.380208> .\n",
      "\n",
      "    <http://purl.org/nanopub/temp/mynanopub#functionanother_computational_step1608565751.380208> pplan:isStepOfPlan _:plan ;\n",
      "        dul:precedes <http://purl.org/nanopub/temp/mynanopub#functionanother_computational_step1608565751.632146> .\n",
      "\n",
      "    <http://purl.org/nanopub/temp/mynanopub#functionanother_computational_step1608565751.632146> pplan:isStepOfPlan _:plan .\n",
      "\n",
      "    ns4:step pplan:isStepOfPlan _:plan .\n",
      "\n",
      "    ns3:step pplan:isStepOfPlan _:plan ;\n",
      "        dul:precedes ns4:step .\n",
      "\n",
      "    _:plan a pplan:Plan ;\n",
      "        ns1:description \"This is a test workflow.\" ;\n",
      "        pwo:hasFirstStep <http://purl.org/nanopub/temp/mynanopub#functiona_computational_step1608565750.7931361> .\n",
      "}\n",
      "\n",
      "\n"
     ]
    }
   ],
   "source": [
    "# Both computational steps have now been added to the plex workflow\n",
    "print(workflow)"
   ]
  },
  {
   "cell_type": "markdown",
   "metadata": {},
   "source": [
    "# Walking the workflow graph\n",
    "We can now ask the FairWorkflow object to give us each step of the workflow we have constructed, one at a time. This is in the correct order (taking into account precedence defined earlier)."
   ]
  },
  {
   "cell_type": "code",
   "execution_count": 25,
   "metadata": {},
   "outputs": [
    {
     "name": "stdout",
     "output_type": "stream",
     "text": [
      "Step URI = http://purl.org/nanopub/temp/mynanopub#functiona_computational_step1608565750.7931361\n",
      "@prefix bpmn: <http://dkm.fbk.eu/index.php/BPMN2_Ontology#> .\n",
      "@prefix ns1: <http://purl.org/dc/terms/> .\n",
      "@prefix pplan: <http://purl.org/net/p-plan#> .\n",
      "@prefix rdfs: <http://www.w3.org/2000/01/rdf-schema#> .\n",
      "\n",
      "_:Na76be8e4df6b41c4b3662fd01e4d7100 {\n",
      "    [] a bpmn:ScriptTask,\n",
      "            pplan:Step ;\n",
      "        rdfs:label \"a_computational_step\" ;\n",
      "        ns1:description \"\"\"def a_computational_step(x, y):\n",
      "    \\\"\\\"\\\"A test function that adds two numbers\\\"\\\"\\\"\n",
      "    return x + y\n",
      "\"\"\" .\n",
      "}\n",
      "\n",
      "\n",
      "Step URI = http://purl.org/nanopub/temp/mynanopub#functionanother_computational_step1608565751.380208\n",
      "@prefix bpmn: <http://dkm.fbk.eu/index.php/BPMN2_Ontology#> .\n",
      "@prefix ns1: <http://purl.org/dc/terms/> .\n",
      "@prefix pplan: <http://purl.org/net/p-plan#> .\n",
      "@prefix rdfs: <http://www.w3.org/2000/01/rdf-schema#> .\n",
      "\n",
      "_:Nb5f51a0d638b4c9891a7320e9b5344bd {\n",
      "    [] a bpmn:ScriptTask,\n",
      "            pplan:Step ;\n",
      "        rdfs:label \"another_computational_step\" ;\n",
      "        ns1:description \"\"\"@add_step(workflow)\n",
      "def another_computational_step(a, b):\n",
      "    \\\"\\\"\\\"Another script task\\\"\\\"\\\"\n",
      "    return a * b\n",
      "\"\"\" .\n",
      "}\n",
      "\n",
      "\n",
      "Step URI = http://purl.org/nanopub/temp/mynanopub#functionanother_computational_step1608565751.632146\n",
      "@prefix bpmn: <http://dkm.fbk.eu/index.php/BPMN2_Ontology#> .\n",
      "@prefix ns1: <http://purl.org/dc/terms/> .\n",
      "@prefix pplan: <http://purl.org/net/p-plan#> .\n",
      "@prefix rdfs: <http://www.w3.org/2000/01/rdf-schema#> .\n",
      "\n",
      "_:N045413da75e04d3e89277cef91186003 {\n",
      "    [] a bpmn:ScriptTask,\n",
      "            pplan:Step ;\n",
      "        rdfs:label \"another_computational_step\" ;\n",
      "        ns1:description \"\"\"@add_step(workflow)\n",
      "def another_computational_step(a, b):\n",
      "    \\\"\\\"\\\"Another script task\\\"\\\"\\\"\n",
      "    return a * b\n",
      "\"\"\" .\n",
      "}\n",
      "\n",
      "\n",
      "Step URI = http://purl.org/np/RACLlhNijmCk4AX_2PuoBPHKfY1T6jieGaUPVFv-fWCAg#step\n",
      "@prefix bpmn: <http://dkm.fbk.eu/index.php/BPMN2_Ontology#> .\n",
      "@prefix dcterms: <http://purl.org/dc/terms/> .\n",
      "@prefix p-plan: <http://purl.org/net/p-plan#> .\n",
      "\n",
      "_:N6058afd6ddab4fb692256956cd4b7ab8 {\n",
      "    [] a bpmn:ManualTask,\n",
      "            p-plan:Step ;\n",
      "        dcterms:description \"Preheat an oven to 350 degrees F (175 degrees C).\" .\n",
      "}\n",
      "\n",
      "\n",
      "Step URI = http://purl.org/np/RANBLu3UN2ngnjY5Hzrn7S5GpqFdz8_BBy92bDlt991X4#step\n",
      "@prefix bpmn: <http://dkm.fbk.eu/index.php/BPMN2_Ontology#> .\n",
      "@prefix dcterms: <http://purl.org/dc/terms/> .\n",
      "@prefix p-plan: <http://purl.org/net/p-plan#> .\n",
      "\n",
      "_:N8248a08b622a4451b6707167263a220e {\n",
      "    [] a bpmn:ManualTask,\n",
      "            p-plan:Step ;\n",
      "        dcterms:description \"Melt the butter in a skillet over medium heat. Add the apple and onion to the melted butter, season with the curry powder, and cook and stir until the apple and onion are tender, 7 to 10 minutes. Stir the mushroom soup and half-and-half into the mixture until completely combined; spoon over the chicken pieces.\" .\n",
      "}\n",
      "\n",
      "\n",
      "Step URI = http://purl.org/np/RA5D8NzM2OXPZAWNlADQ8hZdVu1k0HnmVmgl20apjhU8M#step\n",
      "@prefix bpmn: <http://dkm.fbk.eu/index.php/BPMN2_Ontology#> .\n",
      "@prefix dcterms: <http://purl.org/dc/terms/> .\n",
      "@prefix p-plan: <http://purl.org/net/p-plan#> .\n",
      "\n",
      "_:N9d0f061f18164084a1a6f9b40c511d12 {\n",
      "    [] a bpmn:ManualTask,\n",
      "            p-plan:Step ;\n",
      "        dcterms:description \"Arrange the chicken pieces in a single layer in a 9x13-inch baking dish. Season the chicken liberally with salt, pepper, and the paprika; set aside.\" .\n",
      "}\n",
      "\n",
      "\n"
     ]
    }
   ],
   "source": [
    "for step in workflow:\n",
    "    print(step)"
   ]
  },
  {
   "cell_type": "markdown",
   "metadata": {},
   "source": [
    "# Initialize a Fairworkflow object directly from RDF"
   ]
  },
  {
   "cell_type": "markdown",
   "metadata": {},
   "source": [
    "### An example RDF graph in the PLEX format.\n",
    "Note that 2 steps are fully described in the RDF, but the last step refers to a nanopub publication"
   ]
  },
  {
   "cell_type": "code",
   "execution_count": 26,
   "metadata": {},
   "outputs": [],
   "source": [
    "plex_rdf_trig = '''\n",
    "@prefix this: <http://www.example.org/workflow1> .\n",
    "@prefix sub: <http://www.example.org/workflow1#> .\n",
    "@prefix dul: <http://www.ontologydesignpatterns.org/ont/dul/DUL.owl#> .\n",
    "@prefix pplan: <http://purl.org/net/p-plan#> .\n",
    "@prefix terms: <http://purl.org/dc/terms/> .\n",
    "@prefix pwo: <http://purl.org/spar/pwo/> .\n",
    "@prefix bpmn: <http://dkm.fbk.eu/index.php/BPMN2_Ontology#> .\n",
    "\n",
    "{\n",
    "    sub:step1 dul:precedes sub:step2 .\n",
    "    sub:step2 dul:precedes <http://purl.org/np/RACLlhNijmCk4AX_2PuoBPHKfY1T6jieGaUPVFv-fWCAg#step> .\n",
    "    \n",
    "    this: a pplan:Plan ;\n",
    "       terms:description \"This is a test workflow.\" ;\n",
    "       pwo:hasFirstStep sub:step1 .\n",
    "\n",
    "    sub:step1 pplan:isStepOfPlan this:;\n",
    "        a pplan:Step;\n",
    "        terms:description \"Step 1\";\n",
    "        a bpmn:ManualTask .\n",
    "\n",
    "    sub:step2 pplan:isStepOfPlan this:;\n",
    "        a pplan:Step;\n",
    "        terms:description \"Step 2\";\n",
    "        a bpmn:ManualTask .\n",
    "\n",
    "    <http://purl.org/np/RACLlhNijmCk4AX_2PuoBPHKfY1T6jieGaUPVFv-fWCAg#step> pplan:isStepOfPlan this: .\n",
    "}\n",
    "'''"
   ]
  },
  {
   "cell_type": "code",
   "execution_count": 27,
   "metadata": {},
   "outputs": [
    {
     "data": {
      "text/plain": [
       "<Graph identifier=Nbfcb9b94632542789590e8859110ef39 (<class 'rdflib.graph.Graph'>)>"
      ]
     },
     "execution_count": 27,
     "metadata": {},
     "output_type": "execute_result"
    }
   ],
   "source": [
    "g = rdflib.Graph()\n",
    "g.parse(data=plex_rdf_trig, format='trig')"
   ]
  },
  {
   "cell_type": "code",
   "execution_count": 28,
   "metadata": {},
   "outputs": [
    {
     "name": "stderr",
     "output_type": "stream",
     "text": [
      "/Users/svenvanderburg/projects/fair-workflows/fairworkflows/fairworkflows/fairworkflow.py:87: UserWarning: Could not get detailed information for step http://purl.org/np/RACLlhNijmCk4AX_2PuoBPHKfY1T6jieGaUPVFv-fWCAg#step, adding a FairStep without attributes. This will limit functionality of the FairWorkflow object.\n",
      "  warnings.warn(f'Could not get detailed information for '\n"
     ]
    }
   ],
   "source": [
    "workflow = FairWorkflow.from_rdf(rdf=g, uri='http://www.example.org/workflow1', fetch_references=False)"
   ]
  },
  {
   "cell_type": "code",
   "execution_count": 29,
   "metadata": {},
   "outputs": [],
   "source": [
    "workflow = FairWorkflow.from_rdf(rdf=g, uri='http://www.example.org/workflow1', fetch_references=True)"
   ]
  },
  {
   "cell_type": "code",
   "execution_count": 30,
   "metadata": {},
   "outputs": [
    {
     "ename": "AssertionError",
     "evalue": "Plan RDF has no rdfs:label\n",
     "output_type": "error",
     "traceback": [
      "\u001b[0;31m---------------------------------------------------------------------------\u001b[0m",
      "\u001b[0;31mAssertionError\u001b[0m                            Traceback (most recent call last)",
      "\u001b[0;32m<ipython-input-30-8a299724b00f>\u001b[0m in \u001b[0;36m<module>\u001b[0;34m\u001b[0m\n\u001b[0;32m----> 1\u001b[0;31m \u001b[0mworkflow\u001b[0m\u001b[0;34m.\u001b[0m\u001b[0mvalidate\u001b[0m\u001b[0;34m(\u001b[0m\u001b[0;34m)\u001b[0m\u001b[0;34m\u001b[0m\u001b[0;34m\u001b[0m\u001b[0m\n\u001b[0m",
      "\u001b[0;32m~/projects/fair-workflows/fairworkflows/fairworkflows/fairworkflow.py\u001b[0m in \u001b[0;36mvalidate\u001b[0;34m(self, shacl)\u001b[0m\n\u001b[1;32m    337\u001b[0m             \u001b[0mconforms\u001b[0m \u001b[0;34m=\u001b[0m \u001b[0;32mFalse\u001b[0m\u001b[0;34m\u001b[0m\u001b[0;34m\u001b[0m\u001b[0m\n\u001b[1;32m    338\u001b[0m \u001b[0;34m\u001b[0m\u001b[0m\n\u001b[0;32m--> 339\u001b[0;31m         \u001b[0;32massert\u001b[0m \u001b[0mconforms\u001b[0m\u001b[0;34m,\u001b[0m \u001b[0mlog\u001b[0m\u001b[0;34m\u001b[0m\u001b[0;34m\u001b[0m\u001b[0m\n\u001b[0m\u001b[1;32m    340\u001b[0m \u001b[0;34m\u001b[0m\u001b[0m\n\u001b[1;32m    341\u001b[0m         \u001b[0;31m# Now validate against the PLEX shacl shapes file, if requested\u001b[0m\u001b[0;34m\u001b[0m\u001b[0;34m\u001b[0m\u001b[0;34m\u001b[0m\u001b[0m\n",
      "\u001b[0;31mAssertionError\u001b[0m: Plan RDF has no rdfs:label\n"
     ]
    }
   ],
   "source": [
    "workflow.validate()"
   ]
  },
  {
   "cell_type": "code",
   "execution_count": 31,
   "metadata": {},
   "outputs": [
    {
     "name": "stdout",
     "output_type": "stream",
     "text": [
      "Step URI = http://www.example.org/workflow1#step1\n",
      "@prefix ns1: <http://purl.org/dc/terms/> .\n",
      "\n",
      "_:N719809fc71704503b4e867359794bc4e {\n",
      "    [] a <http://dkm.fbk.eu/index.php/BPMN2_Ontology#ManualTask>,\n",
      "            <http://purl.org/net/p-plan#Step> ;\n",
      "        ns1:description \"Step 1\" .\n",
      "}\n",
      "\n",
      "\n",
      "Step URI = http://www.example.org/workflow1#step2\n",
      "@prefix ns1: <http://purl.org/dc/terms/> .\n",
      "\n",
      "_:N192b377e4ff44262955c58147cf554f4 {\n",
      "    [] a <http://dkm.fbk.eu/index.php/BPMN2_Ontology#ManualTask>,\n",
      "            <http://purl.org/net/p-plan#Step> ;\n",
      "        ns1:description \"Step 2\" .\n",
      "}\n",
      "\n",
      "\n",
      "Step URI = http://purl.org/np/RACLlhNijmCk4AX_2PuoBPHKfY1T6jieGaUPVFv-fWCAg#step\n",
      "@prefix bpmn: <http://dkm.fbk.eu/index.php/BPMN2_Ontology#> .\n",
      "@prefix dcterms: <http://purl.org/dc/terms/> .\n",
      "@prefix p-plan: <http://purl.org/net/p-plan#> .\n",
      "\n",
      "_:Nd242e8b97f3b47938c9168ac26942135 {\n",
      "    [] a bpmn:ManualTask,\n",
      "            p-plan:Step ;\n",
      "        dcterms:description \"Preheat an oven to 350 degrees F (175 degrees C).\" .\n",
      "}\n",
      "\n",
      "\n"
     ]
    }
   ],
   "source": [
    "for step in workflow:\n",
    "    print(step)"
   ]
  },
  {
   "cell_type": "markdown",
   "metadata": {},
   "source": [
    "# Fairstep inputs and outputs"
   ]
  },
  {
   "cell_type": "markdown",
   "metadata": {},
   "source": [
    "Let's construct a new test workflow"
   ]
  },
  {
   "cell_type": "code",
   "execution_count": 40,
   "metadata": {},
   "outputs": [],
   "source": [
    "test_description = 'This is a test workflow.'\n",
    "workflow = FairWorkflow(description=test_description)\n",
    "workflow.label = 'Test workflow'\n",
    "\n",
    "step1 = FairStep(uri='http://www.example.org/step1')\n",
    "step1.label = 'Step 1'\n",
    "step2 = FairStep(uri='http://www.example.org/step2')\n",
    "step2.label = 'Step 2'\n",
    "\n",
    "workflow.first_step = step1\n",
    "workflow.add(step2, follows=step1)"
   ]
  },
  {
   "cell_type": "markdown",
   "metadata": {},
   "source": [
    "Now let's add some inputs and outputs and validate those"
   ]
  },
  {
   "cell_type": "code",
   "execution_count": 41,
   "metadata": {},
   "outputs": [],
   "source": [
    "step1.inputs = ['var4']\n",
    "step1.outputs = ['var2']\n",
    "step2.inputs = ['var2', 'var3']\n",
    "step2.outputs = ['var4']"
   ]
  },
  {
   "cell_type": "markdown",
   "metadata": {},
   "source": [
    "Let's validate, remember that the step precedence is step1 -> step2"
   ]
  },
  {
   "cell_type": "code",
   "execution_count": 42,
   "metadata": {},
   "outputs": [
    {
     "ename": "AssertionError",
     "evalue": "step has input var4 that is the output of a later step\n",
     "output_type": "error",
     "traceback": [
      "\u001b[0;31m---------------------------------------------------------------------------\u001b[0m",
      "\u001b[0;31mAssertionError\u001b[0m                            Traceback (most recent call last)",
      "\u001b[0;32m<ipython-input-42-8a299724b00f>\u001b[0m in \u001b[0;36m<module>\u001b[0;34m\u001b[0m\n\u001b[0;32m----> 1\u001b[0;31m \u001b[0mworkflow\u001b[0m\u001b[0;34m.\u001b[0m\u001b[0mvalidate\u001b[0m\u001b[0;34m(\u001b[0m\u001b[0;34m)\u001b[0m\u001b[0;34m\u001b[0m\u001b[0;34m\u001b[0m\u001b[0m\n\u001b[0m",
      "\u001b[0;32m~/projects/fair-workflows/fairworkflows/fairworkflows/fairworkflow.py\u001b[0m in \u001b[0;36mvalidate\u001b[0;34m(self, shacl)\u001b[0m\n\u001b[1;32m    337\u001b[0m             \u001b[0mconforms\u001b[0m \u001b[0;34m=\u001b[0m \u001b[0;32mFalse\u001b[0m\u001b[0;34m\u001b[0m\u001b[0;34m\u001b[0m\u001b[0m\n\u001b[1;32m    338\u001b[0m \u001b[0;34m\u001b[0m\u001b[0m\n\u001b[0;32m--> 339\u001b[0;31m         \u001b[0;32massert\u001b[0m \u001b[0mconforms\u001b[0m\u001b[0;34m,\u001b[0m \u001b[0mlog\u001b[0m\u001b[0;34m\u001b[0m\u001b[0;34m\u001b[0m\u001b[0m\n\u001b[0m\u001b[1;32m    340\u001b[0m \u001b[0;34m\u001b[0m\u001b[0m\n\u001b[1;32m    341\u001b[0m         \u001b[0;31m# Now validate against the PLEX shacl shapes file, if requested\u001b[0m\u001b[0;34m\u001b[0m\u001b[0;34m\u001b[0m\u001b[0;34m\u001b[0m\u001b[0m\n",
      "\u001b[0;31mAssertionError\u001b[0m: step has input var4 that is the output of a later step\n"
     ]
    }
   ],
   "source": [
    "workflow.validate()"
   ]
  },
  {
   "cell_type": "markdown",
   "metadata": {},
   "source": [
    "We made a mistake there, let's fix it!"
   ]
  },
  {
   "cell_type": "code",
   "execution_count": 43,
   "metadata": {},
   "outputs": [],
   "source": [
    "step1.inputs = ['var1']\n",
    "step1.outputs = ['var2']\n",
    "step2.inputs = ['var2', 'var3']\n",
    "step2.outputs = ['var4']"
   ]
  },
  {
   "cell_type": "code",
   "execution_count": 44,
   "metadata": {},
   "outputs": [],
   "source": [
    "workflow.validate()"
   ]
  },
  {
   "cell_type": "markdown",
   "metadata": {},
   "source": [
    "We can check the unbound inputs\n",
    "(Unbound inputs are inputs that are not outputs of any preceding step.\n",
    "You could consider them inputs for the workflow.)"
   ]
  },
  {
   "cell_type": "code",
   "execution_count": 45,
   "metadata": {},
   "outputs": [
    {
     "name": "stdout",
     "output_type": "stream",
     "text": [
      "http://www.example.org/step1 has an unbound input var1\n",
      "http://www.example.org/step2 has an unbound input var3\n"
     ]
    }
   ],
   "source": [
    "for input, step in workflow.unbound_inputs:\n",
    "    print(f'{step.uri} has an unbound input {input}')"
   ]
  },
  {
   "cell_type": "markdown",
   "metadata": {},
   "source": [
    "And unbound outputs"
   ]
  },
  {
   "cell_type": "code",
   "execution_count": 46,
   "metadata": {},
   "outputs": [
    {
     "name": "stdout",
     "output_type": "stream",
     "text": [
      "http://www.example.org/step2 has an unbound output var4\n"
     ]
    }
   ],
   "source": [
    "for output, step in workflow.unbound_outputs:\n",
    "    print(f'{step.uri} has an unbound output {output}')"
   ]
  }
 ],
 "metadata": {
  "kernelspec": {
   "display_name": "Python 3",
   "language": "python",
   "name": "python3"
  },
  "language_info": {
   "codemirror_mode": {
    "name": "ipython",
    "version": 3
   },
   "file_extension": ".py",
   "mimetype": "text/x-python",
   "name": "python",
   "nbconvert_exporter": "python",
   "pygments_lexer": "ipython3",
   "version": "3.6.10"
  }
 },
 "nbformat": 4,
 "nbformat_minor": 4
}
