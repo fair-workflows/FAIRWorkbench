{
 "cells": [
  {
   "cell_type": "code",
   "execution_count": 1,
   "id": "regulation-calendar",
   "metadata": {},
   "outputs": [],
   "source": [
    "from fairworkflows import FairWorkflow, FairStep, FairVariable, is_fairworkflow\n",
    "import inspect\n",
    "import typing\n",
    "from typing import Callable, get_type_hints, List, Union\n",
    "import functools\n",
    "from noodles import schedule\n",
    "\n",
    "def _extract_inputs_from_function(func) -> List[FairVariable]:\n",
    "    \"\"\"\n",
    "    Extract inputs from function using inspection. The name of the argument will be the name of\n",
    "    the fair variable, the corresponding type hint will be the type of the variable.\n",
    "    \"\"\"\n",
    "    argspec = inspect.getfullargspec(func)\n",
    "    try:\n",
    "        return [FairVariable(name=arg, type=argspec.annotations[arg].__name__)\n",
    "                for arg in argspec.args]\n",
    "    except KeyError:\n",
    "        raise ValueError('Not all input arguments have type hinting, '\n",
    "                         'FAIR step functions MUST have type hinting, '\n",
    "                         'see https://docs.python.org/3/library/typing.html')\n",
    "        \n",
    "def _extract_outputs_from_function(func) -> List[FairVariable]:\n",
    "    \"\"\"\n",
    "    Extract outputs from function using inspection. The name will be {function_name}_output{\n",
    "    output_number}. The corresponding return type hint will be the type of the variable.\n",
    "    \"\"\"\n",
    "    annotations = get_type_hints(func)\n",
    "    try:\n",
    "        return_annotation = annotations['return']\n",
    "    except KeyError:\n",
    "        raise ValueError('The return of the function does not have type hinting, '\n",
    "                         'FAIR step functions MUST have type hinting, '\n",
    "                         'see https://docs.python.org/3/library/typing.html')\n",
    "    if _is_generic_tuple(return_annotation):\n",
    "        return [FairVariable(name=func.__name__ + '_output' + str(i + 1), type=annotation.__name__)\n",
    "                for i, annotation in enumerate(return_annotation.__args__)]\n",
    "    else:\n",
    "        return [FairVariable(name=func.__name__ + '_output1', type=return_annotation.__name__)]\n",
    "\n",
    "def _is_generic_tuple(type_):\n",
    "    \"\"\"\n",
    "    Check whether a type annotation is Tuple\n",
    "    \"\"\"\n",
    "    if hasattr(typing, '_GenericAlias'):\n",
    "        # 3.7\n",
    "        # _GenericAlias cannot be imported from typing, because it doesn't\n",
    "        # exist in all versions, and it will fail the type check in those\n",
    "        # versions as well, so we ignore it.\n",
    "        return (isinstance(type_, typing._GenericAlias)\n",
    "                and type_.__origin__ is tuple)\n",
    "    else:\n",
    "        # 3.6 and earlier\n",
    "        # GenericMeta cannot be imported from typing, because it doesn't\n",
    "        # exist in all versions, and it will fail the type check in those\n",
    "        # versions as well, so we ignore it.\n",
    "        return (isinstance(type_, typing.GenericMeta)\n",
    "                and type_.__origin__ is typing.Tuple)\n",
    "\n",
    "    \n",
    "    \n",
    "    \n",
    "def fairstep(func):\n",
    "\n",
    "    label=func.__name__\n",
    "    is_pplan_step = True\n",
    "    is_manual_task = False\n",
    "    is_script_task = True\n",
    "    \n",
    "    # Description of step is the raw function code\n",
    "    description = inspect.getsource(func)\n",
    "    inputs = _extract_inputs_from_function(func)\n",
    "    outputs = _extract_outputs_from_function(func)\n",
    "    func._fairstep = FairStep(label=label,\n",
    "                                  description=description,\n",
    "                                  is_pplan_step=is_pplan_step,\n",
    "                                  is_manual_task=is_manual_task,\n",
    "                                  is_script_task=is_script_task,\n",
    "                                  inputs=inputs,\n",
    "                                  outputs=outputs)\n",
    "    \n",
    "    return schedule(func)"
   ]
  },
  {
   "cell_type": "markdown",
   "id": "sorted-potter",
   "metadata": {},
   "source": [
    "<br/>\n",
    "<br/>\n",
    "<br/>\n",
    "<br/>\n",
    "<br/>\n",
    "<br/>\n",
    "<br/>\n",
    "<br/>\n",
    "<br/>\n",
    "<br/>\n",
    "<br/>\n",
    "<br/>\n",
    "<br/>\n",
    "<br/>\n",
    "<br/>\n",
    "<br/>\n",
    "<br/>\n",
    "<br/>\n",
    "<br/>\n",
    "<br/>\n",
    "<br/>\n",
    "<br/>\n",
    "<br/>\n",
    "<br/>\n",
    "<br/>\n",
    "<br/>\n",
    "<br/>\n",
    "<br/>\n",
    "<br/>\n",
    "<br/>\n",
    "<br/>\n",
    "<br/>\n",
    "<br/>\n",
    "<br/>\n",
    "<br/>\n",
    "<br/>\n"
   ]
  },
  {
   "cell_type": "markdown",
   "id": "sudden-negative",
   "metadata": {},
   "source": [
    "# FairWorkflows execution demo"
   ]
  },
  {
   "cell_type": "markdown",
   "id": "different-posting",
   "metadata": {},
   "source": [
    "## Define the steps of your workflow\n",
    "Each step should be its own function. Mark the function as such with the @fairstep decorator."
   ]
  },
  {
   "cell_type": "code",
   "execution_count": 2,
   "id": "fifth-briefs",
   "metadata": {},
   "outputs": [],
   "source": [
    "@fairstep\n",
    "def add(a:float, b:float) -> float:\n",
    "    \"\"\"Adding up numbers!\"\"\"\n",
    "    return a + b"
   ]
  },
  {
   "cell_type": "code",
   "execution_count": 3,
   "id": "regulation-executive",
   "metadata": {},
   "outputs": [],
   "source": [
    "@fairstep\n",
    "def sub(a: float, b: float) -> float:\n",
    "    \"\"\"Subtracting numbers.\"\"\"\n",
    "    return a - b"
   ]
  },
  {
   "cell_type": "code",
   "execution_count": 4,
   "id": "foreign-plasma",
   "metadata": {},
   "outputs": [],
   "source": [
    "@fairstep\n",
    "def mul(a: float, b: float) -> float:\n",
    "    \"\"\"Multiplying numbers.\"\"\"\n",
    "    return a * b"
   ]
  },
  {
   "cell_type": "code",
   "execution_count": 5,
   "id": "latter-identification",
   "metadata": {},
   "outputs": [],
   "source": [
    "@fairstep\n",
    "def weird(a: float, b:float) -> float:\n",
    "    \"\"\"A weird function\"\"\"\n",
    "    return a * 2 + b * 4\n",
    "    "
   ]
  },
  {
   "cell_type": "markdown",
   "id": "pregnant-leadership",
   "metadata": {},
   "source": [
    "## Define your workflow using @fairworkflow\n",
    "Now write a function which describes your workflow. Mark this function with the @fairworkflow decorator."
   ]
  },
  {
   "cell_type": "code",
   "execution_count": 6,
   "id": "choice-spring",
   "metadata": {},
   "outputs": [],
   "source": [
    "@is_fairworkflow(label='My Workflow')\n",
    "def my_workflow(in1, in2, in3):\n",
    "    \"\"\"\n",
    "    A simple addition, subtraction, multiplication workflow\n",
    "    \"\"\"\n",
    "    t1 = add(in1, in2)\n",
    "    t2 = sub(in1, in2)\n",
    "    t3 = mul(weird(t1, in3), t2)\n",
    "    return t3"
   ]
  },
  {
   "cell_type": "markdown",
   "id": "cutting-february",
   "metadata": {},
   "source": [
    "## Create an instance of your workflow and display it"
   ]
  },
  {
   "cell_type": "code",
   "execution_count": 7,
   "id": "beneficial-mixture",
   "metadata": {},
   "outputs": [
    {
     "data": {
      "text/plain": [
       "fairworkflows.fairworkflow.FairWorkflow"
      ]
     },
     "execution_count": 7,
     "metadata": {},
     "output_type": "execute_result"
    }
   ],
   "source": [
    "fw = my_workflow(1, 4, 3)\n",
    "type(fw)"
   ]
  },
  {
   "cell_type": "code",
   "execution_count": 8,
   "id": "digital-magnet",
   "metadata": {},
   "outputs": [
    {
     "data": {
      "text/markdown": [
       "| workflow |\n",
       "| --- |\n",
       "| ![workflow workflow](control-workflow.svg) |"
      ],
      "text/plain": [
       "<IPython.core.display.Markdown object>"
      ]
     },
     "metadata": {},
     "output_type": "display_data"
    }
   ],
   "source": [
    "fw.display()"
   ]
  },
  {
   "cell_type": "markdown",
   "id": "disabled-liver",
   "metadata": {},
   "source": [
    "## Execute your workflow using .execute()\n",
    "Set num_threads greater than 1 if you wish to exploit parallelisation in your workflow."
   ]
  },
  {
   "cell_type": "code",
   "execution_count": 9,
   "id": "revised-ambassador",
   "metadata": {},
   "outputs": [
    {
     "data": {
      "text/plain": [
       "-66"
      ]
     },
     "execution_count": 9,
     "metadata": {},
     "output_type": "execute_result"
    }
   ],
   "source": [
    "answer = fw.execute(num_threads=2)\n",
    "answer"
   ]
  },
  {
   "cell_type": "markdown",
   "id": "executive-american",
   "metadata": {},
   "source": [
    "## Get retrospective provenance of run\n",
    "This is not in RDF format yet, but we have all the information needed."
   ]
  },
  {
   "cell_type": "code",
   "execution_count": 10,
   "id": "active-prototype",
   "metadata": {},
   "outputs": [
    {
     "ename": "AttributeError",
     "evalue": "'FairWorkflow' object has no attribute 'prov'",
     "output_type": "error",
     "traceback": [
      "\u001b[0;31m---------------------------------------------------------------------------\u001b[0m",
      "\u001b[0;31mAttributeError\u001b[0m                            Traceback (most recent call last)",
      "\u001b[0;32m<ipython-input-10-fa58d0e49b7b>\u001b[0m in \u001b[0;36m<module>\u001b[0;34m\u001b[0m\n\u001b[0;32m----> 1\u001b[0;31m \u001b[0mfw\u001b[0m\u001b[0;34m.\u001b[0m\u001b[0mprov\u001b[0m\u001b[0;34m(\u001b[0m\u001b[0;34m)\u001b[0m\u001b[0;34m\u001b[0m\u001b[0;34m\u001b[0m\u001b[0m\n\u001b[0m",
      "\u001b[0;31mAttributeError\u001b[0m: 'FairWorkflow' object has no attribute 'prov'"
     ]
    }
   ],
   "source": [
    "fw.prov()"
   ]
  },
  {
   "cell_type": "markdown",
   "id": "phantom-february",
   "metadata": {},
   "source": [
    "## Get Plex RDF of workflow"
   ]
  },
  {
   "cell_type": "code",
   "execution_count": 11,
   "id": "declared-music",
   "metadata": {},
   "outputs": [
    {
     "ename": "AttributeError",
     "evalue": "'FairWorkflow' object has no attribute 'get_workflow'",
     "output_type": "error",
     "traceback": [
      "\u001b[0;31m---------------------------------------------------------------------------\u001b[0m",
      "\u001b[0;31mAttributeError\u001b[0m                            Traceback (most recent call last)",
      "\u001b[0;32m<ipython-input-11-09039fd28759>\u001b[0m in \u001b[0;36m<module>\u001b[0;34m\u001b[0m\n\u001b[0;32m----> 1\u001b[0;31m \u001b[0mfw\u001b[0m\u001b[0;34m.\u001b[0m\u001b[0mget_workflow\u001b[0m\u001b[0;34m(\u001b[0m\u001b[0;34m)\u001b[0m\u001b[0;34m\u001b[0m\u001b[0;34m\u001b[0m\u001b[0m\n\u001b[0m",
      "\u001b[0;31mAttributeError\u001b[0m: 'FairWorkflow' object has no attribute 'get_workflow'"
     ]
    }
   ],
   "source": [
    "fw.get_workflow()"
   ]
  },
  {
   "cell_type": "raw",
   "id": "broken-department",
   "metadata": {},
   "source": []
  },
  {
   "cell_type": "code",
   "execution_count": null,
   "id": "current-henry",
   "metadata": {},
   "outputs": [],
   "source": []
  },
  {
   "cell_type": "code",
   "execution_count": null,
   "id": "distinguished-saying",
   "metadata": {},
   "outputs": [],
   "source": []
  },
  {
   "cell_type": "code",
   "execution_count": null,
   "id": "hairy-change",
   "metadata": {},
   "outputs": [],
   "source": []
  },
  {
   "cell_type": "code",
   "execution_count": null,
   "id": "lesser-munich",
   "metadata": {},
   "outputs": [],
   "source": []
  },
  {
   "cell_type": "code",
   "execution_count": null,
   "id": "spanish-treasurer",
   "metadata": {},
   "outputs": [],
   "source": []
  },
  {
   "cell_type": "code",
   "execution_count": null,
   "id": "legitimate-story",
   "metadata": {},
   "outputs": [],
   "source": []
  },
  {
   "cell_type": "code",
   "execution_count": null,
   "id": "defensive-armor",
   "metadata": {},
   "outputs": [],
   "source": []
  },
  {
   "cell_type": "code",
   "execution_count": null,
   "id": "looking-birth",
   "metadata": {},
   "outputs": [],
   "source": []
  },
  {
   "cell_type": "code",
   "execution_count": null,
   "id": "italic-night",
   "metadata": {},
   "outputs": [],
   "source": []
  },
  {
   "cell_type": "code",
   "execution_count": null,
   "id": "boxed-settle",
   "metadata": {},
   "outputs": [],
   "source": []
  },
  {
   "cell_type": "code",
   "execution_count": null,
   "id": "ruled-forty",
   "metadata": {},
   "outputs": [],
   "source": []
  }
 ],
 "metadata": {
  "kernelspec": {
   "display_name": "Python 3",
   "language": "python",
   "name": "python3"
  },
  "language_info": {
   "codemirror_mode": {
    "name": "ipython",
    "version": 3
   },
   "file_extension": ".py",
   "mimetype": "text/x-python",
   "name": "python",
   "nbconvert_exporter": "python",
   "pygments_lexer": "ipython3",
   "version": "3.8.6"
  }
 },
 "nbformat": 4,
 "nbformat_minor": 5
}
