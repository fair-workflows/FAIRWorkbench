{
 "cells": [
  {
   "cell_type": "code",
   "execution_count": 12,
   "id": "chemical-contest",
   "metadata": {},
   "outputs": [],
   "source": [
    "from fairworkflows import FairWorkflow, FairStep, FairVariable\n",
    "import inspect\n",
    "import typing\n",
    "from typing import Callable, get_type_hints, List, Union\n",
    "import functools\n",
    "from noodles import schedule, run_single, run_parallel, get_workflow\n",
    "from noodles.tutorial import display_workflows, run_and_print_log\n",
    "\n",
    "\n",
    "def _extract_inputs_from_function(func) -> List[FairVariable]:\n",
    "    \"\"\"\n",
    "    Extract inputs from function using inspection. The name of the argument will be the name of\n",
    "    the fair variable, the corresponding type hint will be the type of the variable.\n",
    "    \"\"\"\n",
    "    argspec = inspect.getfullargspec(func)\n",
    "    try:\n",
    "        return [FairVariable(name=arg, type=argspec.annotations[arg].__name__)\n",
    "                for arg in argspec.args]\n",
    "    except KeyError:\n",
    "        raise ValueError('Not all input arguments have type hinting, '\n",
    "                         'FAIR step functions MUST have type hinting, '\n",
    "                         'see https://docs.python.org/3/library/typing.html')\n",
    "        \n",
    "def _extract_outputs_from_function(func) -> List[FairVariable]:\n",
    "    \"\"\"\n",
    "    Extract outputs from function using inspection. The name will be {function_name}_output{\n",
    "    output_number}. The corresponding return type hint will be the type of the variable.\n",
    "    \"\"\"\n",
    "    annotations = get_type_hints(func)\n",
    "    try:\n",
    "        return_annotation = annotations['return']\n",
    "    except KeyError:\n",
    "        raise ValueError('The return of the function does not have type hinting, '\n",
    "                         'FAIR step functions MUST have type hinting, '\n",
    "                         'see https://docs.python.org/3/library/typing.html')\n",
    "    if _is_generic_tuple(return_annotation):\n",
    "        return [FairVariable(name=func.__name__ + '_output' + str(i + 1), type=annotation.__name__)\n",
    "                for i, annotation in enumerate(return_annotation.__args__)]\n",
    "    else:\n",
    "        return [FairVariable(name=func.__name__ + '_output1', type=return_annotation.__name__)]\n",
    "\n",
    "def _is_generic_tuple(type_):\n",
    "    \"\"\"\n",
    "    Check whether a type annotation is Tuple\n",
    "    \"\"\"\n",
    "    if hasattr(typing, '_GenericAlias'):\n",
    "        # 3.7\n",
    "        # _GenericAlias cannot be imported from typing, because it doesn't\n",
    "        # exist in all versions, and it will fail the type check in those\n",
    "        # versions as well, so we ignore it.\n",
    "        return (isinstance(type_, typing._GenericAlias)\n",
    "                and type_.__origin__ is tuple)\n",
    "    else:\n",
    "        # 3.6 and earlier\n",
    "        # GenericMeta cannot be imported from typing, because it doesn't\n",
    "        # exist in all versions, and it will fail the type check in those\n",
    "        # versions as well, so we ignore it.\n",
    "        return (isinstance(type_, typing.GenericMeta)\n",
    "                and type_.__origin__ is typing.Tuple)\n",
    "\n",
    "    \n",
    "    \n",
    "    \n",
    "def fairstep(func):\n",
    "\n",
    "    label=func.__name__\n",
    "    is_pplan_step = True\n",
    "    is_manual_task = False\n",
    "    is_script_task = True\n",
    "    \n",
    "    # Description of step is the raw function code\n",
    "    description = inspect.getsource(func)\n",
    "    inputs = _extract_inputs_from_function(func)\n",
    "    outputs = _extract_outputs_from_function(func)\n",
    "    func._fairstep = FairStep(label=label,\n",
    "                                  description=description,\n",
    "                                  is_pplan_step=is_pplan_step,\n",
    "                                  is_manual_task=is_manual_task,\n",
    "                                  is_script_task=is_script_task,\n",
    "                                  inputs=inputs,\n",
    "                                  outputs=outputs)\n",
    "    \n",
    "    return schedule(func)\n",
    "\n",
    "def fairworkflow(name=None):\n",
    "    def fairworkflow_inner(func):\n",
    "        @functools.wraps(func)\n",
    "        def wrapper(*args, **kwargs):\n",
    "            promise = func(*args, **kwargs)\n",
    "            class FairWorkflowP():\n",
    "                def __init__(self):\n",
    "                    self.name = name\n",
    "                    self.promise = promise\n",
    "                    self.fw = None\n",
    "                def display(self):\n",
    "                    display_workflows(prefix='control', workflow=self.promise)\n",
    "                def execute(self, num_threads=1):\n",
    "                    if num_threads==1:\n",
    "                        return run_single(self.promise)\n",
    "                    elif num_threads>1:\n",
    "                        return run_parallel(self.promise, num_threads)\n",
    "                def prov(self):\n",
    "                    run_and_print_log(fw.promise)\n",
    "                \n",
    "                def get_workflow(self):\n",
    "                    workflow = get_workflow(self.promise)\n",
    "                    \n",
    "                    description = inspect.getsource(func)\n",
    "                    label = func.__doc__\n",
    "                    self.fw = FairWorkflow(description=description, label=label, is_pplan_plan=True)\n",
    "                    \n",
    "                    steps_dict = {}\n",
    "                    for i, n in workflow.nodes.items():\n",
    "                        steps_dict[i] = n.foo._fairstep\n",
    "                    \n",
    "                                        \n",
    "                    for i, step in steps_dict.items():\n",
    "                        print(step)             \n",
    "\n",
    "                    print('\\nTopology:')\n",
    "                    for i in workflow.links:\n",
    "                        current_step = steps_dict[i]\n",
    "                        print(\"FROM\", current_step.label)\n",
    "                        for j in workflow.links[i]:\n",
    "                            \n",
    "                            linked_step = steps_dict[j[0]]\n",
    "                            linked_var_name = str(j[1].name)\n",
    "                            print(\"TO\", linked_step.label, 'Variable:', linked_var_name)\n",
    "                            self.fw.add(linked_step, follows=current_step)                            \n",
    "                        if len(workflow.links[i]) == 0:\n",
    "                            print(\"TO\", 'result')\n",
    "                \n",
    "            return FairWorkflowP()\n",
    "        return wrapper\n",
    "    return fairworkflow_inner"
   ]
  },
  {
   "cell_type": "markdown",
   "id": "accompanied-filter",
   "metadata": {},
   "source": [
    "<br/>\n",
    "<br/>\n",
    "<br/>\n",
    "<br/>\n",
    "<br/>\n",
    "<br/>\n",
    "<br/>\n",
    "<br/>\n",
    "<br/>\n",
    "<br/>\n",
    "<br/>\n",
    "<br/>\n",
    "<br/>\n",
    "<br/>\n",
    "<br/>\n",
    "<br/>\n",
    "<br/>\n",
    "<br/>\n",
    "<br/>\n",
    "<br/>\n",
    "<br/>\n",
    "<br/>\n",
    "<br/>\n",
    "<br/>\n",
    "<br/>\n",
    "<br/>\n",
    "<br/>\n",
    "<br/>\n",
    "<br/>\n",
    "<br/>\n",
    "<br/>\n",
    "<br/>\n",
    "<br/>\n",
    "<br/>\n",
    "<br/>\n",
    "<br/>\n"
   ]
  },
  {
   "cell_type": "markdown",
   "id": "traditional-reference",
   "metadata": {},
   "source": [
    "# FairWorkflows execution demo"
   ]
  },
  {
   "cell_type": "markdown",
   "id": "insured-desperate",
   "metadata": {},
   "source": [
    "## Define the steps of your workflow\n",
    "Each step should be its own function. Mark the function as such with the @fairstep decorator."
   ]
  },
  {
   "cell_type": "code",
   "execution_count": 13,
   "id": "precise-contractor",
   "metadata": {},
   "outputs": [],
   "source": [
    "@fairstep\n",
    "def add(a:float, b:float) -> float:\n",
    "    \"\"\"Adding up numbers!\"\"\"\n",
    "    return a + b"
   ]
  },
  {
   "cell_type": "code",
   "execution_count": 14,
   "id": "suffering-career",
   "metadata": {},
   "outputs": [],
   "source": [
    "@fairstep\n",
    "def sub(a: float, b: float) -> float:\n",
    "    \"\"\"Subtracting numbers.\"\"\"\n",
    "    return a - b"
   ]
  },
  {
   "cell_type": "code",
   "execution_count": 15,
   "id": "parliamentary-minority",
   "metadata": {},
   "outputs": [],
   "source": [
    "@fairstep\n",
    "def mul(a: float, b: float) -> float:\n",
    "    \"\"\"Multiplying numbers.\"\"\"\n",
    "    return a * b"
   ]
  },
  {
   "cell_type": "code",
   "execution_count": 16,
   "id": "fleet-gambling",
   "metadata": {},
   "outputs": [],
   "source": [
    "@fairstep\n",
    "def weird(a: float, b:float) -> float:\n",
    "    \"\"\"A weird function\"\"\"\n",
    "    return a * 2 + b * 4\n",
    "    "
   ]
  },
  {
   "cell_type": "markdown",
   "id": "double-journalism",
   "metadata": {},
   "source": [
    "## Define your workflow using @fairworkflow\n",
    "Now write a function which describes your workflow. Mark this function with the @fairworkflow decorator."
   ]
  },
  {
   "cell_type": "code",
   "execution_count": 17,
   "id": "racial-diana",
   "metadata": {},
   "outputs": [],
   "source": [
    "@fairworkflow(name='My Workflow')\n",
    "def my_workflow(in1, in2, in3):\n",
    "    \"\"\"\n",
    "    A simple addition, subtraction, multiplication workflow\n",
    "    \"\"\"\n",
    "    t1 = add(in1, in2)\n",
    "    t2 = sub(in1, in2)\n",
    "    t3 = mul(weird(t1, in3), t2)\n",
    "    return t3"
   ]
  },
  {
   "cell_type": "markdown",
   "id": "alpine-ability",
   "metadata": {},
   "source": [
    "## Create an instance of your workflow and display it"
   ]
  },
  {
   "cell_type": "code",
   "execution_count": 18,
   "id": "civilian-lyric",
   "metadata": {},
   "outputs": [],
   "source": [
    "fw = my_workflow(1, 4, 3)"
   ]
  },
  {
   "cell_type": "code",
   "execution_count": 19,
   "id": "shared-bidder",
   "metadata": {},
   "outputs": [
    {
     "data": {
      "text/markdown": [
       "| workflow |\n",
       "| --- |\n",
       "| ![workflow workflow](control-workflow.svg) |"
      ],
      "text/plain": [
       "<IPython.core.display.Markdown object>"
      ]
     },
     "metadata": {},
     "output_type": "display_data"
    }
   ],
   "source": [
    "fw.display()"
   ]
  },
  {
   "cell_type": "markdown",
   "id": "suspected-renaissance",
   "metadata": {},
   "source": [
    "## Execute your workflow using .execute()\n",
    "Set num_threads greater than 1 if you wish to exploit parallelisation in your workflow."
   ]
  },
  {
   "cell_type": "code",
   "execution_count": 23,
   "id": "solid-rings",
   "metadata": {},
   "outputs": [
    {
     "data": {
      "text/plain": [
       "-66"
      ]
     },
     "execution_count": 23,
     "metadata": {},
     "output_type": "execute_result"
    }
   ],
   "source": [
    "answer = fw.execute(num_threads=2)\n",
    "answer"
   ]
  },
  {
   "cell_type": "markdown",
   "id": "moderate-fault",
   "metadata": {},
   "source": [
    "## Get retrospective provenance of run\n",
    "This is not in RDF format yet, but we have all the information needed."
   ]
  },
  {
   "cell_type": "code",
   "execution_count": 21,
   "id": "powered-world",
   "metadata": {},
   "outputs": [
    {
     "data": {
      "text/html": [
       "<pre style=\"font-size: 9pt; margin: 0pt\">2021-01-19 13:16:44,750 - job           217: mul(22, -3) -&gt; -66</pre>\n",
       "<pre style=\"font-size: 9pt; margin: 0pt\">2021-01-19 13:16:44,750 - job           218: weird(5, 3) -&gt; 22</pre>\n",
       "<pre style=\"font-size: 9pt; margin: 0pt\">2021-01-19 13:16:44,750 - job           219: add(1, 4) -&gt; 5</pre>\n",
       "<pre style=\"font-size: 9pt; margin: 0pt\">2021-01-19 13:16:44,750 - job           220: sub(1, 4) -&gt; -3</pre>\n",
       "<pre style=\"font-size: 9pt; margin: 0pt\">2021-01-19 13:16:44,755 - result         … mul(22, -3) -&gt; -66]: retrieved -&gt; -66</pre>\n",
       "<pre style=\"font-size: 9pt; margin: 0pt\">2021-01-19 13:16:44,755 - -end-of-queue-</pre>"
      ],
      "text/plain": [
       "<IPython.core.display.HTML object>"
      ]
     },
     "metadata": {},
     "output_type": "display_data"
    }
   ],
   "source": [
    "fw.prov()"
   ]
  },
  {
   "cell_type": "markdown",
   "id": "applied-practice",
   "metadata": {},
   "source": [
    "## Get Plex RDF of workflow"
   ]
  },
  {
   "cell_type": "code",
   "execution_count": 22,
   "id": "adequate-logging",
   "metadata": {},
   "outputs": [
    {
     "name": "stdout",
     "output_type": "stream",
     "text": [
      "Step URI = None\n",
      "@prefix bpmn: <http://dkm.fbk.eu/index.php/BPMN2_Ontology#> .\n",
      "@prefix ns1: <http://purl.org/dc/terms/> .\n",
      "@prefix pplan: <http://purl.org/net/p-plan#> .\n",
      "@prefix rdfs: <http://www.w3.org/2000/01/rdf-schema#> .\n",
      "\n",
      "_:N150339895895442790ffd48b13894b52 {\n",
      "    [] a bpmn:ScriptTask,\n",
      "            pplan:Step ;\n",
      "        rdfs:label \"mul\" ;\n",
      "        ns1:description \"\"\"@fairstep\n",
      "def mul(a: float, b: float) -> float:\n",
      "    \\\"\\\"\\\"Multiplying numbers.\\\"\\\"\\\"\n",
      "    return a * b\n",
      "\"\"\" ;\n",
      "        pplan:hasInputVar [ a pplan:Variable,\n",
      "                    \"float\" ],\n",
      "            [ a pplan:Variable,\n",
      "                    \"float\" ] ;\n",
      "        pplan:hasOutputVar [ a pplan:Variable,\n",
      "                    \"float\" ] .\n",
      "}\n",
      "\n",
      "\n",
      "Step URI = None\n",
      "@prefix bpmn: <http://dkm.fbk.eu/index.php/BPMN2_Ontology#> .\n",
      "@prefix ns1: <http://purl.org/dc/terms/> .\n",
      "@prefix pplan: <http://purl.org/net/p-plan#> .\n",
      "@prefix rdfs: <http://www.w3.org/2000/01/rdf-schema#> .\n",
      "\n",
      "_:N15b94a031d81469c99b8fe7d48cfbc28 {\n",
      "    [] a bpmn:ScriptTask,\n",
      "            pplan:Step ;\n",
      "        rdfs:label \"weird\" ;\n",
      "        ns1:description \"\"\"@fairstep\n",
      "def weird(a: float, b:float) -> float:\n",
      "    \\\"\\\"\\\"A weird function\\\"\\\"\\\"\n",
      "    return a * 2 + b * 4\n",
      "\"\"\" ;\n",
      "        pplan:hasInputVar [ a pplan:Variable,\n",
      "                    \"float\" ],\n",
      "            [ a pplan:Variable,\n",
      "                    \"float\" ] ;\n",
      "        pplan:hasOutputVar [ a pplan:Variable,\n",
      "                    \"float\" ] .\n",
      "}\n",
      "\n",
      "\n",
      "Step URI = None\n",
      "@prefix bpmn: <http://dkm.fbk.eu/index.php/BPMN2_Ontology#> .\n",
      "@prefix ns1: <http://purl.org/dc/terms/> .\n",
      "@prefix pplan: <http://purl.org/net/p-plan#> .\n",
      "@prefix rdfs: <http://www.w3.org/2000/01/rdf-schema#> .\n",
      "\n",
      "_:N51e2aff5984543839f7aa6e1f6e2eafe {\n",
      "    [] a bpmn:ScriptTask,\n",
      "            pplan:Step ;\n",
      "        rdfs:label \"add\" ;\n",
      "        ns1:description \"\"\"@fairstep\n",
      "def add(a:float, b:float) -> float:\n",
      "    \\\"\\\"\\\"Adding up numbers!\\\"\\\"\\\"\n",
      "    return a + b\n",
      "\"\"\" ;\n",
      "        pplan:hasInputVar [ a pplan:Variable,\n",
      "                    \"float\" ],\n",
      "            [ a pplan:Variable,\n",
      "                    \"float\" ] ;\n",
      "        pplan:hasOutputVar [ a pplan:Variable,\n",
      "                    \"float\" ] .\n",
      "}\n",
      "\n",
      "\n",
      "Step URI = None\n",
      "@prefix bpmn: <http://dkm.fbk.eu/index.php/BPMN2_Ontology#> .\n",
      "@prefix ns1: <http://purl.org/dc/terms/> .\n",
      "@prefix pplan: <http://purl.org/net/p-plan#> .\n",
      "@prefix rdfs: <http://www.w3.org/2000/01/rdf-schema#> .\n",
      "\n",
      "_:Nf8f7fb6ce6cd4d7a9ee1eb5bb88abe56 {\n",
      "    [] a bpmn:ScriptTask,\n",
      "            pplan:Step ;\n",
      "        rdfs:label \"sub\" ;\n",
      "        ns1:description \"\"\"@fairstep\n",
      "def sub(a: float, b: float) -> float:\n",
      "    \\\"\\\"\\\"Subtracting numbers.\\\"\\\"\\\"\n",
      "    return a - b\n",
      "\"\"\" ;\n",
      "        pplan:hasInputVar [ a pplan:Variable,\n",
      "                    \"float\" ],\n",
      "            [ a pplan:Variable,\n",
      "                    \"float\" ] ;\n",
      "        pplan:hasOutputVar [ a pplan:Variable,\n",
      "                    \"float\" ] .\n",
      "}\n",
      "\n",
      "\n",
      "\n",
      "Topology:\n",
      "FROM mul\n",
      "TO result\n",
      "FROM weird\n",
      "TO mul Variable: a\n",
      "FROM add\n",
      "TO weird Variable: a\n",
      "FROM sub\n",
      "TO mul Variable: b\n"
     ]
    }
   ],
   "source": [
    "fw.get_workflow()"
   ]
  },
  {
   "cell_type": "raw",
   "id": "instructional-jefferson",
   "metadata": {},
   "source": []
  },
  {
   "cell_type": "code",
   "execution_count": null,
   "id": "adopted-thinking",
   "metadata": {},
   "outputs": [],
   "source": []
  },
  {
   "cell_type": "code",
   "execution_count": null,
   "id": "joint-prediction",
   "metadata": {},
   "outputs": [],
   "source": []
  },
  {
   "cell_type": "code",
   "execution_count": null,
   "id": "rational-sight",
   "metadata": {},
   "outputs": [],
   "source": []
  },
  {
   "cell_type": "code",
   "execution_count": null,
   "id": "regular-merchandise",
   "metadata": {},
   "outputs": [],
   "source": []
  },
  {
   "cell_type": "code",
   "execution_count": null,
   "id": "lucky-wichita",
   "metadata": {},
   "outputs": [],
   "source": []
  },
  {
   "cell_type": "code",
   "execution_count": null,
   "id": "infectious-purse",
   "metadata": {},
   "outputs": [],
   "source": []
  },
  {
   "cell_type": "code",
   "execution_count": null,
   "id": "leading-fortune",
   "metadata": {},
   "outputs": [],
   "source": []
  },
  {
   "cell_type": "code",
   "execution_count": null,
   "id": "instrumental-myrtle",
   "metadata": {},
   "outputs": [],
   "source": []
  },
  {
   "cell_type": "code",
   "execution_count": null,
   "id": "naughty-holocaust",
   "metadata": {},
   "outputs": [],
   "source": []
  },
  {
   "cell_type": "code",
   "execution_count": null,
   "id": "important-proof",
   "metadata": {},
   "outputs": [],
   "source": []
  },
  {
   "cell_type": "code",
   "execution_count": null,
   "id": "mighty-instruction",
   "metadata": {},
   "outputs": [],
   "source": []
  }
 ],
 "metadata": {
  "kernelspec": {
   "display_name": "Python 3",
   "language": "python",
   "name": "python3"
  },
  "language_info": {
   "codemirror_mode": {
    "name": "ipython",
    "version": 3
   },
   "file_extension": ".py",
   "mimetype": "text/x-python",
   "name": "python",
   "nbconvert_exporter": "python",
   "pygments_lexer": "ipython3",
   "version": "3.8.6"
  }
 },
 "nbformat": 4,
 "nbformat_minor": 5
}
