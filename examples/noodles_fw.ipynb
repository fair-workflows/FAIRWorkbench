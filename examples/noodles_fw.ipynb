{
 "cells": [
  {
   "cell_type": "markdown",
   "id": "vietnamese-tactics",
   "metadata": {},
   "source": [
    "# FairWorkflows execution demo"
   ]
  },
  {
   "cell_type": "markdown",
   "id": "chinese-heavy",
   "metadata": {},
   "source": [
    "## Define the steps of your workflow\n",
    "Each step should be its own function. Mark the function as such with the @fairstep decorator."
   ]
  },
  {
   "cell_type": "code",
   "execution_count": 1,
   "id": "chubby-supervision",
   "metadata": {},
   "outputs": [],
   "source": [
    "from fairworkflows import is_fairworkflow, is_fairstep"
   ]
  },
  {
   "cell_type": "code",
   "execution_count": 2,
   "id": "suited-thousand",
   "metadata": {},
   "outputs": [],
   "source": [
    "@is_fairstep(label='Addition')\n",
    "def add(a:float, b:float) -> float:\n",
    "    \"\"\"Adding up numbers!\"\"\"\n",
    "    return a + b"
   ]
  },
  {
   "cell_type": "code",
   "execution_count": 3,
   "id": "furnished-format",
   "metadata": {},
   "outputs": [],
   "source": [
    "@is_fairstep(label='Subtraction')\n",
    "def sub(a: float, b: float) -> float:\n",
    "    \"\"\"Subtracting numbers.\"\"\"\n",
    "    return a - b"
   ]
  },
  {
   "cell_type": "code",
   "execution_count": 4,
   "id": "entire-modeling",
   "metadata": {},
   "outputs": [],
   "source": [
    "@is_fairstep(label='Multiplication')\n",
    "def mul(a: float, b: float) -> float:\n",
    "    \"\"\"Multiplying numbers.\"\"\"\n",
    "    return a * b"
   ]
  },
  {
   "cell_type": "code",
   "execution_count": 5,
   "id": "private-mailman",
   "metadata": {},
   "outputs": [],
   "source": [
    "@is_fairstep(label='A strange step with little use')\n",
    "def weird(a: float, b:float) -> float:\n",
    "    \"\"\"A weird function\"\"\"\n",
    "    return a * 2 + b * 4\n",
    "    "
   ]
  },
  {
   "cell_type": "markdown",
   "id": "turkish-abuse",
   "metadata": {},
   "source": [
    "## Define your workflow using @fairworkflow\n",
    "Now write a function which describes your workflow. Mark this function with the @fairworkflow decorator."
   ]
  },
  {
   "cell_type": "code",
   "execution_count": 6,
   "id": "digital-internship",
   "metadata": {},
   "outputs": [],
   "source": [
    "@is_fairworkflow(label='My Workflow')\n",
    "def my_workflow(in1, in2, in3):\n",
    "    \"\"\"\n",
    "    A simple addition, subtraction, multiplication workflow\n",
    "    \"\"\"\n",
    "    t1 = add(in1, in2)\n",
    "    t2 = sub(in1, in2)\n",
    "    t3 = mul(weird(t1, in3), t2)\n",
    "    return t3"
   ]
  },
  {
   "cell_type": "markdown",
   "id": "driving-grace",
   "metadata": {},
   "source": [
    "## Create an instance of your workflow and display it"
   ]
  },
  {
   "cell_type": "code",
   "execution_count": 7,
   "id": "visible-transition",
   "metadata": {},
   "outputs": [
    {
     "data": {
      "text/plain": [
       "fairworkflows.fairworkflow.FairWorkflow"
      ]
     },
     "execution_count": 7,
     "metadata": {},
     "output_type": "execute_result"
    }
   ],
   "source": [
    "fw = my_workflow(1, 4, 3)\n",
    "type(fw)"
   ]
  },
  {
   "cell_type": "code",
   "execution_count": 8,
   "id": "endless-shannon",
   "metadata": {},
   "outputs": [
    {
     "data": {
      "text/markdown": [
       "| workflow |\n",
       "| --- |\n",
       "| ![workflow workflow](control-workflow.svg) |"
      ],
      "text/plain": [
       "<IPython.core.display.Markdown object>"
      ]
     },
     "metadata": {},
     "output_type": "display_data"
    }
   ],
   "source": [
    "fw.display()"
   ]
  },
  {
   "cell_type": "markdown",
   "id": "acute-carpet",
   "metadata": {},
   "source": [
    "## Publish the (prospective) workflow\n",
    "You may publish the workflow, and its steps, as nanopublications in the usual manner:"
   ]
  },
  {
   "cell_type": "code",
   "execution_count": 9,
   "id": "intimate-winter",
   "metadata": {},
   "outputs": [
    {
     "name": "stdout",
     "output_type": "stream",
     "text": [
      "Published to http://purl.org/np/RANKki6Fh-QYTHJ39yhJNOEcQLZOJld1VZFEvaLeILgCA\n",
      "Published concept to http://purl.org/np/RANKki6Fh-QYTHJ39yhJNOEcQLZOJld1VZFEvaLeILgCA#step\n",
      "Published to http://purl.org/np/RAsljALsS_3aL57HIU-8tdyxYl3ESlSkQu3kCfWBxvZV0\n",
      "Published concept to http://purl.org/np/RAsljALsS_3aL57HIU-8tdyxYl3ESlSkQu3kCfWBxvZV0#step\n",
      "Published to http://purl.org/np/RAUod2ToGWqyvBbFqKRPB4ilwjx78fYR1l37ORKDXLsk4\n",
      "Published concept to http://purl.org/np/RAUod2ToGWqyvBbFqKRPB4ilwjx78fYR1l37ORKDXLsk4#step\n",
      "Published to http://purl.org/np/RAuKOFZgd1RehE5vOclqdvJo2zchDUUF33VIh8A_8DXtM\n",
      "Published concept to http://purl.org/np/RAuKOFZgd1RehE5vOclqdvJo2zchDUUF33VIh8A_8DXtM#step\n",
      "Published to http://purl.org/np/RAFHW530LVNe6DwMV4uvA5cDLItEuvEbHJhfczfW92nMg\n",
      "Published concept to http://purl.org/np/RAFHW530LVNe6DwMV4uvA5cDLItEuvEbHJhfczfW92nMg#plan\n"
     ]
    },
    {
     "data": {
      "text/plain": [
       "{'nanopub_uri': 'http://purl.org/np/RAFHW530LVNe6DwMV4uvA5cDLItEuvEbHJhfczfW92nMg',\n",
       " 'concept_uri': 'http://purl.org/np/RAFHW530LVNe6DwMV4uvA5cDLItEuvEbHJhfczfW92nMg#plan'}"
      ]
     },
     "execution_count": 9,
     "metadata": {},
     "output_type": "execute_result"
    }
   ],
   "source": [
    "fw.publish_as_nanopub()"
   ]
  },
  {
   "cell_type": "markdown",
   "id": "automatic-miller",
   "metadata": {},
   "source": [
    "Be warned though - the above will keep publishing to the 'real' nanopub server network. For testing you may prefer to publish to the test servers as follows (note that this will refuse to publish a workflow you have already published :"
   ]
  },
  {
   "cell_type": "code",
   "execution_count": 10,
   "id": "established-purple",
   "metadata": {},
   "outputs": [
    {
     "name": "stderr",
     "output_type": "stream",
     "text": [
      "/Users/robinrichardson/miniconda3/envs/fairworkflows/lib/python3.8/site-packages/fairworkflows/rdf_wrapper.py:213: UserWarning: Cannot publish() this Fair object. This rdf is already published (at http://purl.org/np/RAFHW530LVNe6DwMV4uvA5cDLItEuvEbHJhfczfW92nMg#plan) and has not been modified locally.\n",
      "  warnings.warn(f'Cannot publish() this Fair object. '\n"
     ]
    },
    {
     "data": {
      "text/plain": [
       "{'nanopub_uri': None, 'concept_uri': None}"
      ]
     },
     "execution_count": 10,
     "metadata": {},
     "output_type": "execute_result"
    }
   ],
   "source": [
    "fw.publish_as_nanopub(use_test_server=True)"
   ]
  },
  {
   "cell_type": "markdown",
   "id": "right-module",
   "metadata": {},
   "source": [
    "You can then find your nanopublications by replacing the base of the URI with http://test-server.nanopubs.lod.labs.vu.nl/"
   ]
  },
  {
   "cell_type": "markdown",
   "id": "automatic-plumbing",
   "metadata": {},
   "source": [
    "## Execute your workflow using .execute()\n",
    "Set num_threads greater than 1 if you wish to exploit parallelisation in your workflow. A separate RetroProv object is also returned that can (optionally) be published as a nanopublication."
   ]
  },
  {
   "cell_type": "code",
   "execution_count": 11,
   "id": "transsexual-management",
   "metadata": {},
   "outputs": [
    {
     "data": {
      "text/plain": [
       "-66"
      ]
     },
     "execution_count": 11,
     "metadata": {},
     "output_type": "execute_result"
    }
   ],
   "source": [
    "result, prov = fw.execute(num_threads=2)\n",
    "result"
   ]
  },
  {
   "cell_type": "markdown",
   "id": "naval-depth",
   "metadata": {},
   "source": [
    " ## Retrospective prov\n",
    " The retrospective prov object is not yet implemented, pending one of the RDF tasks set out in the planning document. For now, you may see simply the provenance trace for this run. We wish to turn this into a (Plex) RDF nanopublication:"
   ]
  },
  {
   "cell_type": "code",
   "execution_count": 12,
   "id": "exposed-mileage",
   "metadata": {},
   "outputs": [
    {
     "name": "stdout",
     "output_type": "stream",
     "text": [
      "2021-01-24 21:31:39,751 - job            13: add(1, 4)\n",
      "2021-01-24 21:31:39,751 - job            14: sub(1, 4)\n",
      "2021-01-24 21:31:39,753 - result         13 [add(1, 4)]: retrieved -> 5\n",
      "2021-01-24 21:31:39,753 - job            15: weird(5, 3)\n",
      "2021-01-24 21:31:39,754 - result         14 [sub(1, 4)]: retrieved -> -3\n",
      "2021-01-24 21:31:39,754 - result         15 [weird(5, 3)]: retrieved -> 22\n",
      "2021-01-24 21:31:39,755 - job            16: mul(22, -3)\n",
      "2021-01-24 21:31:39,755 - result         16 [mul(22, -3)]: retrieved -> -66\n",
      "2021-01-24 21:31:39,755 - -end-of-queue-\n",
      "\n"
     ]
    }
   ],
   "source": [
    "print(prov)"
   ]
  },
  {
   "cell_type": "code",
   "execution_count": null,
   "id": "familiar-bundle",
   "metadata": {},
   "outputs": [],
   "source": []
  },
  {
   "cell_type": "code",
   "execution_count": null,
   "id": "broke-secretary",
   "metadata": {},
   "outputs": [],
   "source": []
  },
  {
   "cell_type": "code",
   "execution_count": null,
   "id": "short-sender",
   "metadata": {},
   "outputs": [],
   "source": []
  },
  {
   "cell_type": "code",
   "execution_count": 2,
   "id": "completed-darkness",
   "metadata": {},
   "outputs": [],
   "source": [
    "from fairworkflows import is_fairworkflow, is_fairstep, FairStep\n",
    "from PIL import Image\n",
    "@is_fairstep(label='Rotating an image represented as a string by 180 degrees')\n",
    "def rotate_image(im:Image) -> Image:\n",
    "    return im"
   ]
  },
  {
   "cell_type": "code",
   "execution_count": 3,
   "id": "differential-ability",
   "metadata": {},
   "outputs": [],
   "source": [
    "@is_fairworkflow(label='Image serialization?')\n",
    "def process_image(im: Image):\n",
    "    return rotate_image(im)"
   ]
  },
  {
   "cell_type": "code",
   "execution_count": 4,
   "id": "initial-northeast",
   "metadata": {},
   "outputs": [],
   "source": [
    "fw = process_image(Image.open(\"img1.png\"))"
   ]
  },
  {
   "cell_type": "code",
   "execution_count": 10,
   "id": "tender-advisory",
   "metadata": {},
   "outputs": [],
   "source": [
    "r,p = fw.execute()"
   ]
  },
  {
   "cell_type": "code",
   "execution_count": 11,
   "id": "flexible-sessions",
   "metadata": {},
   "outputs": [
    {
     "name": "stdout",
     "output_type": "stream",
     "text": [
      "<PIL.PngImagePlugin.PngImageFile image mode=RGB size=200x200 at 0x7FE11B9E8640>\n"
     ]
    }
   ],
   "source": [
    "print(r)"
   ]
  },
  {
   "cell_type": "code",
   "execution_count": 13,
   "id": "tender-hungarian",
   "metadata": {},
   "outputs": [
    {
     "name": "stdout",
     "output_type": "stream",
     "text": [
      "Help on NoneType object:\n",
      "\n",
      "class NoneType(object)\n",
      " |  Methods defined here:\n",
      " |  \n",
      " |  __bool__(self, /)\n",
      " |      self != 0\n",
      " |  \n",
      " |  __repr__(self, /)\n",
      " |      Return repr(self).\n",
      " |  \n",
      " |  ----------------------------------------------------------------------\n",
      " |  Static methods defined here:\n",
      " |  \n",
      " |  __new__(*args, **kwargs) from builtins.type\n",
      " |      Create and return a new object.  See help(type) for accurate signature.\n",
      "\n"
     ]
    }
   ],
   "source": [
    "help(r.show())"
   ]
  },
  {
   "cell_type": "code",
   "execution_count": null,
   "id": "trying-slope",
   "metadata": {},
   "outputs": [],
   "source": []
  },
  {
   "cell_type": "code",
   "execution_count": null,
   "id": "moved-preservation",
   "metadata": {},
   "outputs": [],
   "source": []
  },
  {
   "cell_type": "code",
   "execution_count": null,
   "id": "unsigned-helen",
   "metadata": {},
   "outputs": [],
   "source": []
  }
 ],
 "metadata": {
  "kernelspec": {
   "display_name": "Python 3",
   "language": "python",
   "name": "python3"
  },
  "language_info": {
   "codemirror_mode": {
    "name": "ipython",
    "version": 3
   },
   "file_extension": ".py",
   "mimetype": "text/x-python",
   "name": "python",
   "nbconvert_exporter": "python",
   "pygments_lexer": "ipython3",
   "version": "3.8.6"
  }
 },
 "nbformat": 4,
 "nbformat_minor": 5
}
