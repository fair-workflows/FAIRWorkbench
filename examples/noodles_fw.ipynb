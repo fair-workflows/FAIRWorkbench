{
 "cells": [
  {
   "cell_type": "markdown",
   "id": "worth-borough",
   "metadata": {},
   "source": [
    "# FairWorkflows execution demo"
   ]
  },
  {
   "cell_type": "markdown",
   "id": "suffering-lodging",
   "metadata": {},
   "source": [
    "## Define the steps of your workflow\n",
    "Each step should be its own function. Mark the function as such with the @fairstep decorator."
   ]
  },
  {
   "cell_type": "code",
   "execution_count": 1,
   "id": "rocky-insured",
   "metadata": {},
   "outputs": [],
   "source": [
    "from fairworkflows import is_fairworkflow, is_fairstep"
   ]
  },
  {
   "cell_type": "code",
   "execution_count": 2,
   "id": "equipped-salem",
   "metadata": {},
   "outputs": [],
   "source": [
    "@is_fairstep(label='Addition')\n",
    "def add(a:float, b:float) -> float:\n",
    "    \"\"\"Adding up numbers!\"\"\"\n",
    "    return a + b"
   ]
  },
  {
   "cell_type": "code",
   "execution_count": 3,
   "id": "registered-assembly",
   "metadata": {},
   "outputs": [],
   "source": [
    "@is_fairstep(label='Subtraction')\n",
    "def sub(a: float, b: float) -> float:\n",
    "    \"\"\"Subtracting numbers.\"\"\"\n",
    "    return a - b"
   ]
  },
  {
   "cell_type": "code",
   "execution_count": 4,
   "id": "stopped-camcorder",
   "metadata": {},
   "outputs": [],
   "source": [
    "@is_fairstep(label='Multiplication')\n",
    "def mul(a: float, b: float) -> float:\n",
    "    \"\"\"Multiplying numbers.\"\"\"\n",
    "    return a * b"
   ]
  },
  {
   "cell_type": "code",
   "execution_count": 5,
   "id": "broad-indonesia",
   "metadata": {},
   "outputs": [],
   "source": [
    "@is_fairstep(label='A strange step with little use')\n",
    "def weird(a: float, b:float) -> float:\n",
    "    \"\"\"A weird function\"\"\"\n",
    "    return a * 2 + b * 4\n",
    "    "
   ]
  },
  {
   "cell_type": "markdown",
   "id": "searching-gospel",
   "metadata": {},
   "source": [
    "## Define your workflow using @fairworkflow\n",
    "Now write a function which describes your workflow. Mark this function with the @fairworkflow decorator."
   ]
  },
  {
   "cell_type": "code",
   "execution_count": 6,
   "id": "chronic-reggae",
   "metadata": {},
   "outputs": [],
   "source": [
    "@is_fairworkflow(label='My Workflow')\n",
    "def my_workflow(in1, in2, in3):\n",
    "    \"\"\"\n",
    "    A simple addition, subtraction, multiplication workflow\n",
    "    \"\"\"\n",
    "    t1 = add(in1, in2)\n",
    "    t2 = sub(in1, in2)\n",
    "    t3 = mul(weird(t1, in3), t2)\n",
    "    return t3"
   ]
  },
  {
   "cell_type": "markdown",
   "id": "scenic-worker",
   "metadata": {},
   "source": [
    "## Create an instance of your workflow and display it"
   ]
  },
  {
   "cell_type": "code",
   "execution_count": 7,
   "id": "heavy-proportion",
   "metadata": {},
   "outputs": [
    {
     "data": {
      "text/plain": [
       "fairworkflows.fairworkflow.FairWorkflow"
      ]
     },
     "execution_count": 7,
     "metadata": {},
     "output_type": "execute_result"
    }
   ],
   "source": [
    "fw = my_workflow(1, 4, 3)\n",
    "type(fw)"
   ]
  },
  {
   "cell_type": "code",
   "execution_count": 8,
   "id": "suffering-emission",
   "metadata": {},
   "outputs": [
    {
     "data": {
      "text/markdown": [
       "| workflow |\n",
       "| --- |\n",
       "| ![workflow workflow](control-workflow.svg) |"
      ],
      "text/plain": [
       "<IPython.core.display.Markdown object>"
      ]
     },
     "metadata": {},
     "output_type": "display_data"
    }
   ],
   "source": [
    "fw.display()"
   ]
  },
  {
   "cell_type": "markdown",
   "id": "tribal-variation",
   "metadata": {},
   "source": [
    "## Publish the (prospective) workflow\n",
    "You may publish the workflow, and its steps, as nanopublications in the usual manner:"
   ]
  },
  {
   "cell_type": "code",
   "execution_count": 9,
   "id": "southern-philosophy",
   "metadata": {},
   "outputs": [],
   "source": [
    "#fw.publish_as_nanopub()"
   ]
  },
  {
   "cell_type": "markdown",
   "id": "extreme-participation",
   "metadata": {},
   "source": [
    "Be warned though - the above will keep publishing to the 'real' nanopub server network. For testing you may prefer to publish to the test servers as follows (note that this will refuse to publish a workflow you have already published :"
   ]
  },
  {
   "cell_type": "code",
   "execution_count": 10,
   "id": "ranging-andrews",
   "metadata": {},
   "outputs": [
    {
     "name": "stdout",
     "output_type": "stream",
     "text": [
      "Published to http://purl.org/np/RAiPTeYNAhFAfYft6htEHljFXxR8bCaRxH2Ais1b9prcA\n",
      "Published concept to http://purl.org/np/RAiPTeYNAhFAfYft6htEHljFXxR8bCaRxH2Ais1b9prcA#step\n",
      "Published to http://purl.org/np/RAGFccFuQRkxa5R5AjDUN6SwF3LQE8pAc3bIAdp9KD16I\n",
      "Published concept to http://purl.org/np/RAGFccFuQRkxa5R5AjDUN6SwF3LQE8pAc3bIAdp9KD16I#step\n",
      "Published to http://purl.org/np/RAoGKox_-enW_2DrM6qcny4wM6IYfYndsp8ABOaxLu754\n",
      "Published concept to http://purl.org/np/RAoGKox_-enW_2DrM6qcny4wM6IYfYndsp8ABOaxLu754#step\n",
      "Published to http://purl.org/np/RANnEexpRFhnlVx5Myv-ZVJx07dSFrhM_BP0RSqW39_Ag\n",
      "Published concept to http://purl.org/np/RANnEexpRFhnlVx5Myv-ZVJx07dSFrhM_BP0RSqW39_Ag#step\n",
      "Published to http://purl.org/np/RA2BTYCsFPkkdct55P2Am_l3fxHQZp1ariOPkQoKx_XaY\n",
      "Published concept to http://purl.org/np/RA2BTYCsFPkkdct55P2Am_l3fxHQZp1ariOPkQoKx_XaY#plan\n"
     ]
    },
    {
     "data": {
      "text/plain": [
       "{'nanopub_uri': 'http://purl.org/np/RA2BTYCsFPkkdct55P2Am_l3fxHQZp1ariOPkQoKx_XaY',\n",
       " 'concept_uri': 'http://purl.org/np/RA2BTYCsFPkkdct55P2Am_l3fxHQZp1ariOPkQoKx_XaY#plan'}"
      ]
     },
     "execution_count": 10,
     "metadata": {},
     "output_type": "execute_result"
    }
   ],
   "source": [
    "fw.publish_as_nanopub(use_test_server=True)"
   ]
  },
  {
   "cell_type": "markdown",
   "id": "caring-excuse",
   "metadata": {},
   "source": [
    "You can then find your nanopublications by replacing the base of the URI with http://test-server.nanopubs.lod.labs.vu.nl/"
   ]
  },
  {
   "cell_type": "markdown",
   "id": "warming-input",
   "metadata": {},
   "source": [
    "## Execute your workflow using .execute()\n",
    "Set num_threads greater than 1 if you wish to exploit parallelisation in your workflow. The retrospective provenance is also returned as a (nano) Publication object, that can optionally be published."
   ]
  },
  {
   "cell_type": "code",
   "execution_count": 13,
   "id": "electoral-bangladesh",
   "metadata": {},
   "outputs": [
    {
     "data": {
      "text/plain": [
       "-66"
      ]
     },
     "execution_count": 13,
     "metadata": {},
     "output_type": "execute_result"
    }
   ],
   "source": [
    "result, prov = fw.execute(num_threads=2)\n",
    "result"
   ]
  },
  {
   "cell_type": "markdown",
   "id": "simplified-twelve",
   "metadata": {},
   "source": [
    " ## Retrospective prov\n",
    " The retrospective prov object is not yet implemented, pending one of the RDF tasks set out in the planning document. For now, you may see simply the provenance trace for this run. We wish to turn this into a (Plex) RDF nanopublication:"
   ]
  },
  {
   "cell_type": "code",
   "execution_count": 14,
   "id": "alien-rental",
   "metadata": {},
   "outputs": [
    {
     "data": {
      "text/plain": [
       "nanopub.publication.Publication"
      ]
     },
     "execution_count": 14,
     "metadata": {},
     "output_type": "execute_result"
    }
   ],
   "source": [
    "type(prov)"
   ]
  },
  {
   "cell_type": "code",
   "execution_count": 16,
   "id": "systematic-reference",
   "metadata": {},
   "outputs": [
    {
     "name": "stdout",
     "output_type": "stream",
     "text": [
      "Original source URI = None\n",
      "@prefix : <http://purl.org/nanopub/temp/mynanopub#> .\n",
      "@prefix np: <http://www.nanopub.org/nschema#> .\n",
      "@prefix prov: <http://www.w3.org/ns/prov#> .\n",
      "@prefix rdfs: <http://www.w3.org/2000/01/rdf-schema#> .\n",
      "@prefix xsd: <http://www.w3.org/2001/XMLSchema#> .\n",
      "\n",
      ":Head {\n",
      "    : a np:Nanopublication ;\n",
      "        np:hasAssertion :assertion ;\n",
      "        np:hasProvenance :provenance ;\n",
      "        np:hasPublicationInfo :pubInfo .\n",
      "}\n",
      "\n",
      ":assertion {\n",
      "    :retroprov a prov:Activity ;\n",
      "        rdfs:label \"\"\"2021-01-28 12:01:55,933 - job             1: mul(22, -3) -> -66\n",
      "2021-01-28 12:01:55,933 - job             2: weird(5, 3) -> 22\n",
      "2021-01-28 12:01:55,933 - job             3: add(1, 4) -> 5\n",
      "2021-01-28 12:01:55,933 - job             4: sub(1, 4) -> -3\n",
      "2021-01-28 12:01:55,936 - result          1 [mul(22, -3) -> -66]: done -> -66\n",
      "2021-01-28 12:01:55,936 - -end-of-queue-\n",
      "\"\"\" ;\n",
      "        prov:wasDerivedFrom <http://purl.org/np/RA2BTYCsFPkkdct55P2Am_l3fxHQZp1ariOPkQoKx_XaY#plan> .\n",
      "}\n",
      "\n",
      ":pubInfo {\n",
      "    : prov:generatedAtTime \"2021-01-28T12:01:55.939817\"^^xsd:dateTime ;\n",
      "        prov:wasAttributedTo <https://orcid.org/0000-0000-0000-0000> .\n",
      "}\n",
      "\n",
      ":provenance {\n",
      "    :assertion prov:generatedAtTime \"2021-01-28T12:01:55.939817\"^^xsd:dateTime .\n",
      "}\n",
      "\n",
      "\n"
     ]
    }
   ],
   "source": [
    "print(prov)"
   ]
  }
 ],
 "metadata": {
  "kernelspec": {
   "display_name": "Python 3",
   "language": "python",
   "name": "python3"
  },
  "language_info": {
   "codemirror_mode": {
    "name": "ipython",
    "version": 3
   },
   "file_extension": ".py",
   "mimetype": "text/x-python",
   "name": "python",
   "nbconvert_exporter": "python",
   "pygments_lexer": "ipython3",
   "version": "3.8.6"
  }
 },
 "nbformat": 4,
 "nbformat_minor": 5
}
