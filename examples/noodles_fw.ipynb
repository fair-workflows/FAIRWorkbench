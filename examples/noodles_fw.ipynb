{
 "cells": [
  {
   "cell_type": "code",
   "execution_count": 85,
   "id": "accurate-endorsement",
   "metadata": {},
   "outputs": [],
   "source": [
    "from fairworkflows import mark_as_fairstep, FairWorkflow, FairStep\n",
    "import functools\n",
    "from noodles import schedule, run_single, run_parallel\n",
    "from noodles.tutorial import display_workflows\n",
    "\n",
    "\n",
    "def fairstep(func):\n",
    "    func.fs = mark_as_fairstep(func)\n",
    "    return schedule(func)\n",
    "\n",
    "def fairworkflow(name=None):\n",
    "    def fairworkflow_inner(func):\n",
    "        def wrapper(*args, **kwargs):\n",
    "            print(*args, **kwargs)\n",
    "            promise = func(*args, **kwargs)\n",
    "            print('aaa', promise)\n",
    "            class FairWorkflowP:\n",
    "                def __init__(self):\n",
    "                    self.name = name\n",
    "                    self.promise = promise\n",
    "                def display(self):\n",
    "                    display_workflows(prefix='control', workflow=self.promise)\n",
    "                def execute(self, num_threads=1):\n",
    "                    if num_threads==1:\n",
    "                        return run_single(self.promise)\n",
    "                    elif num_threads>1:\n",
    "                        return run_parallel(self.promise, num_threads)\n",
    "            return FairWorkflowP()\n",
    "        return wrapper\n",
    "    return fairworkflow_inner"
   ]
  },
  {
   "cell_type": "code",
   "execution_count": 86,
   "id": "reflected-republic",
   "metadata": {},
   "outputs": [],
   "source": [
    "@fairstep\n",
    "def add(a, b):\n",
    "  \"\"\"Adding up numbers!\"\"\"\n",
    "  return a + b"
   ]
  },
  {
   "cell_type": "code",
   "execution_count": 87,
   "id": "cubic-basics",
   "metadata": {},
   "outputs": [],
   "source": [
    "@fairstep\n",
    "def sub(a, b):\n",
    "  \"\"\"Subtracting numbers.\"\"\"\n",
    "  return a - b"
   ]
  },
  {
   "cell_type": "code",
   "execution_count": 88,
   "id": "virtual-triple",
   "metadata": {},
   "outputs": [],
   "source": [
    "@fairstep\n",
    "def mul(a, b):\n",
    "  \"\"\"Multiplying numbers.\"\"\"\n",
    "  return a * b"
   ]
  },
  {
   "cell_type": "code",
   "execution_count": 89,
   "id": "rocky-times",
   "metadata": {},
   "outputs": [],
   "source": [
    "@fairworkflow(name='My Workflow')\n",
    "def my_workflow(in1, in2, in3):\n",
    "    t1 = add(in1, in2)\n",
    "    t2 = sub(in1, in2)\n",
    "    t3 = mul(sub(t1, in3), t2)\n",
    "    return t3"
   ]
  },
  {
   "cell_type": "code",
   "execution_count": null,
   "id": "bridal-kazakhstan",
   "metadata": {},
   "outputs": [],
   "source": []
  },
  {
   "cell_type": "code",
   "execution_count": 90,
   "id": "average-turkey",
   "metadata": {},
   "outputs": [
    {
     "name": "stdout",
     "output_type": "stream",
     "text": [
      "1 4 3\n",
      "aaa <noodles.interface.decorator.PromisedObject object at 0x7f801588f700>\n"
     ]
    }
   ],
   "source": [
    "fw = my_workflow(1, 4, 3)"
   ]
  },
  {
   "cell_type": "code",
   "execution_count": 91,
   "id": "afraid-reasoning",
   "metadata": {},
   "outputs": [
    {
     "data": {
      "text/markdown": [
       "| workflow |\n",
       "| --- |\n",
       "| ![workflow workflow](control-workflow.svg) |"
      ],
      "text/plain": [
       "<IPython.core.display.Markdown object>"
      ]
     },
     "metadata": {},
     "output_type": "display_data"
    }
   ],
   "source": [
    "fw.display()"
   ]
  },
  {
   "cell_type": "code",
   "execution_count": 92,
   "id": "aware-wales",
   "metadata": {},
   "outputs": [
    {
     "data": {
      "text/plain": [
       "-6"
      ]
     },
     "execution_count": 92,
     "metadata": {},
     "output_type": "execute_result"
    }
   ],
   "source": [
    "answer = fw.execute(num_threads=2)\n",
    "\n",
    "answer"
   ]
  },
  {
   "cell_type": "code",
   "execution_count": null,
   "id": "exotic-caribbean",
   "metadata": {},
   "outputs": [],
   "source": []
  }
 ],
 "metadata": {
  "kernelspec": {
   "display_name": "Python 3",
   "language": "python",
   "name": "python3"
  },
  "language_info": {
   "codemirror_mode": {
    "name": "ipython",
    "version": 3
   },
   "file_extension": ".py",
   "mimetype": "text/x-python",
   "name": "python",
   "nbconvert_exporter": "python",
   "pygments_lexer": "ipython3",
   "version": "3.8.6"
  }
 },
 "nbformat": 4,
 "nbformat_minor": 5
}
