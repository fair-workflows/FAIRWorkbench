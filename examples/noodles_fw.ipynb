{
 "cells": [
  {
   "cell_type": "markdown",
   "id": "designed-spoke",
   "metadata": {},
   "source": [
    "# FairWorkflows execution demo"
   ]
  },
  {
   "cell_type": "markdown",
   "id": "secure-render",
   "metadata": {},
   "source": [
    "## Define the steps of your workflow\n",
    "Each step should be its own function. Mark the function as such with the @fairstep decorator."
   ]
  },
  {
   "cell_type": "code",
   "execution_count": 9,
   "id": "spiritual-order",
   "metadata": {},
   "outputs": [],
   "source": [
    "from fairworkflows import is_fairworkflow, is_fairstep"
   ]
  },
  {
   "cell_type": "code",
   "execution_count": 10,
   "id": "wired-bibliography",
   "metadata": {},
   "outputs": [],
   "source": [
    "@is_fairstep(label='Addition')\n",
    "def add(a:float, b:float) -> float:\n",
    "    \"\"\"Adding up numbers!\"\"\"\n",
    "    return a + b"
   ]
  },
  {
   "cell_type": "code",
   "execution_count": 11,
   "id": "brilliant-thumb",
   "metadata": {},
   "outputs": [],
   "source": [
    "@is_fairstep(label='Subtraction')\n",
    "def sub(a: float, b: float) -> float:\n",
    "    \"\"\"Subtracting numbers.\"\"\"\n",
    "    return a - b"
   ]
  },
  {
   "cell_type": "code",
   "execution_count": 12,
   "id": "interested-margin",
   "metadata": {},
   "outputs": [],
   "source": [
    "@is_fairstep(label='Multiplication')\n",
    "def mul(a: float, b: float) -> float:\n",
    "    \"\"\"Multiplying numbers.\"\"\"\n",
    "    return a * b"
   ]
  },
  {
   "cell_type": "code",
   "execution_count": 13,
   "id": "closing-vatican",
   "metadata": {},
   "outputs": [],
   "source": [
    "@is_fairstep(label='A strange step with little use')\n",
    "def weird(a: float, b:float) -> float:\n",
    "    \"\"\"A weird function\"\"\"\n",
    "    return a * 2 + b * 4\n",
    "    "
   ]
  },
  {
   "cell_type": "markdown",
   "id": "centered-nowhere",
   "metadata": {},
   "source": [
    "## Define your workflow using @fairworkflow\n",
    "Now write a function which describes your workflow. Mark this function with the @fairworkflow decorator."
   ]
  },
  {
   "cell_type": "code",
   "execution_count": 14,
   "id": "paperback-recycling",
   "metadata": {},
   "outputs": [],
   "source": [
    "@is_fairworkflow(label='My Workflow')\n",
    "def my_workflow(in1, in2, in3):\n",
    "    \"\"\"\n",
    "    A simple addition, subtraction, multiplication workflow\n",
    "    \"\"\"\n",
    "    t1 = add(in1, in2)\n",
    "    t2 = sub(in1, in2)\n",
    "    t3 = mul(weird(t1, in3), t2)\n",
    "    return t3"
   ]
  },
  {
   "cell_type": "markdown",
   "id": "sustained-sweden",
   "metadata": {},
   "source": [
    "## Create an instance of your workflow and display it"
   ]
  },
  {
   "cell_type": "code",
   "execution_count": 15,
   "id": "noted-aviation",
   "metadata": {},
   "outputs": [
    {
     "data": {
      "text/plain": [
       "fairworkflows.fairworkflow.FairWorkflow"
      ]
     },
     "execution_count": 15,
     "metadata": {},
     "output_type": "execute_result"
    }
   ],
   "source": [
    "fw = my_workflow(1, 4, 3)\n",
    "type(fw)"
   ]
  },
  {
   "cell_type": "code",
   "execution_count": 16,
   "id": "confirmed-hudson",
   "metadata": {},
   "outputs": [
    {
     "data": {
      "text/markdown": [
       "| workflow |\n",
       "| --- |\n",
       "| ![workflow workflow](control-workflow.svg) |"
      ],
      "text/plain": [
       "<IPython.core.display.Markdown object>"
      ]
     },
     "metadata": {},
     "output_type": "display_data"
    }
   ],
   "source": [
    "fw.display()"
   ]
  },
  {
   "cell_type": "markdown",
   "id": "outside-glance",
   "metadata": {},
   "source": [
    "## Execute your workflow using .execute()\n",
    "Set num_threads greater than 1 if you wish to exploit parallelisation in your workflow."
   ]
  },
  {
   "cell_type": "code",
   "execution_count": 13,
   "id": "front-abuse",
   "metadata": {},
   "outputs": [
    {
     "data": {
      "text/plain": [
       "-66"
      ]
     },
     "execution_count": 13,
     "metadata": {},
     "output_type": "execute_result"
    }
   ],
   "source": [
    "answer = fw.execute(num_threads=2)\n",
    "answer"
   ]
  },
  {
   "cell_type": "markdown",
   "id": "compound-shepherd",
   "metadata": {},
   "source": [
    "## Get retrospective provenance of run\n",
    "This is not in RDF format yet, but we have all the information needed."
   ]
  },
  {
   "cell_type": "code",
   "execution_count": 12,
   "id": "comprehensive-finland",
   "metadata": {},
   "outputs": [
    {
     "ename": "AttributeError",
     "evalue": "'FairWorkflow' object has no attribute 'prov'",
     "output_type": "error",
     "traceback": [
      "\u001b[0;31m---------------------------------------------------------------------------\u001b[0m",
      "\u001b[0;31mAttributeError\u001b[0m                            Traceback (most recent call last)",
      "\u001b[0;32m<ipython-input-12-fa58d0e49b7b>\u001b[0m in \u001b[0;36m<module>\u001b[0;34m\u001b[0m\n\u001b[0;32m----> 1\u001b[0;31m \u001b[0mfw\u001b[0m\u001b[0;34m.\u001b[0m\u001b[0mprov\u001b[0m\u001b[0;34m(\u001b[0m\u001b[0;34m)\u001b[0m\u001b[0;34m\u001b[0m\u001b[0;34m\u001b[0m\u001b[0m\n\u001b[0m",
      "\u001b[0;31mAttributeError\u001b[0m: 'FairWorkflow' object has no attribute 'prov'"
     ]
    }
   ],
   "source": [
    "fw.prov()"
   ]
  },
  {
   "cell_type": "markdown",
   "id": "precious-domain",
   "metadata": {},
   "source": [
    "## Get Plex RDF of workflow"
   ]
  },
  {
   "cell_type": "code",
   "execution_count": null,
   "id": "concerned-massage",
   "metadata": {},
   "outputs": [],
   "source": [
    "fw.get_workflow()"
   ]
  },
  {
   "cell_type": "raw",
   "id": "continent-editing",
   "metadata": {},
   "source": []
  },
  {
   "cell_type": "code",
   "execution_count": null,
   "id": "capital-minority",
   "metadata": {},
   "outputs": [],
   "source": []
  },
  {
   "cell_type": "code",
   "execution_count": null,
   "id": "smoking-lebanon",
   "metadata": {},
   "outputs": [],
   "source": []
  },
  {
   "cell_type": "code",
   "execution_count": null,
   "id": "controversial-control",
   "metadata": {},
   "outputs": [],
   "source": []
  },
  {
   "cell_type": "code",
   "execution_count": null,
   "id": "alternate-template",
   "metadata": {},
   "outputs": [],
   "source": []
  },
  {
   "cell_type": "code",
   "execution_count": null,
   "id": "ecological-divorce",
   "metadata": {},
   "outputs": [],
   "source": []
  },
  {
   "cell_type": "code",
   "execution_count": null,
   "id": "liberal-queen",
   "metadata": {},
   "outputs": [],
   "source": []
  },
  {
   "cell_type": "code",
   "execution_count": null,
   "id": "specific-humanitarian",
   "metadata": {},
   "outputs": [],
   "source": []
  },
  {
   "cell_type": "code",
   "execution_count": null,
   "id": "thick-budapest",
   "metadata": {},
   "outputs": [],
   "source": []
  },
  {
   "cell_type": "code",
   "execution_count": null,
   "id": "italic-color",
   "metadata": {},
   "outputs": [],
   "source": []
  },
  {
   "cell_type": "code",
   "execution_count": null,
   "id": "respiratory-netscape",
   "metadata": {},
   "outputs": [],
   "source": []
  },
  {
   "cell_type": "code",
   "execution_count": null,
   "id": "marked-shark",
   "metadata": {},
   "outputs": [],
   "source": []
  },
  {
   "cell_type": "code",
   "execution_count": null,
   "id": "material-robertson",
   "metadata": {},
   "outputs": [],
   "source": []
  }
 ],
 "metadata": {
  "kernelspec": {
   "display_name": "Python 3",
   "language": "python",
   "name": "python3"
  },
  "language_info": {
   "codemirror_mode": {
    "name": "ipython",
    "version": 3
   },
   "file_extension": ".py",
   "mimetype": "text/x-python",
   "name": "python",
   "nbconvert_exporter": "python",
   "pygments_lexer": "ipython3",
   "version": "3.8.6"
  }
 },
 "nbformat": 4,
 "nbformat_minor": 5
}
