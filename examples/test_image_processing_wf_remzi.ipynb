{
 "cells": [
  {
   "cell_type": "code",
   "execution_count": 1,
   "metadata": {},
   "outputs": [],
   "source": [
    "from fairworkflows import is_fairworkflow, is_fairstep"
   ]
  },
  {
   "cell_type": "code",
   "execution_count": 2,
   "metadata": {},
   "outputs": [],
   "source": [
    "import io"
   ]
  },
  {
   "cell_type": "code",
   "execution_count": 3,
   "metadata": {},
   "outputs": [],
   "source": [
    "from PIL import Image"
   ]
  },
  {
   "cell_type": "code",
   "execution_count": 47,
   "metadata": {
    "nanopubURI": "http://purl.org/np/RAjc1d2L36iZcgEJ7Lcp06mWA6gA1QOJh5oY5bPRDfbkk"
   },
   "outputs": [],
   "source": [
    "@is_fairstep(label='Resize image')\n",
    "def resize_image(imgStr:str) -> str:    \n",
    "    \"\"\"Resize the image 300x300 \"\"\"\n",
    "    image = Image.open(io.BytesIO(imgStr))\n",
    "    new_image = image.resize((300, 300))\n",
    "    imgOut = io.BytesIO()\n",
    "    new_image.save(imgOut, format=\"png\")\n",
    "    return imgOut.getvalue()"
   ]
  },
  {
   "cell_type": "code",
   "execution_count": 5,
   "metadata": {
    "nanopubURI": "http://purl.org/np/RAlBYV-4V0SjcFXeylB7_MSPlrVqt9ftMNdFUoZZIJlNs"
   },
   "outputs": [],
   "source": [
    "@is_fairstep(label='Rotate image')\n",
    "def rotate_image(imgStr:str) -> str:    \n",
    "    \"\"\"Rotate image\"\"\"\n",
    "    image = Image.open(io.BytesIO(imgStr))\n",
    "    new_image = image.transpose(Image.ROTATE_90)\n",
    "    imgOut = io.BytesIO()\n",
    "    new_image.save(imgOut, format=\"png\")\n",
    "    return imgOut.getvalue()"
   ]
  },
  {
   "cell_type": "code",
   "execution_count": 61,
   "metadata": {},
   "outputs": [],
   "source": [
    "@is_fairworkflow(label='My Workflow for Resize and Rotate')\n",
    "def my_workflow(im1):\n",
    "    \"\"\"\n",
    "    A simple addition, subtraction, multiplication workflow\n",
    "    \"\"\"\n",
    "    im2 = resize_image(im1)\n",
    "    im3 = rotate_image(im2)\n",
    "    return im3"
   ]
  },
  {
   "cell_type": "code",
   "execution_count": 53,
   "metadata": {},
   "outputs": [],
   "source": [
    "image = Image.open('img1.png')"
   ]
  },
  {
   "cell_type": "code",
   "execution_count": 54,
   "metadata": {},
   "outputs": [],
   "source": [
    "image.show()"
   ]
  },
  {
   "cell_type": "code",
   "execution_count": 55,
   "metadata": {},
   "outputs": [],
   "source": [
    "imgIn = io.BytesIO()\n",
    "image.save(imgIn, format=\"png\")"
   ]
  },
  {
   "cell_type": "code",
   "execution_count": 56,
   "metadata": {},
   "outputs": [],
   "source": [
    "imgStr = imgIn.getvalue()"
   ]
  },
  {
   "cell_type": "code",
   "execution_count": 62,
   "metadata": {},
   "outputs": [
    {
     "data": {
      "text/plain": [
       "fairworkflows.fairworkflow.FairWorkflow"
      ]
     },
     "execution_count": 62,
     "metadata": {},
     "output_type": "execute_result"
    }
   ],
   "source": [
    "fw = my_workflow(imgStr)\n",
    "type(fw)"
   ]
  },
  {
   "cell_type": "code",
   "execution_count": 63,
   "metadata": {},
   "outputs": [],
   "source": [
    "result, prov = fw.execute(num_threads=2)\n",
    "#result"
   ]
  },
  {
   "cell_type": "code",
   "execution_count": 64,
   "metadata": {},
   "outputs": [],
   "source": [
    "imgOut =  Image.open(io.BytesIO(result))"
   ]
  },
  {
   "cell_type": "code",
   "execution_count": 65,
   "metadata": {},
   "outputs": [],
   "source": [
    "imgOut.show()"
   ]
  },
  {
   "cell_type": "code",
   "execution_count": 66,
   "metadata": {},
   "outputs": [
    {
     "data": {
      "text/markdown": [
       "| workflow |\n",
       "| --- |\n",
       "| ![workflow workflow](control-workflow.svg) |"
      ],
      "text/plain": [
       "<IPython.core.display.Markdown object>"
      ]
     },
     "metadata": {},
     "output_type": "display_data"
    }
   ],
   "source": [
    "fw.display()"
   ]
  },
  {
   "cell_type": "code",
   "execution_count": 67,
   "metadata": {},
   "outputs": [
    {
     "name": "stdout",
     "output_type": "stream",
     "text": [
      "Published to http://purl.org/np/RAsawUg0loIhWWHzeq1T_hWBnSsDTNp-pvduWX8mksbZw\n",
      "Published concept to http://purl.org/np/RAsawUg0loIhWWHzeq1T_hWBnSsDTNp-pvduWX8mksbZw#step\n",
      "Published to http://purl.org/np/RAoJhysI1KA311aKEpDtkX6UjRxZ-aOJKkKErf9G5MS9g\n",
      "Published concept to http://purl.org/np/RAoJhysI1KA311aKEpDtkX6UjRxZ-aOJKkKErf9G5MS9g#step\n",
      "Published to http://purl.org/np/RAhJUgk9_tIle6zZpLpUFI0Znqvug4reNTOTvCHXHMCmI\n",
      "Published concept to http://purl.org/np/RAhJUgk9_tIle6zZpLpUFI0Znqvug4reNTOTvCHXHMCmI#plan\n"
     ]
    },
    {
     "data": {
      "text/plain": [
       "{'nanopub_uri': 'http://purl.org/np/RAhJUgk9_tIle6zZpLpUFI0Znqvug4reNTOTvCHXHMCmI',\n",
       " 'concept_uri': 'http://purl.org/np/RAhJUgk9_tIle6zZpLpUFI0Znqvug4reNTOTvCHXHMCmI#plan'}"
      ]
     },
     "execution_count": 67,
     "metadata": {},
     "output_type": "execute_result"
    }
   ],
   "source": [
    "fw.publish_as_nanopub(use_test_server=True)"
   ]
  },
  {
   "cell_type": "code",
   "execution_count": null,
   "metadata": {},
   "outputs": [],
   "source": [
    "print(workflow)"
   ]
  },
  {
   "cell_type": "code",
   "execution_count": null,
   "metadata": {},
   "outputs": [],
   "source": []
  },
  {
   "cell_type": "code",
   "execution_count": null,
   "metadata": {
    "collapsed": false,
    "jupyter": {
     "outputs_hidden": false
    },
    "nanopubURI": "http://purl.org/np/RAz-A7EGUT9VCrSjK92HHc9DjwBssuc5eMdF09u1Psx5Q",
    "tags": [
     "Injected by FAIR Workflows Widget"
    ]
   },
   "outputs": [],
   "source": [
    "from fairworkflows import FairStep\n",
    "step = FairStep.from_nanopub(uri='http://purl.org/np/RAjc1d2L36iZcgEJ7Lcp06mWA6gA1QOJh5oY5bPRDfbkk')\n",
    "print(step)"
   ]
  },
  {
   "cell_type": "code",
   "execution_count": 1,
   "metadata": {
    "collapsed": false,
    "jupyter": {
     "outputs_hidden": false
    },
    "nanopubURI": "http://purl.org/np/RAGOsaM6E1TmiJ6o89M590Ia6cV2xLGKoQc4WQbFQdlio",
    "tags": [
     "Injected by FAIR Workflows Widget"
    ]
   },
   "outputs": [
    {
     "name": "stdout",
     "output_type": "stream",
     "text": [
      "Step URI = http://purl.org/np/RAGOsaM6E1TmiJ6o89M590Ia6cV2xLGKoQc4WQbFQdlio#step\n",
      "@prefix bpmn: <http://dkm.fbk.eu/index.php/BPMN2_Ontology#> .\n",
      "@prefix dcterms: <http://purl.org/dc/terms/> .\n",
      "@prefix pplan: <http://purl.org/net/p-plan#> .\n",
      "@prefix rdfs: <http://www.w3.org/2000/01/rdf-schema#> .\n",
      "\n",
      "_:N670443d1e2c64968bb509c8e15682905 {\n",
      "    [] a bpmn:ScriptTask,\n",
      "            pplan:Step ;\n",
      "        rdfs:label \"rotate_image\" ;\n",
      "        dcterms:description \"\"\"@add_step(workflow)\n",
      "#@FairStep\n",
      "def rotate_image(img:Image) -> Image:\n",
      "    \\\"\\\"\\\"Transforming an image\\\"\\\"\\\"\n",
      "    out = im.transpose(Image.ROTATE_90)\n",
      "    return out\n",
      "\"\"\" .\n",
      "}\n",
      "\n",
      "\n"
     ]
    }
   ],
   "source": [
    "from fairworkflows import FairStep\n",
    "step = FairStep.from_nanopub(uri='http://purl.org/np/RAGOsaM6E1TmiJ6o89M590Ia6cV2xLGKoQc4WQbFQdlio')\n",
    "print(step)"
   ]
  },
  {
   "cell_type": "code",
   "execution_count": null,
   "metadata": {},
   "outputs": [],
   "source": []
  }
 ],
 "metadata": {
  "kernelspec": {
   "display_name": "Python 3",
   "language": "python",
   "name": "python3"
  },
  "language_info": {
   "codemirror_mode": {
    "name": "ipython",
    "version": 3
   },
   "file_extension": ".py",
   "mimetype": "text/x-python",
   "name": "python",
   "nbconvert_exporter": "python",
   "pygments_lexer": "ipython3",
   "version": "3.8.3"
  }
 },
 "nbformat": 4,
 "nbformat_minor": 4
}
