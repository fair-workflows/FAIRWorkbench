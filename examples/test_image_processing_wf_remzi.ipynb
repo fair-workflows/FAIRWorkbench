{
 "cells": [
  {
   "cell_type": "code",
   "execution_count": 22,
   "metadata": {},
   "outputs": [],
   "source": [
    "from fairworkflows import FairStep, FairWorkflow, add_step\n",
    "import rdflib"
   ]
  },
  {
   "cell_type": "code",
   "execution_count": 23,
   "metadata": {},
   "outputs": [],
   "source": [
    "# Create a workflow\n",
    "workflow = FairWorkflow(description='This is a test workflow for image processing.')"
   ]
  },
  {
   "cell_type": "code",
   "execution_count": 24,
   "metadata": {},
   "outputs": [],
   "source": [
    "from PIL import Image\n",
    "@add_step(workflow)\n",
    "def resize_image(image:Image) -> Image:    \n",
    "    \"\"\"Resize the image 300x300 \"\"\"\n",
    "    new_image = image.resize((300, 300))\n",
    "    return new_image"
   ]
  },
  {
   "cell_type": "code",
   "execution_count": 25,
   "metadata": {},
   "outputs": [],
   "source": [
    "@add_step(workflow)\n",
    "def rotate_image(image:Image) -> Image:    \n",
    "    \"\"\"Rotate image\"\"\"\n",
    "    new_image = image.transpose(Image.ROTATE_90)\n",
    "    return new_image"
   ]
  },
  {
   "cell_type": "code",
   "execution_count": 26,
   "metadata": {},
   "outputs": [],
   "source": [
    "image = Image.open('images/demo_image.jpg')"
   ]
  },
  {
   "cell_type": "code",
   "execution_count": null,
   "metadata": {},
   "outputs": [],
   "source": []
  },
  {
   "cell_type": "code",
   "execution_count": 27,
   "metadata": {},
   "outputs": [],
   "source": [
    "step_resize = FairStep.from_function(resize_image)\n",
    "workflow.add(step_resize)"
   ]
  },
  {
   "cell_type": "code",
   "execution_count": 28,
   "metadata": {},
   "outputs": [],
   "source": [
    "step_rotate = FairStep.from_function(rotate_image)\n",
    "workflow.add(step_rotate)"
   ]
  },
  {
   "cell_type": "code",
   "execution_count": 29,
   "metadata": {},
   "outputs": [
    {
     "name": "stdout",
     "output_type": "stream",
     "text": [
      "Workflow URI = None\n",
      "@prefix dul: <http://www.ontologydesignpatterns.org/ont/dul/DUL.owl#> .\n",
      "@prefix ns1: <http://purl.org/dc/terms/> .\n",
      "@prefix pplan: <http://purl.org/net/p-plan#> .\n",
      "@prefix pwo: <http://purl.org/spar/pwo/> .\n",
      "\n",
      "_:N15cc257e136f4eb1989df02ecf776463 {\n",
      "    <http://purl.org/nanopub/temp/mynanopub#functionwrapped_step1607592631.296226> pplan:isStepOfPlan _:plan ;\n",
      "        dul:precedes <http://purl.org/nanopub/temp/mynanopub#functionwrapped_step1607592631.5940008> .\n",
      "\n",
      "    <http://purl.org/nanopub/temp/mynanopub#functionwrapped_step1607592631.5940008> pplan:isStepOfPlan _:plan .\n",
      "\n",
      "    _:plan a pplan:Plan ;\n",
      "        ns1:description \"This is a test workflow for image processing.\" ;\n",
      "        pwo:hasFirstStep <http://purl.org/nanopub/temp/mynanopub#functionwrapped_step1607592631.296226> .\n",
      "}\n",
      "\n",
      "\n"
     ]
    }
   ],
   "source": [
    "print(workflow)"
   ]
  },
  {
   "cell_type": "code",
   "execution_count": null,
   "metadata": {},
   "outputs": [],
   "source": []
  },
  {
   "cell_type": "code",
   "execution_count": null,
   "metadata": {
    "collapsed": false,
    "jupyter": {
     "outputs_hidden": false
    },
    "nanopubURI": "http://purl.org/np/RAz-A7EGUT9VCrSjK92HHc9DjwBssuc5eMdF09u1Psx5Q",
    "tags": [
     "Injected by FAIR Workflows Widget"
    ]
   },
   "outputs": [],
   "source": [
    "from fairworkflows import FairStep\n",
    "step = FairStep.from_nanopub(uri='http://purl.org/np/RAz-A7EGUT9VCrSjK92HHc9DjwBssuc5eMdF09u1Psx5Q')\n",
    "print(step)"
   ]
  }
 ],
 "metadata": {
  "kernelspec": {
   "display_name": "Python 3",
   "language": "python",
   "name": "python3"
  },
  "language_info": {
   "codemirror_mode": {
    "name": "ipython",
    "version": 3
   },
   "file_extension": ".py",
   "mimetype": "text/x-python",
   "name": "python",
   "nbconvert_exporter": "python",
   "pygments_lexer": "ipython3",
   "version": "3.8.3"
  }
 },
 "nbformat": 4,
 "nbformat_minor": 4
}
