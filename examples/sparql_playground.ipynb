{
 "cells": [
  {
   "cell_type": "code",
   "execution_count": 1,
   "metadata": {},
   "outputs": [],
   "source": [
    "import rdflib"
   ]
  },
  {
   "cell_type": "code",
   "execution_count": 39,
   "metadata": {},
   "outputs": [
    {
     "data": {
      "text/plain": [
       "<Graph identifier=Nd863a888bd00442abc646ef7c2ae5231 (<class 'rdflib.graph.Graph'>)>"
      ]
     },
     "execution_count": 39,
     "metadata": {},
     "output_type": "execute_result"
    }
   ],
   "source": [
    "ttl = '''\n",
    "@prefix :  <http://example/> .\n",
    "\n",
    ":order1  :item :z1 .\n",
    ":order2  :item :z2 .\n",
    "\n",
    ":z1 :name \"Small\" .\n",
    ":z1 :price 5 .\n",
    "\n",
    ":z2 :name \"Large\" .\n",
    ":z2 :price 5 .\n",
    "'''\n",
    "g = rdflib.Graph()\n",
    "g.parse(data=ttl, format='ttl')"
   ]
  },
  {
   "cell_type": "code",
   "execution_count": 40,
   "metadata": {},
   "outputs": [],
   "source": [
    "q = '''\n",
    "PREFIX : <http://example/>\n",
    "SELECT ?s ?p ?o\n",
    "WHERE {\n",
    "    ?s ?p ?o .\n",
    "    :order1 (a|!a)+ ?o .\n",
    "}\n",
    "'''\n",
    "result = rdflib.Graph(namespace_manager=g.namespace_manager)\n",
    "for triple in g.query(q):\n",
    "    result.add(triple)"
   ]
  },
  {
   "cell_type": "code",
   "execution_count": 41,
   "metadata": {},
   "outputs": [
    {
     "name": "stdout",
     "output_type": "stream",
     "text": [
      "@prefix : <http://example/> .\n",
      "@prefix xsd: <http://www.w3.org/2001/XMLSchema#> .\n",
      "\n",
      ":order1 :item :z1 .\n",
      "\n",
      ":z2 :price 5 .\n",
      "\n",
      ":z1 :name \"Small\" ;\n",
      "    :price 5 .\n",
      "\n",
      "\n"
     ]
    }
   ],
   "source": [
    "print(result.serialize(format='ttl').decode())"
   ]
  },
  {
   "cell_type": "code",
   "execution_count": null,
   "metadata": {},
   "outputs": [],
   "source": []
  }
 ],
 "metadata": {
  "kernelspec": {
   "display_name": "Python 3",
   "language": "python",
   "name": "python3"
  },
  "language_info": {
   "codemirror_mode": {
    "name": "ipython",
    "version": 3
   },
   "file_extension": ".py",
   "mimetype": "text/x-python",
   "name": "python",
   "nbconvert_exporter": "python",
   "pygments_lexer": "ipython3",
   "version": "3.6.10"
  }
 },
 "nbformat": 4,
 "nbformat_minor": 4
}
