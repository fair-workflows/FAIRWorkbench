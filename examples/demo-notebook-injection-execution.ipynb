{
 "cells": [
  {
   "cell_type": "code",
   "execution_count": 2,
   "metadata": {},
   "outputs": [],
   "source": [
    "from fairworkflows import FairStep, FairWorkflow, mark_as_fairstep"
   ]
  },
  {
   "cell_type": "markdown",
   "metadata": {},
   "source": [
    "## Use the `mark_as_fairstep` decorator to mark a function as a FAIR step"
   ]
  },
  {
   "cell_type": "markdown",
   "metadata": {},
   "source": [
    "It triggers validation:"
   ]
  },
  {
   "cell_type": "code",
   "execution_count": 5,
   "metadata": {},
   "outputs": [
    {
     "ename": "AssertionError",
     "evalue": "Step RDF has no rdfs:label\nStep RDF must be either a bpmn:ManualTask or a bpmn:ScriptTask\n",
     "output_type": "error",
     "traceback": [
      "\u001b[0;31m---------------------------------------------------------------------------\u001b[0m",
      "\u001b[0;31mAssertionError\u001b[0m                            Traceback (most recent call last)",
      "\u001b[0;32m<ipython-input-5-372da43d5d70>\u001b[0m in \u001b[0;36m<module>\u001b[0;34m\u001b[0m\n\u001b[1;32m      1\u001b[0m \u001b[0;34m@\u001b[0m\u001b[0mmark_as_fairstep\u001b[0m\u001b[0;34m(\u001b[0m\u001b[0;34m)\u001b[0m\u001b[0;34m\u001b[0m\u001b[0;34m\u001b[0m\u001b[0m\n\u001b[0;32m----> 2\u001b[0;31m \u001b[0;32mdef\u001b[0m \u001b[0madd\u001b[0m\u001b[0;34m(\u001b[0m\u001b[0ma\u001b[0m\u001b[0;34m:\u001b[0m \u001b[0mint\u001b[0m\u001b[0;34m,\u001b[0m \u001b[0mb\u001b[0m\u001b[0;34m:\u001b[0m \u001b[0mint\u001b[0m\u001b[0;34m)\u001b[0m \u001b[0;34m->\u001b[0m \u001b[0mint\u001b[0m\u001b[0;34m:\u001b[0m\u001b[0;34m\u001b[0m\u001b[0;34m\u001b[0m\u001b[0m\n\u001b[0m\u001b[1;32m      3\u001b[0m     \"\"\"\n\u001b[1;32m      4\u001b[0m     \u001b[0mComputational\u001b[0m \u001b[0mstep\u001b[0m \u001b[0madding\u001b[0m \u001b[0mtwo\u001b[0m \u001b[0mints\u001b[0m \u001b[0mtogether\u001b[0m\u001b[0;34m.\u001b[0m\u001b[0;34m\u001b[0m\u001b[0;34m\u001b[0m\u001b[0m\n\u001b[1;32m      5\u001b[0m     \"\"\"\n",
      "\u001b[0;32m~/opt/anaconda3/envs/fair3.6/lib/python3.6/site-packages/fairworkflows/fairstep.py\u001b[0m in \u001b[0;36m_modify_function\u001b[0;34m(func)\u001b[0m\n\u001b[1;32m    394\u001b[0m                                       \u001b[0minputs\u001b[0m\u001b[0;34m=\u001b[0m\u001b[0minputs\u001b[0m\u001b[0;34m,\u001b[0m\u001b[0;34m\u001b[0m\u001b[0;34m\u001b[0m\u001b[0m\n\u001b[1;32m    395\u001b[0m                                       outputs=outputs)\n\u001b[0;32m--> 396\u001b[0;31m         \u001b[0m_wrapper\u001b[0m\u001b[0;34m.\u001b[0m\u001b[0m_fairstep\u001b[0m\u001b[0;34m.\u001b[0m\u001b[0mvalidate\u001b[0m\u001b[0;34m(\u001b[0m\u001b[0;34m)\u001b[0m\u001b[0;34m\u001b[0m\u001b[0;34m\u001b[0m\u001b[0m\n\u001b[0m\u001b[1;32m    397\u001b[0m         \u001b[0;32mreturn\u001b[0m \u001b[0m_wrapper\u001b[0m\u001b[0;34m\u001b[0m\u001b[0;34m\u001b[0m\u001b[0m\n\u001b[1;32m    398\u001b[0m     \u001b[0;32mreturn\u001b[0m \u001b[0m_modify_function\u001b[0m\u001b[0;34m\u001b[0m\u001b[0;34m\u001b[0m\u001b[0m\n",
      "\u001b[0;32m~/opt/anaconda3/envs/fair3.6/lib/python3.6/site-packages/fairworkflows/fairstep.py\u001b[0m in \u001b[0;36mvalidate\u001b[0;34m(self, shacl)\u001b[0m\n\u001b[1;32m    326\u001b[0m             \u001b[0mconforms\u001b[0m \u001b[0;34m=\u001b[0m \u001b[0;32mFalse\u001b[0m\u001b[0;34m\u001b[0m\u001b[0;34m\u001b[0m\u001b[0m\n\u001b[1;32m    327\u001b[0m \u001b[0;34m\u001b[0m\u001b[0m\n\u001b[0;32m--> 328\u001b[0;31m         \u001b[0;32massert\u001b[0m \u001b[0mconforms\u001b[0m\u001b[0;34m,\u001b[0m \u001b[0mlog\u001b[0m\u001b[0;34m\u001b[0m\u001b[0;34m\u001b[0m\u001b[0m\n\u001b[0m\u001b[1;32m    329\u001b[0m \u001b[0;34m\u001b[0m\u001b[0m\n\u001b[1;32m    330\u001b[0m         \u001b[0;31m# Now validate against the PLEX shacl shapes file, if requested\u001b[0m\u001b[0;34m\u001b[0m\u001b[0;34m\u001b[0m\u001b[0;34m\u001b[0m\u001b[0m\n",
      "\u001b[0;31mAssertionError\u001b[0m: Step RDF has no rdfs:label\nStep RDF must be either a bpmn:ManualTask or a bpmn:ScriptTask\n"
     ]
    }
   ],
   "source": [
    "@mark_as_fairstep()\n",
    "def add(a: int, b: int) -> int:\n",
    "    \"\"\"\n",
    "    Computational step adding two ints together.\n",
    "    \"\"\"\n",
    "    return a + b"
   ]
  },
  {
   "cell_type": "code",
   "execution_count": 36,
   "metadata": {},
   "outputs": [],
   "source": [
    "@mark_as_fairstep(label='add integers', is_script_task=True)\n",
    "def add(a: int, b: int) -> int:\n",
    "    \"\"\"\n",
    "    Computational step adding two ints together.\n",
    "    \"\"\"\n",
    "    return a + b"
   ]
  },
  {
   "cell_type": "code",
   "execution_count": 37,
   "metadata": {},
   "outputs": [],
   "source": [
    "@mark_as_fairstep(label='square root', is_script_task=True)\n",
    "def sqrt(a: int) -> float:\n",
    "    \"\"\"\n",
    "    Computational step taking the square root of an integer.\n",
    "    \"\"\"\n",
    "    return a ** 0.5"
   ]
  },
  {
   "cell_type": "markdown",
   "metadata": {},
   "source": [
    "## Define the workflow"
   ]
  },
  {
   "cell_type": "code",
   "execution_count": 51,
   "metadata": {},
   "outputs": [],
   "source": [
    "workflow = FairWorkflow(description='A simple workflow', label='test workflow')\n",
    "step1 = FairStep.from_function(add)\n",
    "step2 = FairStep.from_function(sqrt)\n",
    "workflow.add(step1)\n",
    "workflow.add(step2, follows=step1)"
   ]
  },
  {
   "cell_type": "markdown",
   "metadata": {},
   "source": [
    "## Publish using the API\n",
    "one could use the notebook extenstion, it doesn't have the newest features yet though"
   ]
  },
  {
   "cell_type": "code",
   "execution_count": 52,
   "metadata": {},
   "outputs": [
    {
     "name": "stdout",
     "output_type": "stream",
     "text": [
      "Published to http://purl.org/np/RAcQHJ_Nxq6cUQkzg8J-xOiBeRee5aLQXf_fAebFwQDks\n",
      "Published concept to http://purl.org/np/RAcQHJ_Nxq6cUQkzg8J-xOiBeRee5aLQXf_fAebFwQDks#step\n"
     ]
    },
    {
     "data": {
      "text/plain": [
       "{'nanopub_uri': 'http://purl.org/np/RAcQHJ_Nxq6cUQkzg8J-xOiBeRee5aLQXf_fAebFwQDks',\n",
       " 'concept_uri': 'http://purl.org/np/RAcQHJ_Nxq6cUQkzg8J-xOiBeRee5aLQXf_fAebFwQDks#step'}"
      ]
     },
     "execution_count": 52,
     "metadata": {},
     "output_type": "execute_result"
    }
   ],
   "source": [
    "step1.publish_as_nanopub(use_test_server=True)"
   ]
  },
  {
   "cell_type": "markdown",
   "metadata": {},
   "source": [
    "## Execution of steps\n",
    "Execution of steps is just done by calling the functions"
   ]
  },
  {
   "cell_type": "code",
   "execution_count": 58,
   "metadata": {},
   "outputs": [
    {
     "data": {
      "text/plain": [
       "2.0"
      ]
     },
     "execution_count": 58,
     "metadata": {},
     "output_type": "execute_result"
    }
   ],
   "source": [
    "intermediate_result = add(1, 3)\n",
    "sqrt(intermediate_result)"
   ]
  },
  {
   "cell_type": "markdown",
   "metadata": {},
   "source": [
    "You can inject raw code from steps fetched from nanopub:"
   ]
  },
  {
   "cell_type": "code",
   "execution_count": 56,
   "metadata": {},
   "outputs": [],
   "source": [
    "@mark_as_fairstep(label='add integers', is_script_task=True)\n",
    "def add(a: int, b: int) -> int:\n",
    "    \"\"\"\n",
    "    Computational step adding two ints together.\n",
    "    \"\"\"\n",
    "    return a + b"
   ]
  },
  {
   "cell_type": "markdown",
   "metadata": {},
   "source": [
    "And just call the function:"
   ]
  },
  {
   "cell_type": "code",
   "execution_count": 57,
   "metadata": {},
   "outputs": [],
   "source": [
    "result = add(1, 3)"
   ]
  }
 ],
 "metadata": {
  "kernelspec": {
   "display_name": "Python [conda env:fair3.6] *",
   "language": "python",
   "name": "conda-env-fair3.6-py"
  },
  "language_info": {
   "codemirror_mode": {
    "name": "ipython",
    "version": 3
   },
   "file_extension": ".py",
   "mimetype": "text/x-python",
   "name": "python",
   "nbconvert_exporter": "python",
   "pygments_lexer": "ipython3",
   "version": "3.6.10"
  }
 },
 "nbformat": 4,
 "nbformat_minor": 4
}
