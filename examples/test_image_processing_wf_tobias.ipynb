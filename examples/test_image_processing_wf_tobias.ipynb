{
 "cells": [
  {
   "cell_type": "markdown",
   "metadata": {},
   "source": [
    "# Test of Image Processing Workflows by Tobias"
   ]
  },
  {
   "cell_type": "code",
   "execution_count": 129,
   "metadata": {},
   "outputs": [],
   "source": [
    "from fairworkflows import is_fairworkflow, is_fairstep, FairStep"
   ]
  },
  {
   "cell_type": "code",
   "execution_count": 130,
   "metadata": {},
   "outputs": [],
   "source": [
    "from PIL import Image"
   ]
  },
  {
   "cell_type": "code",
   "execution_count": 131,
   "metadata": {},
   "outputs": [],
   "source": [
    "import io"
   ]
  },
  {
   "cell_type": "code",
   "execution_count": 132,
   "metadata": {},
   "outputs": [],
   "source": [
    "@is_fairstep(label='Rotating an image represented as a string by 180 degrees')\n",
    "def rotate_image(imgstr:str) -> str:\n",
    "    imgIn = Image.open(io.BytesIO(imgstr))\n",
    "    imgOut = imgIn.transpose(Image.ROTATE_180)\n",
    "    imgOutStr = io.BytesIO()\n",
    "    imgOut.save(imgOutStr, format=\"png\")\n",
    "    return imgOutStr.getvalue()"
   ]
  },
  {
   "cell_type": "code",
   "execution_count": 133,
   "metadata": {},
   "outputs": [],
   "source": [
    "#FairStep.from_function(rotate_image).publish_as_nanopub()"
   ]
  },
  {
   "cell_type": "code",
   "execution_count": 141,
   "metadata": {
    "collapsed": false,
    "jupyter": {
     "outputs_hidden": false
    },
    "nanopubURI": "http://purl.org/np/RAjc1d2L36iZcgEJ7Lcp06mWA6gA1QOJh5oY5bPRDfbkk",
    "tags": [
     "Injected by FAIR Workflows Widget"
    ]
   },
   "outputs": [],
   "source": [
    "@is_fairstep(label='Resize image')\n",
    "def resize_image(imgStr:str) -> str:\n",
    "    \"\"\"Resize the image 300x300 \"\"\"\n",
    "    from PIL import Image\n",
    "    image = Image.open(io.BytesIO(imgStr))\n",
    "    new_image = image.resize((300, 300))\n",
    "    imgOut = io.BytesIO()\n",
    "    new_image.save(imgOut, format=\"png\")\n",
    "    return imgOut.getvalue()"
   ]
  },
  {
   "cell_type": "code",
   "execution_count": 135,
   "metadata": {},
   "outputs": [],
   "source": [
    "@is_fairworkflow(label='My Workflow')\n",
    "def my_workflow(imgstr:str) -> str:\n",
    "    return resize_image(rotate_image(imgstr))"
   ]
  },
  {
   "cell_type": "code",
   "execution_count": 136,
   "metadata": {},
   "outputs": [],
   "source": [
    "im = Image.open(\"img1.png\")\n",
    "#im.transpose(Image.ROTATE_90).show()"
   ]
  },
  {
   "cell_type": "code",
   "execution_count": 137,
   "metadata": {},
   "outputs": [],
   "source": [
    "imageOut = io.BytesIO()\n",
    "im.save(imageOut, format=\"png\")\n",
    "imgagestr = imageOut.getvalue()"
   ]
  },
  {
   "cell_type": "code",
   "execution_count": 138,
   "metadata": {},
   "outputs": [],
   "source": [
    "fw = my_workflow(imgagestr)\n",
    "result, prov = fw.execute()"
   ]
  },
  {
   "cell_type": "code",
   "execution_count": 140,
   "metadata": {},
   "outputs": [
    {
     "data": {
      "image/png": "[encoded data removed]",
      "text/plain": [
       "<PIL.PngImagePlugin.PngImageFile image mode=RGB size=300x300 at 0x7F49C1E1CF70>"
      ]
     },
     "execution_count": 140,
     "metadata": {},
     "output_type": "execute_result"
    }
   ],
   "source": [
    "Image.open(io.BytesIO(result))"
   ]
  },
  {
   "cell_type": "code",
   "execution_count": null,
   "metadata": {},
   "outputs": [],
   "source": []
  }
 ],
 "metadata": {
  "kernelspec": {
   "display_name": "Python 3",
   "language": "python",
   "name": "python3"
  },
  "language_info": {
   "codemirror_mode": {
    "name": "ipython",
    "version": 3
   },
   "file_extension": ".py",
   "mimetype": "text/x-python",
   "name": "python",
   "nbconvert_exporter": "python",
   "pygments_lexer": "ipython3",
   "version": "3.8.6"
  }
 },
 "nbformat": 4,
 "nbformat_minor": 4
}
