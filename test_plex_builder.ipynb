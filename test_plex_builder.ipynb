{
 "cells": [
  {
   "cell_type": "code",
   "execution_count": 27,
   "metadata": {
    "collapsed": false,
    "jupyter": {
     "outputs_hidden": false
    },
    "nanopubURI": "http://purl.org/np/RACLlhNijmCk4AX_2PuoBPHKfY1T6jieGaUPVFv-fWCAg",
    "tags": [
     "Injected by FAIR Workflows Widget"
    ]
   },
   "outputs": [],
   "source": [
    "from fairworkflows import FairStep, FairWorkflow, fairstep"
   ]
  },
  {
   "cell_type": "markdown",
   "metadata": {},
   "source": [
    "# Load a step from a nanopublication.\n",
    "This lives in a FairStep object that can give information about the step (i.e. description, is_manual_task, etc) as well as validating it with respect to the plex ontology."
   ]
  },
  {
   "cell_type": "code",
   "execution_count": 28,
   "metadata": {},
   "outputs": [],
   "source": [
    "step = FairStep(uri='http://purl.org/np/RACLlhNijmCk4AX_2PuoBPHKfY1T6jieGaUPVFv-fWCAg#step', from_nanopub=True)"
   ]
  },
  {
   "cell_type": "code",
   "execution_count": 29,
   "metadata": {},
   "outputs": [
    {
     "name": "stdout",
     "output_type": "stream",
     "text": [
      "Step URI = http://purl.org/np/RACLlhNijmCk4AX_2PuoBPHKfY1T6jieGaUPVFv-fWCAg#step\n",
      "@prefix ns1: <http://purl.org/dc/terms/> .\n",
      "\n",
      "_:Ne0c2d802f0a741ce9d01239da7ef60da {\n",
      "    <http://purl.org/np/RACLlhNijmCk4AX_2PuoBPHKfY1T6jieGaUPVFv-fWCAg#step> a <http://dkm.fbk.eu/index.php/BPMN2_Ontology#ManualTask>,\n",
      "            <http://purl.org/net/p-plan#Step> ;\n",
      "        ns1:description \"Preheat an oven to 350 degrees F (175 degrees C).\" .\n",
      "}\n",
      "\n",
      "\n"
     ]
    }
   ],
   "source": [
    "print(step)"
   ]
  },
  {
   "cell_type": "code",
   "execution_count": 30,
   "metadata": {
    "ExecutionTime": {
     "end_time": "2020-08-26T17:00:43.494858Z",
     "start_time": "2020-08-26T17:00:43.488722Z"
    },
    "provenance": [
     {
      "end_time": "2020-08-26T13:55:41.410Z",
      "execution_time": "9ms",
      "outputs": [
       {
        "ename": "NameError",
        "evalue": "name 'pyschacl' is not defined",
        "output_type": "error",
        "traceback": [
         "\u001b[0;31m---------------------------------------------------------------------------\u001b[0m",
         "\u001b[0;31mNameError\u001b[0m                                 Traceback (most recent call last)",
         "\u001b[0;32m<ipython-input-10-c4075b179893>\u001b[0m in \u001b[0;36m<module>\u001b[0;34m\u001b[0m\n\u001b[0;32m----> 1\u001b[0;31m \u001b[0mstep1\u001b[0m\u001b[0;34m.\u001b[0m\u001b[0mvalidate\u001b[0m\u001b[0;34m(\u001b[0m\u001b[0;34m)\u001b[0m\u001b[0;34m\u001b[0m\u001b[0;34m\u001b[0m\u001b[0m\n\u001b[0m",
         "\u001b[0;32m~/code/FAIRWorkbench/fairworkflows/fairstep.py\u001b[0m in \u001b[0;36mvalidate\u001b[0;34m(self)\u001b[0m\n\u001b[1;32m     18\u001b[0m         \u001b[0mshacl_graph\u001b[0m \u001b[0;34m=\u001b[0m \u001b[0mrdflib\u001b[0m\u001b[0;34m.\u001b[0m\u001b[0mGraph\u001b[0m\u001b[0;34m(\u001b[0m\u001b[0;34m)\u001b[0m\u001b[0;34m\u001b[0m\u001b[0;34m\u001b[0m\u001b[0m\n\u001b[1;32m     19\u001b[0m \u001b[0;34m\u001b[0m\u001b[0m\n\u001b[0;32m---> 20\u001b[0;31m         \u001b[0mr\u001b[0m \u001b[0;34m=\u001b[0m \u001b[0mpyschacl\u001b[0m\u001b[0;34m.\u001b[0m\u001b[0mvalidate\u001b[0m\u001b[0;34m(\u001b[0m\u001b[0mself\u001b[0m\u001b[0;34m.\u001b[0m\u001b[0mrdf\u001b[0m\u001b[0;34m,\u001b[0m \u001b[0mshacl_graph\u001b[0m\u001b[0;34m=\u001b[0m\u001b[0mshacl_graph\u001b[0m\u001b[0;34m)\u001b[0m\u001b[0;34m\u001b[0m\u001b[0;34m\u001b[0m\u001b[0m\n\u001b[0m\u001b[1;32m     21\u001b[0m         \u001b[0mprint\u001b[0m\u001b[0;34m(\u001b[0m\u001b[0mr\u001b[0m\u001b[0;34m)\u001b[0m\u001b[0;34m\u001b[0m\u001b[0;34m\u001b[0m\u001b[0m\n\u001b[1;32m     22\u001b[0m \u001b[0;34m\u001b[0m\u001b[0m\n",
         "\u001b[0;31mNameError\u001b[0m: name 'pyschacl' is not defined"
        ]
       }
      ],
      "source": "step1.validate()",
      "start_time": "2020-08-26T13:55:41.401Z"
     },
     {
      "end_time": "2020-08-26T14:14:21.673Z",
      "execution_time": "11ms",
      "outputs": [
       {
        "name": "stdout",
        "output_type": "stream",
        "text": "Validation Report\nConforms: True\n\n"
       },
       {
        "data": {
         "text/plain": "True"
        },
        "execution_count": 4,
        "metadata": {},
        "output_type": "execute_result"
       }
      ],
      "source": "step1.validate()",
      "start_time": "2020-08-26T14:14:21.662Z"
     },
     {
      "end_time": "2020-08-26T14:14:26.439Z",
      "execution_time": "5ms",
      "outputs": [
       {
        "name": "stdout",
        "output_type": "stream",
        "text": "Validation Report\nConforms: True\n\n"
       },
       {
        "data": {
         "text/plain": "True"
        },
        "execution_count": 5,
        "metadata": {},
        "output_type": "execute_result"
       }
      ],
      "source": "step1.validate()",
      "start_time": "2020-08-26T14:14:26.434Z"
     },
     {
      "end_time": "2020-08-26T14:14:29.398Z",
      "execution_time": "5ms",
      "outputs": [
       {
        "name": "stdout",
        "output_type": "stream",
        "text": "Validation Report\nConforms: True\n\n"
       },
       {
        "data": {
         "text/plain": "True"
        },
        "execution_count": 7,
        "metadata": {},
        "output_type": "execute_result"
       }
      ],
      "source": "step1.validate()",
      "start_time": "2020-08-26T14:14:29.393Z"
     },
     {
      "end_time": "2020-08-26T14:33:41.226Z",
      "execution_time": "13ms",
      "outputs": [
       {
        "name": "stdout",
        "output_type": "stream",
        "text": "Validation Report\nConforms: True\n\n"
       },
       {
        "data": {
         "text/plain": "True"
        },
        "execution_count": 42,
        "metadata": {},
        "output_type": "execute_result"
       }
      ],
      "source": "step1.validate()",
      "start_time": "2020-08-26T14:33:41.213Z"
     },
     {
      "end_time": "2020-08-26T14:33:53.914Z",
      "execution_time": "7ms",
      "outputs": [
       {
        "name": "stdout",
        "output_type": "stream",
        "text": "Validation Report\nConforms: True\n\n"
       },
       {
        "data": {
         "text/plain": "True"
        },
        "execution_count": 47,
        "metadata": {},
        "output_type": "execute_result"
       }
      ],
      "source": "step1.validate()",
      "start_time": "2020-08-26T14:33:53.907Z"
     },
     {
      "end_time": "2020-08-26T14:47:58.927Z",
      "execution_time": "132ms",
      "outputs": [
       {
        "ename": "NameError",
        "evalue": "name 'step_rdf' is not defined",
        "output_type": "error",
        "traceback": [
         "\u001b[0;31m---------------------------------------------------------------------------\u001b[0m",
         "\u001b[0;31mNameError\u001b[0m                                 Traceback (most recent call last)",
         "\u001b[0;32m<ipython-input-5-c4075b179893>\u001b[0m in \u001b[0;36m<module>\u001b[0;34m\u001b[0m\n\u001b[0;32m----> 1\u001b[0;31m \u001b[0mstep1\u001b[0m\u001b[0;34m.\u001b[0m\u001b[0mvalidate\u001b[0m\u001b[0;34m(\u001b[0m\u001b[0;34m)\u001b[0m\u001b[0;34m\u001b[0m\u001b[0;34m\u001b[0m\u001b[0m\n\u001b[0m",
         "\u001b[0;32m~/code/FAIRWorkbench/fairworkflows/fairstep.py\u001b[0m in \u001b[0;36mvalidate\u001b[0;34m(self)\u001b[0m\n\u001b[1;32m     39\u001b[0m \u001b[0;34m\u001b[0m\u001b[0m\n\u001b[1;32m     40\u001b[0m \u001b[0;34m\u001b[0m\u001b[0m\n\u001b[0;32m---> 41\u001b[0;31m         \u001b[0;32mif\u001b[0m \u001b[0;34m(\u001b[0m\u001b[0mself\u001b[0m\u001b[0;34m.\u001b[0m\u001b[0mthis_step\u001b[0m\u001b[0;34m,\u001b[0m \u001b[0mRDF\u001b[0m\u001b[0;34m.\u001b[0m\u001b[0mtype\u001b[0m\u001b[0;34m,\u001b[0m \u001b[0mNanopub\u001b[0m\u001b[0;34m.\u001b[0m\u001b[0mPPLAN\u001b[0m\u001b[0;34m.\u001b[0m\u001b[0mPlana\u001b[0m\u001b[0;34m)\u001b[0m \u001b[0;32min\u001b[0m \u001b[0mstep_rdf\u001b[0m\u001b[0;34m:\u001b[0m\u001b[0;34m\u001b[0m\u001b[0;34m\u001b[0m\u001b[0m\n\u001b[0m\u001b[1;32m     42\u001b[0m             \u001b[0mprint\u001b[0m\u001b[0;34m(\u001b[0m\u001b[0;34m\"cool\"\u001b[0m\u001b[0;34m)\u001b[0m\u001b[0;34m\u001b[0m\u001b[0;34m\u001b[0m\u001b[0m\n\u001b[1;32m     43\u001b[0m \u001b[0;34m\u001b[0m\u001b[0m\n",
         "\u001b[0;31mNameError\u001b[0m: name 'step_rdf' is not defined"
        ]
       }
      ],
      "source": "step1.validate()",
      "start_time": "2020-08-26T14:47:58.795Z"
     },
     {
      "end_time": "2020-08-26T14:50:52.001Z",
      "execution_time": "2ms",
      "outputs": [],
      "source": "step1.validate()",
      "start_time": "2020-08-26T14:50:51.999Z"
     },
     {
      "end_time": "2020-08-26T14:53:53.252Z",
      "execution_time": "3ms",
      "outputs": [
       {
        "name": "stdout",
        "output_type": "stream",
        "text": "(rdflib.term.URIRef('http://purl.org/nanopub/temp/mynanopub#step'), rdflib.term.URIRef('http://www.w3.org/1999/02/22-rdf-syntax-ns#type'), rdflib.term.URIRef('http://purl.org/net/p-plan#Step'))\n"
       }
      ],
      "source": "step1.validate()",
      "start_time": "2020-08-26T14:53:53.249Z"
     },
     {
      "end_time": "2020-08-26T14:54:27.701Z",
      "execution_time": "2ms",
      "outputs": [
       {
        "name": "stdout",
        "output_type": "stream",
        "text": "cool\n"
       }
      ],
      "source": "step1.validate()",
      "start_time": "2020-08-26T14:54:27.699Z"
     },
     {
      "end_time": "2020-08-26T14:58:14.786Z",
      "execution_time": "153ms",
      "outputs": [
       {
        "ename": "ValueError",
        "evalue": "too many values to unpack (expected 3)",
        "output_type": "error",
        "traceback": [
         "\u001b[0;31m---------------------------------------------------------------------------\u001b[0m",
         "\u001b[0;31mValueError\u001b[0m                                Traceback (most recent call last)",
         "\u001b[0;32m<ipython-input-5-c4075b179893>\u001b[0m in \u001b[0;36m<module>\u001b[0;34m\u001b[0m\n\u001b[0;32m----> 1\u001b[0;31m \u001b[0mstep1\u001b[0m\u001b[0;34m.\u001b[0m\u001b[0mvalidate\u001b[0m\u001b[0;34m(\u001b[0m\u001b[0;34m)\u001b[0m\u001b[0;34m\u001b[0m\u001b[0;34m\u001b[0m\u001b[0m\n\u001b[0m",
         "\u001b[0;32m~/code/FAIRWorkbench/fairworkflows/fairstep.py\u001b[0m in \u001b[0;36mvalidate\u001b[0;34m(self)\u001b[0m\n\u001b[1;32m     42\u001b[0m         \u001b[0mnecessary_triples\u001b[0m \u001b[0;34m=\u001b[0m \u001b[0;34m(\u001b[0m\u001b[0mself\u001b[0m\u001b[0;34m.\u001b[0m\u001b[0mthis_step\u001b[0m\u001b[0;34m,\u001b[0m \u001b[0mRDF\u001b[0m\u001b[0;34m.\u001b[0m\u001b[0mtype\u001b[0m\u001b[0;34m,\u001b[0m \u001b[0mNanopub\u001b[0m\u001b[0;34m.\u001b[0m\u001b[0mPPLAN\u001b[0m\u001b[0;34m.\u001b[0m\u001b[0mStep\u001b[0m\u001b[0;34m)\u001b[0m\u001b[0;34m\u001b[0m\u001b[0;34m\u001b[0m\u001b[0m\n\u001b[1;32m     43\u001b[0m         \u001b[0;32mfor\u001b[0m \u001b[0mt\u001b[0m \u001b[0;32min\u001b[0m \u001b[0mnecessary_triples\u001b[0m\u001b[0;34m:\u001b[0m\u001b[0;34m\u001b[0m\u001b[0;34m\u001b[0m\u001b[0m\n\u001b[0;32m---> 44\u001b[0;31m             \u001b[0;32mif\u001b[0m \u001b[0mt\u001b[0m \u001b[0;32mnot\u001b[0m \u001b[0;32min\u001b[0m \u001b[0mself\u001b[0m\u001b[0;34m.\u001b[0m\u001b[0mrdf\u001b[0m\u001b[0;34m:\u001b[0m\u001b[0;34m\u001b[0m\u001b[0;34m\u001b[0m\u001b[0m\n\u001b[0m\u001b[1;32m     45\u001b[0m                 \u001b[0mprint\u001b[0m\u001b[0;34m(\u001b[0m\u001b[0;34m\"Plex step is missing triple of the form:\"\u001b[0m\u001b[0;34m,\u001b[0m \u001b[0mt\u001b[0m\u001b[0;34m)\u001b[0m\u001b[0;34m\u001b[0m\u001b[0;34m\u001b[0m\u001b[0m\n\u001b[1;32m     46\u001b[0m                 \u001b[0mconforms\u001b[0m \u001b[0;34m=\u001b[0m \u001b[0;32mFalse\u001b[0m\u001b[0;34m\u001b[0m\u001b[0;34m\u001b[0m\u001b[0m\n",
         "\u001b[0;32m/usr/local/lib/python3.8/site-packages/rdflib/graph.py\u001b[0m in \u001b[0;36m__contains__\u001b[0;34m(self, triple)\u001b[0m\n\u001b[1;32m    507\u001b[0m     \u001b[0;32mdef\u001b[0m \u001b[0m__contains__\u001b[0m\u001b[0;34m(\u001b[0m\u001b[0mself\u001b[0m\u001b[0;34m,\u001b[0m \u001b[0mtriple\u001b[0m\u001b[0;34m)\u001b[0m\u001b[0;34m:\u001b[0m\u001b[0;34m\u001b[0m\u001b[0;34m\u001b[0m\u001b[0m\n\u001b[1;32m    508\u001b[0m         \u001b[0;34m\"\"\"Support for 'triple in graph' syntax\"\"\"\u001b[0m\u001b[0;34m\u001b[0m\u001b[0;34m\u001b[0m\u001b[0m\n\u001b[0;32m--> 509\u001b[0;31m         \u001b[0;32mfor\u001b[0m \u001b[0mtriple\u001b[0m \u001b[0;32min\u001b[0m \u001b[0mself\u001b[0m\u001b[0;34m.\u001b[0m\u001b[0mtriples\u001b[0m\u001b[0;34m(\u001b[0m\u001b[0mtriple\u001b[0m\u001b[0;34m)\u001b[0m\u001b[0;34m:\u001b[0m\u001b[0;34m\u001b[0m\u001b[0;34m\u001b[0m\u001b[0m\n\u001b[0m\u001b[1;32m    510\u001b[0m             \u001b[0;32mreturn\u001b[0m \u001b[0;32mTrue\u001b[0m\u001b[0;34m\u001b[0m\u001b[0;34m\u001b[0m\u001b[0m\n\u001b[1;32m    511\u001b[0m         \u001b[0;32mreturn\u001b[0m \u001b[0;32mFalse\u001b[0m\u001b[0;34m\u001b[0m\u001b[0;34m\u001b[0m\u001b[0m\n",
         "\u001b[0;32m/usr/local/lib/python3.8/site-packages/rdflib/graph.py\u001b[0m in \u001b[0;36mtriples\u001b[0;34m(self, triple)\u001b[0m\n\u001b[1;32m    414\u001b[0m         \u001b[0mdoes\u001b[0m \u001b[0;32mnot\u001b[0m \u001b[0mprovide\u001b[0m \u001b[0ma\u001b[0m \u001b[0mcontext\u001b[0m\u001b[0;34m,\u001b[0m \u001b[0mall\u001b[0m \u001b[0mcontexts\u001b[0m \u001b[0mwill\u001b[0m \u001b[0mbe\u001b[0m \u001b[0msearched\u001b[0m\u001b[0;34m.\u001b[0m\u001b[0;34m\u001b[0m\u001b[0;34m\u001b[0m\u001b[0m\n\u001b[1;32m    415\u001b[0m         \"\"\"\n\u001b[0;32m--> 416\u001b[0;31m         \u001b[0ms\u001b[0m\u001b[0;34m,\u001b[0m \u001b[0mp\u001b[0m\u001b[0;34m,\u001b[0m \u001b[0mo\u001b[0m \u001b[0;34m=\u001b[0m \u001b[0mtriple\u001b[0m\u001b[0;34m\u001b[0m\u001b[0;34m\u001b[0m\u001b[0m\n\u001b[0m\u001b[1;32m    417\u001b[0m         \u001b[0;32mif\u001b[0m \u001b[0misinstance\u001b[0m\u001b[0;34m(\u001b[0m\u001b[0mp\u001b[0m\u001b[0;34m,\u001b[0m \u001b[0mPath\u001b[0m\u001b[0;34m)\u001b[0m\u001b[0;34m:\u001b[0m\u001b[0;34m\u001b[0m\u001b[0;34m\u001b[0m\u001b[0m\n\u001b[1;32m    418\u001b[0m             \u001b[0;32mfor\u001b[0m \u001b[0m_s\u001b[0m\u001b[0;34m,\u001b[0m \u001b[0m_o\u001b[0m \u001b[0;32min\u001b[0m \u001b[0mp\u001b[0m\u001b[0;34m.\u001b[0m\u001b[0meval\u001b[0m\u001b[0;34m(\u001b[0m\u001b[0mself\u001b[0m\u001b[0;34m,\u001b[0m \u001b[0ms\u001b[0m\u001b[0;34m,\u001b[0m \u001b[0mo\u001b[0m\u001b[0;34m)\u001b[0m\u001b[0;34m:\u001b[0m\u001b[0;34m\u001b[0m\u001b[0;34m\u001b[0m\u001b[0m\n",
         "\u001b[0;31mValueError\u001b[0m: too many values to unpack (expected 3)"
        ]
       }
      ],
      "source": "step1.validate()",
      "start_time": "2020-08-26T14:58:14.633Z"
     },
     {
      "end_time": "2020-08-26T14:59:16.323Z",
      "execution_time": "9ms",
      "outputs": [
       {
        "data": {
         "text/plain": "True"
        },
        "execution_count": 5,
        "metadata": {},
        "output_type": "execute_result"
       }
      ],
      "source": "step1.validate()",
      "start_time": "2020-08-26T14:59:16.314Z"
     },
     {
      "end_time": "2020-08-26T15:08:43.054Z",
      "execution_time": "10ms",
      "outputs": [
       {
        "data": {
         "text/plain": "True"
        },
        "execution_count": 5,
        "metadata": {},
        "output_type": "execute_result"
       }
      ],
      "source": "step1.validate()",
      "start_time": "2020-08-26T15:08:43.044Z"
     },
     {
      "end_time": "2020-08-26T15:18:20.348Z",
      "execution_time": "11ms",
      "outputs": [
       {
        "name": "stdout",
        "output_type": "stream",
        "text": "\n"
       },
       {
        "data": {
         "text/plain": "True"
        },
        "execution_count": 5,
        "metadata": {},
        "output_type": "execute_result"
       }
      ],
      "source": "step1.validate()",
      "start_time": "2020-08-26T15:18:20.337Z"
     },
     {
      "end_time": "2020-08-26T15:18:46.437Z",
      "execution_time": "5ms",
      "outputs": [
       {
        "name": "stdout",
        "output_type": "stream",
        "text": "RDF is not a pplan:step\nRDF has no dcterms:description\n\n"
       },
       {
        "data": {
         "text/plain": "False"
        },
        "execution_count": 10,
        "metadata": {},
        "output_type": "execute_result"
       }
      ],
      "source": "step1.validate()",
      "start_time": "2020-08-26T15:18:46.432Z"
     },
     {
      "end_time": "2020-08-26T15:18:54.309Z",
      "execution_time": "4ms",
      "outputs": [
       {
        "name": "stdout",
        "output_type": "stream",
        "text": "\n"
       },
       {
        "data": {
         "text/plain": "True"
        },
        "execution_count": 13,
        "metadata": {},
        "output_type": "execute_result"
       }
      ],
      "source": "step1.validate()",
      "start_time": "2020-08-26T15:18:54.305Z"
     },
     {
      "end_time": "2020-08-26T15:27:25.247Z",
      "execution_time": "10ms",
      "outputs": [
       {
        "name": "stdout",
        "output_type": "stream",
        "text": "\n"
       },
       {
        "data": {
         "text/plain": "True"
        },
        "execution_count": 5,
        "metadata": {},
        "output_type": "execute_result"
       }
      ],
      "source": "step1.validate()",
      "start_time": "2020-08-26T15:27:25.237Z"
     },
     {
      "end_time": "2020-08-26T15:27:55.777Z",
      "execution_time": "4ms",
      "outputs": [
       {
        "name": "stdout",
        "output_type": "stream",
        "text": "Step RDF does not say it is a pplan:step\nStep RDF has no dcterms:description\nStep RDF must be either a bpmn:ManualTask or a bpmn:ScriptTask\n\n"
       },
       {
        "data": {
         "text/plain": "False"
        },
        "execution_count": 12,
        "metadata": {},
        "output_type": "execute_result"
       }
      ],
      "source": "step1.validate()",
      "start_time": "2020-08-26T15:27:55.773Z"
     },
     {
      "end_time": "2020-08-26T15:28:04.656Z",
      "execution_time": "4ms",
      "outputs": [
       {
        "name": "stdout",
        "output_type": "stream",
        "text": "\n"
       },
       {
        "data": {
         "text/plain": "True"
        },
        "execution_count": 19,
        "metadata": {},
        "output_type": "execute_result"
       }
      ],
      "source": "step1.validate()",
      "start_time": "2020-08-26T15:28:04.652Z"
     },
     {
      "end_time": "2020-08-26T15:32:45.422Z",
      "execution_time": "11ms",
      "outputs": [
       {
        "name": "stdout",
        "output_type": "stream",
        "text": "\n"
       },
       {
        "data": {
         "text/plain": "True"
        },
        "execution_count": 5,
        "metadata": {},
        "output_type": "execute_result"
       }
      ],
      "source": "step1.validate()",
      "start_time": "2020-08-26T15:32:45.411Z"
     },
     {
      "end_time": "2020-08-26T15:50:41.478Z",
      "execution_time": "10ms",
      "outputs": [
       {
        "name": "stdout",
        "output_type": "stream",
        "text": "\n"
       },
       {
        "data": {
         "text/plain": "True"
        },
        "execution_count": 5,
        "metadata": {},
        "output_type": "execute_result"
       }
      ],
      "source": "step1.validate()",
      "start_time": "2020-08-26T15:50:41.468Z"
     },
     {
      "end_time": "2020-08-26T15:51:07.053Z",
      "execution_time": "5ms",
      "outputs": [
       {
        "name": "stdout",
        "output_type": "stream",
        "text": "\n"
       },
       {
        "data": {
         "text/plain": "True"
        },
        "execution_count": 13,
        "metadata": {},
        "output_type": "execute_result"
       }
      ],
      "source": "step1.validate()",
      "start_time": "2020-08-26T15:51:07.048Z"
     },
     {
      "end_time": "2020-08-26T16:25:44.169Z",
      "execution_time": "11ms",
      "outputs": [
       {
        "name": "stdout",
        "output_type": "stream",
        "text": "\n"
       },
       {
        "data": {
         "text/plain": "True"
        },
        "execution_count": 6,
        "metadata": {},
        "output_type": "execute_result"
       }
      ],
      "source": "step1.validate()",
      "start_time": "2020-08-26T16:25:44.158Z"
     },
     {
      "end_time": "2020-08-26T16:30:22.113Z",
      "execution_time": "9ms",
      "outputs": [
       {
        "name": "stdout",
        "output_type": "stream",
        "text": "\n"
       },
       {
        "data": {
         "text/plain": "True"
        },
        "execution_count": 7,
        "metadata": {},
        "output_type": "execute_result"
       }
      ],
      "source": "step1.validate()",
      "start_time": "2020-08-26T16:30:22.104Z"
     },
     {
      "end_time": "2020-08-26T16:30:25.181Z",
      "execution_time": "4ms",
      "outputs": [
       {
        "name": "stdout",
        "output_type": "stream",
        "text": "\n"
       },
       {
        "data": {
         "text/plain": "True"
        },
        "execution_count": 9,
        "metadata": {},
        "output_type": "execute_result"
       }
      ],
      "source": "step1.validate()",
      "start_time": "2020-08-26T16:30:25.177Z"
     },
     {
      "end_time": "2020-08-26T16:31:49.267Z",
      "execution_time": "10ms",
      "outputs": [
       {
        "name": "stdout",
        "output_type": "stream",
        "text": "\n"
       },
       {
        "data": {
         "text/plain": "True"
        },
        "execution_count": 6,
        "metadata": {},
        "output_type": "execute_result"
       }
      ],
      "source": "step1.validate()",
      "start_time": "2020-08-26T16:31:49.257Z"
     },
     {
      "end_time": "2020-08-26T16:32:34.618Z",
      "execution_time": "11ms",
      "outputs": [
       {
        "name": "stdout",
        "output_type": "stream",
        "text": "\n"
       },
       {
        "data": {
         "text/plain": "True"
        },
        "execution_count": 6,
        "metadata": {},
        "output_type": "execute_result"
       }
      ],
      "source": "step1.validate()",
      "start_time": "2020-08-26T16:32:34.607Z"
     },
     {
      "end_time": "2020-08-26T16:35:03.196Z",
      "execution_time": "8ms",
      "outputs": [
       {
        "name": "stdout",
        "output_type": "stream",
        "text": "\n"
       },
       {
        "data": {
         "text/plain": "True"
        },
        "execution_count": 21,
        "metadata": {},
        "output_type": "execute_result"
       }
      ],
      "source": "step1.validate()",
      "start_time": "2020-08-26T16:35:03.188Z"
     },
     {
      "end_time": "2020-08-26T16:38:19.819Z",
      "execution_time": "11ms",
      "outputs": [
       {
        "name": "stdout",
        "output_type": "stream",
        "text": "\n"
       },
       {
        "data": {
         "text/plain": "True"
        },
        "execution_count": 6,
        "metadata": {},
        "output_type": "execute_result"
       }
      ],
      "source": "step1.validate()",
      "start_time": "2020-08-26T16:38:19.808Z"
     },
     {
      "end_time": "2020-08-26T16:40:58.343Z",
      "execution_time": "13ms",
      "outputs": [
       {
        "name": "stdout",
        "output_type": "stream",
        "text": "\n"
       },
       {
        "data": {
         "text/plain": "True"
        },
        "execution_count": 6,
        "metadata": {},
        "output_type": "execute_result"
       }
      ],
      "source": "step1.validate()",
      "start_time": "2020-08-26T16:40:58.330Z"
     },
     {
      "end_time": "2020-08-26T16:43:40.164Z",
      "execution_time": "5ms",
      "outputs": [
       {
        "name": "stdout",
        "output_type": "stream",
        "text": "\n"
       },
       {
        "data": {
         "text/plain": "True"
        },
        "execution_count": 25,
        "metadata": {},
        "output_type": "execute_result"
       }
      ],
      "source": "step1.validate()",
      "start_time": "2020-08-26T16:43:40.159Z"
     },
     {
      "end_time": "2020-08-26T17:00:43.494Z",
      "execution_time": "6ms",
      "outputs": [
       {
        "name": "stdout",
        "output_type": "stream",
        "text": "\n"
       },
       {
        "data": {
         "text/plain": "True"
        },
        "execution_count": 6,
        "metadata": {},
        "output_type": "execute_result"
       }
      ],
      "source": "step1.validate()",
      "start_time": "2020-08-26T17:00:43.488Z"
     }
    ]
   },
   "outputs": [
    {
     "name": "stdout",
     "output_type": "stream",
     "text": [
      "\n"
     ]
    },
    {
     "data": {
      "text/plain": [
       "True"
      ]
     },
     "execution_count": 30,
     "metadata": {},
     "output_type": "execute_result"
    }
   ],
   "source": [
    "step.validate()"
   ]
  },
  {
   "cell_type": "code",
   "execution_count": 31,
   "metadata": {
    "ExecutionTime": {
     "end_time": "2020-08-26T17:00:43.505744Z",
     "start_time": "2020-08-26T17:00:43.502447Z"
    },
    "provenance": [
     {
      "end_time": "Unknown",
      "execution_time": "Unknown",
      "outputs": [],
      "source": "",
      "start_time": "Unknown"
     },
     {
      "end_time": "2020-08-26T15:09:00.683Z",
      "execution_time": "4ms",
      "outputs": [
       {
        "data": {
         "text/plain": "True"
        },
        "execution_count": 6,
        "metadata": {},
        "output_type": "execute_result"
       }
      ],
      "source": "step1.is_pplan_step()",
      "start_time": "2020-08-26T15:09:00.679Z"
     },
     {
      "end_time": "2020-08-26T15:18:25.478Z",
      "execution_time": "5ms",
      "outputs": [
       {
        "data": {
         "text/plain": "True"
        },
        "execution_count": 6,
        "metadata": {},
        "output_type": "execute_result"
       }
      ],
      "source": "step1.is_pplan_step()",
      "start_time": "2020-08-26T15:18:25.473Z"
     },
     {
      "end_time": "2020-08-26T15:18:55.159Z",
      "execution_time": "5ms",
      "outputs": [
       {
        "data": {
         "text/plain": "True"
        },
        "execution_count": 14,
        "metadata": {},
        "output_type": "execute_result"
       }
      ],
      "source": "step1.is_pplan_step()",
      "start_time": "2020-08-26T15:18:55.154Z"
     },
     {
      "end_time": "2020-08-26T15:27:25.252Z",
      "execution_time": "3ms",
      "outputs": [
       {
        "data": {
         "text/plain": "True"
        },
        "execution_count": 6,
        "metadata": {},
        "output_type": "execute_result"
       }
      ],
      "source": "step1.is_pplan_step()",
      "start_time": "2020-08-26T15:27:25.249Z"
     },
     {
      "end_time": "2020-08-26T15:27:55.921Z",
      "execution_time": "4ms",
      "outputs": [
       {
        "data": {
         "text/plain": "False"
        },
        "execution_count": 13,
        "metadata": {},
        "output_type": "execute_result"
       }
      ],
      "source": "step1.is_pplan_step()",
      "start_time": "2020-08-26T15:27:55.917Z"
     },
     {
      "end_time": "2020-08-26T15:28:04.815Z",
      "execution_time": "3ms",
      "outputs": [
       {
        "data": {
         "text/plain": "True"
        },
        "execution_count": 20,
        "metadata": {},
        "output_type": "execute_result"
       }
      ],
      "source": "step1.is_pplan_step()",
      "start_time": "2020-08-26T15:28:04.812Z"
     },
     {
      "end_time": "2020-08-26T15:32:45.798Z",
      "execution_time": "4ms",
      "outputs": [
       {
        "data": {
         "text/plain": "True"
        },
        "execution_count": 6,
        "metadata": {},
        "output_type": "execute_result"
       }
      ],
      "source": "step1.is_pplan_step()",
      "start_time": "2020-08-26T15:32:45.794Z"
     },
     {
      "end_time": "2020-08-26T15:50:44.434Z",
      "execution_time": "8ms",
      "outputs": [
       {
        "data": {
         "text/plain": "True"
        },
        "execution_count": 6,
        "metadata": {},
        "output_type": "execute_result"
       }
      ],
      "source": "step1.is_pplan_step()",
      "start_time": "2020-08-26T15:50:44.426Z"
     },
     {
      "end_time": "2020-08-26T15:51:07.707Z",
      "execution_time": "4ms",
      "outputs": [
       {
        "data": {
         "text/plain": "True"
        },
        "execution_count": 14,
        "metadata": {},
        "output_type": "execute_result"
       }
      ],
      "source": "step1.is_pplan_step()",
      "start_time": "2020-08-26T15:51:07.703Z"
     },
     {
      "end_time": "2020-08-26T16:25:44.543Z",
      "execution_time": "3ms",
      "outputs": [
       {
        "data": {
         "text/plain": "True"
        },
        "execution_count": 7,
        "metadata": {},
        "output_type": "execute_result"
       }
      ],
      "source": "step1.is_pplan_step()",
      "start_time": "2020-08-26T16:25:44.540Z"
     },
     {
      "end_time": "2020-08-26T16:30:22.121Z",
      "execution_time": "5ms",
      "outputs": [
       {
        "data": {
         "text/plain": "True"
        },
        "execution_count": 8,
        "metadata": {},
        "output_type": "execute_result"
       }
      ],
      "source": "step1.is_pplan_step()",
      "start_time": "2020-08-26T16:30:22.116Z"
     },
     {
      "end_time": "2020-08-26T16:30:25.355Z",
      "execution_time": "4ms",
      "outputs": [
       {
        "data": {
         "text/plain": "True"
        },
        "execution_count": 10,
        "metadata": {},
        "output_type": "execute_result"
       }
      ],
      "source": "step1.is_pplan_step()",
      "start_time": "2020-08-26T16:30:25.351Z"
     },
     {
      "end_time": "2020-08-26T16:31:49.453Z",
      "execution_time": "4ms",
      "outputs": [
       {
        "data": {
         "text/plain": "True"
        },
        "execution_count": 7,
        "metadata": {},
        "output_type": "execute_result"
       }
      ],
      "source": "step1.is_pplan_step()",
      "start_time": "2020-08-26T16:31:49.449Z"
     },
     {
      "end_time": "2020-08-26T16:32:34.624Z",
      "execution_time": "4ms",
      "outputs": [
       {
        "data": {
         "text/plain": "True"
        },
        "execution_count": 7,
        "metadata": {},
        "output_type": "execute_result"
       }
      ],
      "source": "step1.is_pplan_step()",
      "start_time": "2020-08-26T16:32:34.620Z"
     },
     {
      "end_time": "2020-08-26T16:35:03.202Z",
      "execution_time": "4ms",
      "outputs": [
       {
        "data": {
         "text/plain": "True"
        },
        "execution_count": 22,
        "metadata": {},
        "output_type": "execute_result"
       }
      ],
      "source": "step1.is_pplan_step()",
      "start_time": "2020-08-26T16:35:03.198Z"
     },
     {
      "end_time": "2020-08-26T16:38:19.824Z",
      "execution_time": "3ms",
      "outputs": [
       {
        "data": {
         "text/plain": "True"
        },
        "execution_count": 7,
        "metadata": {},
        "output_type": "execute_result"
       }
      ],
      "source": "step1.is_pplan_step()",
      "start_time": "2020-08-26T16:38:19.821Z"
     },
     {
      "end_time": "2020-08-26T16:40:58.352Z",
      "execution_time": "5ms",
      "outputs": [
       {
        "data": {
         "text/plain": "True"
        },
        "execution_count": 7,
        "metadata": {},
        "output_type": "execute_result"
       }
      ],
      "source": "step1.is_pplan_step()",
      "start_time": "2020-08-26T16:40:58.347Z"
     },
     {
      "end_time": "2020-08-26T16:43:40.216Z",
      "execution_time": "3ms",
      "outputs": [
       {
        "data": {
         "text/plain": "True"
        },
        "execution_count": 26,
        "metadata": {},
        "output_type": "execute_result"
       }
      ],
      "source": "step1.is_pplan_step()",
      "start_time": "2020-08-26T16:43:40.213Z"
     },
     {
      "end_time": "2020-08-26T17:00:43.505Z",
      "execution_time": "3ms",
      "outputs": [
       {
        "data": {
         "text/plain": "True"
        },
        "execution_count": 7,
        "metadata": {},
        "output_type": "execute_result"
       }
      ],
      "source": "step1.is_pplan_step()",
      "start_time": "2020-08-26T17:00:43.502Z"
     }
    ]
   },
   "outputs": [
    {
     "data": {
      "text/plain": [
       "True"
      ]
     },
     "execution_count": 31,
     "metadata": {},
     "output_type": "execute_result"
    }
   ],
   "source": [
    "step.is_pplan_step()"
   ]
  },
  {
   "cell_type": "code",
   "execution_count": 32,
   "metadata": {
    "ExecutionTime": {
     "end_time": "2020-08-26T17:00:43.512364Z",
     "start_time": "2020-08-26T17:00:43.507825Z"
    },
    "provenance": [
     {
      "end_time": "Unknown",
      "execution_time": "Unknown",
      "outputs": [],
      "source": "step1.description()",
      "start_time": "Unknown"
     },
     {
      "end_time": "2020-08-26T15:18:26.838Z",
      "execution_time": "5ms",
      "outputs": [
       {
        "data": {
         "text/plain": "rdflib.term.Literal('Melt the butter in a skillet over medium heat. Add the apple and onion to the melted butter, season with the curry powder, and cook and stir until the apple and onion are tender, 7 to 10 minutes. Stir the mushroom soup and half-and-half into the mixture until completely combined; spoon over the chicken pieces.')"
        },
        "execution_count": 7,
        "metadata": {},
        "output_type": "execute_result"
       }
      ],
      "source": "step1.description()",
      "start_time": "2020-08-26T15:18:26.833Z"
     },
     {
      "end_time": "2020-08-26T15:18:55.448Z",
      "execution_time": "7ms",
      "outputs": [
       {
        "data": {
         "text/plain": "rdflib.term.Literal('Melt the butter in a skillet over medium heat. Add the apple and onion to the melted butter, season with the curry powder, and cook and stir until the apple and onion are tender, 7 to 10 minutes. Stir the mushroom soup and half-and-half into the mixture until completely combined; spoon over the chicken pieces.')"
        },
        "execution_count": 15,
        "metadata": {},
        "output_type": "execute_result"
       }
      ],
      "source": "step1.description()",
      "start_time": "2020-08-26T15:18:55.441Z"
     },
     {
      "end_time": "2020-08-26T15:27:25.260Z",
      "execution_time": "4ms",
      "outputs": [
       {
        "data": {
         "text/plain": "rdflib.term.Literal('Melt the butter in a skillet over medium heat. Add the apple and onion to the melted butter, season with the curry powder, and cook and stir until the apple and onion are tender, 7 to 10 minutes. Stir the mushroom soup and half-and-half into the mixture until completely combined; spoon over the chicken pieces.')"
        },
        "execution_count": 7,
        "metadata": {},
        "output_type": "execute_result"
       }
      ],
      "source": "step1.description()",
      "start_time": "2020-08-26T15:27:25.256Z"
     },
     {
      "end_time": "2020-08-26T15:27:56.062Z",
      "execution_time": "2ms",
      "outputs": [],
      "source": "step1.description()",
      "start_time": "2020-08-26T15:27:56.060Z"
     },
     {
      "end_time": "2020-08-26T15:28:04.945Z",
      "execution_time": "4ms",
      "outputs": [
       {
        "data": {
         "text/plain": "rdflib.term.Literal('Melt the butter in a skillet over medium heat. Add the apple and onion to the melted butter, season with the curry powder, and cook and stir until the apple and onion are tender, 7 to 10 minutes. Stir the mushroom soup and half-and-half into the mixture until completely combined; spoon over the chicken pieces.')"
        },
        "execution_count": 21,
        "metadata": {},
        "output_type": "execute_result"
       }
      ],
      "source": "step1.description()",
      "start_time": "2020-08-26T15:28:04.941Z"
     },
     {
      "end_time": "2020-08-26T15:32:46.390Z",
      "execution_time": "4ms",
      "outputs": [
       {
        "data": {
         "text/plain": "rdflib.term.Literal('Melt the butter in a skillet over medium heat. Add the apple and onion to the melted butter, season with the curry powder, and cook and stir until the apple and onion are tender, 7 to 10 minutes. Stir the mushroom soup and half-and-half into the mixture until completely combined; spoon over the chicken pieces.')"
        },
        "execution_count": 7,
        "metadata": {},
        "output_type": "execute_result"
       }
      ],
      "source": "step1.description()",
      "start_time": "2020-08-26T15:32:46.386Z"
     },
     {
      "end_time": "2020-08-26T15:50:44.851Z",
      "execution_time": "4ms",
      "outputs": [
       {
        "data": {
         "text/plain": "rdflib.term.Literal('Melt the butter in a skillet over medium heat. Add the apple and onion to the melted butter, season with the curry powder, and cook and stir until the apple and onion are tender, 7 to 10 minutes. Stir the mushroom soup and half-and-half into the mixture until completely combined; spoon over the chicken pieces.')"
        },
        "execution_count": 7,
        "metadata": {},
        "output_type": "execute_result"
       }
      ],
      "source": "step1.description()",
      "start_time": "2020-08-26T15:50:44.847Z"
     },
     {
      "end_time": "2020-08-26T15:51:07.981Z",
      "execution_time": "4ms",
      "outputs": [
       {
        "data": {
         "text/plain": "rdflib.term.Literal('Melt the butter in a skillet over medium heat. Add the apple and onion to the melted butter, season with the curry powder, and cook and stir until the apple and onion are tender, 7 to 10 minutes. Stir the mushroom soup and half-and-half into the mixture until completely combined; spoon over the chicken pieces.')"
        },
        "execution_count": 15,
        "metadata": {},
        "output_type": "execute_result"
       }
      ],
      "source": "step1.description()",
      "start_time": "2020-08-26T15:51:07.977Z"
     },
     {
      "end_time": "2020-08-26T16:25:45.190Z",
      "execution_time": "4ms",
      "outputs": [
       {
        "data": {
         "text/plain": "rdflib.term.Literal('Melt the butter in a skillet over medium heat. Add the apple and onion to the melted butter, season with the curry powder, and cook and stir until the apple and onion are tender, 7 to 10 minutes. Stir the mushroom soup and half-and-half into the mixture until completely combined; spoon over the chicken pieces.')"
        },
        "execution_count": 8,
        "metadata": {},
        "output_type": "execute_result"
       }
      ],
      "source": "step1.description()",
      "start_time": "2020-08-26T16:25:45.186Z"
     },
     {
      "end_time": "2020-08-26T16:30:25.514Z",
      "execution_time": "4ms",
      "outputs": [
       {
        "data": {
         "text/plain": "rdflib.term.Literal('Melt the butter in a skillet over medium heat. Add the apple and onion to the melted butter, season with the curry powder, and cook and stir until the apple and onion are tender, 7 to 10 minutes. Stir the mushroom soup and half-and-half into the mixture until completely combined; spoon over the chicken pieces.')"
        },
        "execution_count": 11,
        "metadata": {},
        "output_type": "execute_result"
       }
      ],
      "source": "step1.description()",
      "start_time": "2020-08-26T16:30:25.510Z"
     },
     {
      "end_time": "2020-08-26T16:31:49.660Z",
      "execution_time": "4ms",
      "outputs": [
       {
        "data": {
         "text/plain": "rdflib.term.Literal('Melt the butter in a skillet over medium heat. Add the apple and onion to the melted butter, season with the curry powder, and cook and stir until the apple and onion are tender, 7 to 10 minutes. Stir the mushroom soup and half-and-half into the mixture until completely combined; spoon over the chicken pieces.')"
        },
        "execution_count": 8,
        "metadata": {},
        "output_type": "execute_result"
       }
      ],
      "source": "step1.description()",
      "start_time": "2020-08-26T16:31:49.656Z"
     },
     {
      "end_time": "2020-08-26T16:32:34.642Z",
      "execution_time": "4ms",
      "outputs": [
       {
        "data": {
         "text/plain": "rdflib.term.Literal('Melt the butter in a skillet over medium heat. Add the apple and onion to the melted butter, season with the curry powder, and cook and stir until the apple and onion are tender, 7 to 10 minutes. Stir the mushroom soup and half-and-half into the mixture until completely combined; spoon over the chicken pieces.')"
        },
        "execution_count": 8,
        "metadata": {},
        "output_type": "execute_result"
       }
      ],
      "source": "step1.description()",
      "start_time": "2020-08-26T16:32:34.638Z"
     },
     {
      "end_time": "2020-08-26T16:35:03.210Z",
      "execution_time": "5ms",
      "outputs": [
       {
        "data": {
         "text/plain": "rdflib.term.Literal('Melt the butter in a skillet over medium heat. Add the apple and onion to the melted butter, season with the curry powder, and cook and stir until the apple and onion are tender, 7 to 10 minutes. Stir the mushroom soup and half-and-half into the mixture until completely combined; spoon over the chicken pieces.')"
        },
        "execution_count": 23,
        "metadata": {},
        "output_type": "execute_result"
       }
      ],
      "source": "step1.description()",
      "start_time": "2020-08-26T16:35:03.205Z"
     },
     {
      "end_time": "2020-08-26T16:38:19.830Z",
      "execution_time": "4ms",
      "outputs": [
       {
        "data": {
         "text/plain": "rdflib.term.Literal('Melt the butter in a skillet over medium heat. Add the apple and onion to the melted butter, season with the curry powder, and cook and stir until the apple and onion are tender, 7 to 10 minutes. Stir the mushroom soup and half-and-half into the mixture until completely combined; spoon over the chicken pieces.')"
        },
        "execution_count": 8,
        "metadata": {},
        "output_type": "execute_result"
       }
      ],
      "source": "step1.description()",
      "start_time": "2020-08-26T16:38:19.826Z"
     },
     {
      "end_time": "2020-08-26T16:40:58.839Z",
      "execution_time": "4ms",
      "outputs": [
       {
        "data": {
         "text/plain": "rdflib.term.Literal('Melt the butter in a skillet over medium heat. Add the apple and onion to the melted butter, season with the curry powder, and cook and stir until the apple and onion are tender, 7 to 10 minutes. Stir the mushroom soup and half-and-half into the mixture until completely combined; spoon over the chicken pieces.')"
        },
        "execution_count": 8,
        "metadata": {},
        "output_type": "execute_result"
       }
      ],
      "source": "step1.description()",
      "start_time": "2020-08-26T16:40:58.835Z"
     },
     {
      "end_time": "2020-08-26T16:43:40.395Z",
      "execution_time": "5ms",
      "outputs": [
       {
        "data": {
         "text/plain": "rdflib.term.Literal('Melt the butter in a skillet over medium heat. Add the apple and onion to the melted butter, season with the curry powder, and cook and stir until the apple and onion are tender, 7 to 10 minutes. Stir the mushroom soup and half-and-half into the mixture until completely combined; spoon over the chicken pieces.')"
        },
        "execution_count": 27,
        "metadata": {},
        "output_type": "execute_result"
       }
      ],
      "source": "step1.description()",
      "start_time": "2020-08-26T16:43:40.390Z"
     },
     {
      "end_time": "2020-08-26T17:00:43.512Z",
      "execution_time": "5ms",
      "outputs": [
       {
        "data": {
         "text/plain": "rdflib.term.Literal('Melt the butter in a skillet over medium heat. Add the apple and onion to the melted butter, season with the curry powder, and cook and stir until the apple and onion are tender, 7 to 10 minutes. Stir the mushroom soup and half-and-half into the mixture until completely combined; spoon over the chicken pieces.')"
        },
        "execution_count": 8,
        "metadata": {},
        "output_type": "execute_result"
       }
      ],
      "source": "step1.description()",
      "start_time": "2020-08-26T17:00:43.507Z"
     }
    ]
   },
   "outputs": [
    {
     "data": {
      "text/plain": [
       "rdflib.term.Literal('Preheat an oven to 350 degrees F (175 degrees C).')"
      ]
     },
     "execution_count": 32,
     "metadata": {},
     "output_type": "execute_result"
    }
   ],
   "source": [
    "step.description()"
   ]
  },
  {
   "cell_type": "code",
   "execution_count": 33,
   "metadata": {
    "ExecutionTime": {
     "end_time": "2020-08-26T17:00:43.563345Z",
     "start_time": "2020-08-26T17:00:43.559561Z"
    },
    "provenance": [
     {
      "end_time": "Unknown",
      "execution_time": "Unknown",
      "outputs": [],
      "source": "",
      "start_time": "Unknown"
     },
     {
      "end_time": "2020-08-26T15:27:40.821Z",
      "execution_time": "5ms",
      "outputs": [
       {
        "data": {
         "text/plain": "True"
        },
        "execution_count": 8,
        "metadata": {},
        "output_type": "execute_result"
       }
      ],
      "source": "step1.is_manual_task()",
      "start_time": "2020-08-26T15:27:40.816Z"
     },
     {
      "end_time": "2020-08-26T15:27:56.208Z",
      "execution_time": "4ms",
      "outputs": [
       {
        "data": {
         "text/plain": "False"
        },
        "execution_count": 15,
        "metadata": {},
        "output_type": "execute_result"
       }
      ],
      "source": "step1.is_manual_task()",
      "start_time": "2020-08-26T15:27:56.204Z"
     },
     {
      "end_time": "2020-08-26T15:28:05.648Z",
      "execution_time": "4ms",
      "outputs": [
       {
        "data": {
         "text/plain": "True"
        },
        "execution_count": 22,
        "metadata": {},
        "output_type": "execute_result"
       }
      ],
      "source": "step1.is_manual_task()",
      "start_time": "2020-08-26T15:28:05.644Z"
     },
     {
      "end_time": "2020-08-26T15:32:46.872Z",
      "execution_time": "5ms",
      "outputs": [
       {
        "data": {
         "text/plain": "True"
        },
        "execution_count": 8,
        "metadata": {},
        "output_type": "execute_result"
       }
      ],
      "source": "step1.is_manual_task()",
      "start_time": "2020-08-26T15:32:46.867Z"
     },
     {
      "end_time": "2020-08-26T15:50:45.430Z",
      "execution_time": "4ms",
      "outputs": [
       {
        "data": {
         "text/plain": "True"
        },
        "execution_count": 8,
        "metadata": {},
        "output_type": "execute_result"
       }
      ],
      "source": "step1.is_manual_task()",
      "start_time": "2020-08-26T15:50:45.426Z"
     },
     {
      "end_time": "2020-08-26T16:25:45.372Z",
      "execution_time": "5ms",
      "outputs": [
       {
        "data": {
         "text/plain": "True"
        },
        "execution_count": 9,
        "metadata": {},
        "output_type": "execute_result"
       }
      ],
      "source": "step1.is_manual_task()",
      "start_time": "2020-08-26T16:25:45.367Z"
     },
     {
      "end_time": "2020-08-26T16:30:26.043Z",
      "execution_time": "4ms",
      "outputs": [
       {
        "data": {
         "text/plain": "True"
        },
        "execution_count": 12,
        "metadata": {},
        "output_type": "execute_result"
       }
      ],
      "source": "step1.is_manual_task()",
      "start_time": "2020-08-26T16:30:26.039Z"
     },
     {
      "end_time": "2020-08-26T16:31:50.094Z",
      "execution_time": "4ms",
      "outputs": [
       {
        "data": {
         "text/plain": "True"
        },
        "execution_count": 9,
        "metadata": {},
        "output_type": "execute_result"
       }
      ],
      "source": "step1.is_manual_task()",
      "start_time": "2020-08-26T16:31:50.090Z"
     },
     {
      "end_time": "2020-08-26T16:32:34.783Z",
      "execution_time": "4ms",
      "outputs": [
       {
        "data": {
         "text/plain": "True"
        },
        "execution_count": 9,
        "metadata": {},
        "output_type": "execute_result"
       }
      ],
      "source": "step1.is_manual_task()",
      "start_time": "2020-08-26T16:32:34.779Z"
     },
     {
      "end_time": "2020-08-26T16:35:03.294Z",
      "execution_time": "3ms",
      "outputs": [
       {
        "data": {
         "text/plain": "True"
        },
        "execution_count": 24,
        "metadata": {},
        "output_type": "execute_result"
       }
      ],
      "source": "step1.is_manual_task()",
      "start_time": "2020-08-26T16:35:03.291Z"
     },
     {
      "end_time": "2020-08-26T16:38:19.839Z",
      "execution_time": "7ms",
      "outputs": [
       {
        "data": {
         "text/plain": "True"
        },
        "execution_count": 9,
        "metadata": {},
        "output_type": "execute_result"
       }
      ],
      "source": "step1.is_manual_task()",
      "start_time": "2020-08-26T16:38:19.832Z"
     },
     {
      "end_time": "2020-08-26T16:40:59.191Z",
      "execution_time": "4ms",
      "outputs": [
       {
        "data": {
         "text/plain": "True"
        },
        "execution_count": 9,
        "metadata": {},
        "output_type": "execute_result"
       }
      ],
      "source": "step1.is_manual_task()",
      "start_time": "2020-08-26T16:40:59.187Z"
     },
     {
      "end_time": "2020-08-26T16:43:40.569Z",
      "execution_time": "4ms",
      "outputs": [
       {
        "data": {
         "text/plain": "True"
        },
        "execution_count": 28,
        "metadata": {},
        "output_type": "execute_result"
       }
      ],
      "source": "step1.is_manual_task()",
      "start_time": "2020-08-26T16:43:40.565Z"
     },
     {
      "end_time": "2020-08-26T17:00:43.563Z",
      "execution_time": "4ms",
      "outputs": [
       {
        "data": {
         "text/plain": "True"
        },
        "execution_count": 9,
        "metadata": {},
        "output_type": "execute_result"
       }
      ],
      "source": "step1.is_manual_task()",
      "start_time": "2020-08-26T17:00:43.559Z"
     }
    ]
   },
   "outputs": [
    {
     "data": {
      "text/plain": [
       "True"
      ]
     },
     "execution_count": 33,
     "metadata": {},
     "output_type": "execute_result"
    }
   ],
   "source": [
    "step.is_manual_task()"
   ]
  },
  {
   "cell_type": "code",
   "execution_count": 34,
   "metadata": {
    "ExecutionTime": {
     "end_time": "2020-08-26T17:00:43.736358Z",
     "start_time": "2020-08-26T17:00:43.732358Z"
    },
    "provenance": [
     {
      "end_time": "2020-08-26T15:27:48.242Z",
      "execution_time": "4ms",
      "outputs": [
       {
        "data": {
         "text/plain": "False"
        },
        "execution_count": 9,
        "metadata": {},
        "output_type": "execute_result"
       }
      ],
      "source": "step1.is_script_task()",
      "start_time": "2020-08-26T15:27:48.238Z"
     },
     {
      "end_time": "2020-08-26T15:27:56.353Z",
      "execution_time": "4ms",
      "outputs": [
       {
        "data": {
         "text/plain": "False"
        },
        "execution_count": 16,
        "metadata": {},
        "output_type": "execute_result"
       }
      ],
      "source": "step1.is_script_task()",
      "start_time": "2020-08-26T15:27:56.349Z"
     },
     {
      "end_time": "2020-08-26T15:28:07.120Z",
      "execution_time": "4ms",
      "outputs": [
       {
        "data": {
         "text/plain": "False"
        },
        "execution_count": 23,
        "metadata": {},
        "output_type": "execute_result"
       }
      ],
      "source": "step1.is_script_task()",
      "start_time": "2020-08-26T15:28:07.116Z"
     },
     {
      "end_time": "2020-08-26T15:32:47.751Z",
      "execution_time": "4ms",
      "outputs": [
       {
        "data": {
         "text/plain": "False"
        },
        "execution_count": 9,
        "metadata": {},
        "output_type": "execute_result"
       }
      ],
      "source": "step1.is_script_task()",
      "start_time": "2020-08-26T15:32:47.747Z"
     },
     {
      "end_time": "2020-08-26T15:50:45.993Z",
      "execution_time": "4ms",
      "outputs": [
       {
        "data": {
         "text/plain": "False"
        },
        "execution_count": 9,
        "metadata": {},
        "output_type": "execute_result"
       }
      ],
      "source": "step1.is_script_task()",
      "start_time": "2020-08-26T15:50:45.989Z"
     },
     {
      "end_time": "2020-08-26T15:51:10.188Z",
      "execution_time": "4ms",
      "outputs": [
       {
        "data": {
         "text/plain": "False"
        },
        "execution_count": 16,
        "metadata": {},
        "output_type": "execute_result"
       }
      ],
      "source": "step1.is_script_task()",
      "start_time": "2020-08-26T15:51:10.184Z"
     },
     {
      "end_time": "2020-08-26T16:25:45.748Z",
      "execution_time": "4ms",
      "outputs": [
       {
        "data": {
         "text/plain": "False"
        },
        "execution_count": 10,
        "metadata": {},
        "output_type": "execute_result"
       }
      ],
      "source": "step1.is_script_task()",
      "start_time": "2020-08-26T16:25:45.744Z"
     },
     {
      "end_time": "2020-08-26T16:30:26.762Z",
      "execution_time": "4ms",
      "outputs": [
       {
        "data": {
         "text/plain": "False"
        },
        "execution_count": 13,
        "metadata": {},
        "output_type": "execute_result"
       }
      ],
      "source": "step1.is_script_task()",
      "start_time": "2020-08-26T16:30:26.758Z"
     },
     {
      "end_time": "2020-08-26T16:31:50.589Z",
      "execution_time": "4ms",
      "outputs": [
       {
        "data": {
         "text/plain": "False"
        },
        "execution_count": 10,
        "metadata": {},
        "output_type": "execute_result"
       }
      ],
      "source": "step1.is_script_task()",
      "start_time": "2020-08-26T16:31:50.585Z"
     },
     {
      "end_time": "2020-08-26T16:32:34.926Z",
      "execution_time": "4ms",
      "outputs": [
       {
        "data": {
         "text/plain": "False"
        },
        "execution_count": 10,
        "metadata": {},
        "output_type": "execute_result"
       }
      ],
      "source": "step1.is_script_task()",
      "start_time": "2020-08-26T16:32:34.922Z"
     },
     {
      "end_time": "2020-08-26T16:35:03.471Z",
      "execution_time": "4ms",
      "outputs": [
       {
        "data": {
         "text/plain": "False"
        },
        "execution_count": 25,
        "metadata": {},
        "output_type": "execute_result"
       }
      ],
      "source": "step1.is_script_task()",
      "start_time": "2020-08-26T16:35:03.467Z"
     },
     {
      "end_time": "2020-08-26T16:38:19.853Z",
      "execution_time": "9ms",
      "outputs": [
       {
        "data": {
         "text/plain": "False"
        },
        "execution_count": 10,
        "metadata": {},
        "output_type": "execute_result"
       }
      ],
      "source": "step1.is_script_task()",
      "start_time": "2020-08-26T16:38:19.844Z"
     },
     {
      "end_time": "2020-08-26T16:40:59.463Z",
      "execution_time": "4ms",
      "outputs": [
       {
        "data": {
         "text/plain": "False"
        },
        "execution_count": 10,
        "metadata": {},
        "output_type": "execute_result"
       }
      ],
      "source": "step1.is_script_task()",
      "start_time": "2020-08-26T16:40:59.459Z"
     },
     {
      "end_time": "2020-08-26T16:43:40.761Z",
      "execution_time": "4ms",
      "outputs": [
       {
        "data": {
         "text/plain": "False"
        },
        "execution_count": 29,
        "metadata": {},
        "output_type": "execute_result"
       }
      ],
      "source": "step1.is_script_task()",
      "start_time": "2020-08-26T16:43:40.757Z"
     },
     {
      "end_time": "2020-08-26T17:00:43.736Z",
      "execution_time": "4ms",
      "outputs": [
       {
        "data": {
         "text/plain": "False"
        },
        "execution_count": 10,
        "metadata": {},
        "output_type": "execute_result"
       }
      ],
      "source": "step1.is_script_task()",
      "start_time": "2020-08-26T17:00:43.732Z"
     }
    ]
   },
   "outputs": [
    {
     "data": {
      "text/plain": [
       "False"
      ]
     },
     "execution_count": 34,
     "metadata": {},
     "output_type": "execute_result"
    }
   ],
   "source": [
    "step.is_script_task()"
   ]
  },
  {
   "cell_type": "markdown",
   "metadata": {},
   "source": [
    "# Create a FairWorkflow\n",
    "Then add a few steps to it."
   ]
  },
  {
   "cell_type": "code",
   "execution_count": 35,
   "metadata": {},
   "outputs": [],
   "source": [
    "# Create a workflow\n",
    "workflow = FairWorkflow(description='This is a test workflow.')"
   ]
  },
  {
   "cell_type": "code",
   "execution_count": 36,
   "metadata": {},
   "outputs": [],
   "source": [
    "# Load some steps from nanopublications\n",
    "preheat_oven = FairStep(uri='http://purl.org/np/RACLlhNijmCk4AX_2PuoBPHKfY1T6jieGaUPVFv-fWCAg#step', from_nanopub=True)\n",
    "melt_butter = FairStep(uri='http://purl.org/np/RANBLu3UN2ngnjY5Hzrn7S5GpqFdz8_BBy92bDlt991X4#step', from_nanopub=True)\n",
    "arrange_chicken = FairStep(uri='http://purl.org/np/RA5D8NzM2OXPZAWNlADQ8hZdVu1k0HnmVmgl20apjhU8M#step', from_nanopub=True)"
   ]
  },
  {
   "cell_type": "code",
   "execution_count": 37,
   "metadata": {},
   "outputs": [],
   "source": [
    "# Specify ordering of steps\n",
    "workflow.add(melt_butter, follows=preheat_oven)\n",
    "workflow.add(arrange_chicken, follows=melt_butter)"
   ]
  },
  {
   "cell_type": "code",
   "execution_count": 38,
   "metadata": {},
   "outputs": [
    {
     "name": "stdout",
     "output_type": "stream",
     "text": [
      "Plan RDF does not specify a first step (pwo:hasFirstStep)\n",
      "\n"
     ]
    },
    {
     "data": {
      "text/plain": [
       "False"
      ]
     },
     "execution_count": 38,
     "metadata": {},
     "output_type": "execute_result"
    }
   ],
   "source": [
    "# Does it validate? No.\n",
    "workflow.validate()"
   ]
  },
  {
   "cell_type": "code",
   "execution_count": 39,
   "metadata": {},
   "outputs": [
    {
     "name": "stdout",
     "output_type": "stream",
     "text": [
      "{'http://purl.org/np/RANBLu3UN2ngnjY5Hzrn7S5GpqFdz8_BBy92bDlt991X4#step': <fairworkflows.fairstep.FairStep object at 0x11efbb190>, 'http://purl.org/np/RA5D8NzM2OXPZAWNlADQ8hZdVu1k0HnmVmgl20apjhU8M#step': <fairworkflows.fairstep.FairStep object at 0x11ef6cfd0>, 'http://purl.org/np/RACLlhNijmCk4AX_2PuoBPHKfY1T6jieGaUPVFv-fWCAg#step': <fairworkflows.fairstep.FairStep object at 0x11f048280>}\n"
     ]
    }
   ],
   "source": [
    "# Specify the first step in the plan\n",
    "workflow.set_first_step(preheat_oven)"
   ]
  },
  {
   "cell_type": "code",
   "execution_count": 40,
   "metadata": {},
   "outputs": [
    {
     "name": "stdout",
     "output_type": "stream",
     "text": [
      "Workflow URI = http://purl.org/nanopub/temp/mynanopub#plan\n",
      "@prefix ns1: <http://www.ontologydesignpatterns.org/ont/dul/DUL.owl#> .\n",
      "@prefix ns2: <http://purl.org/spar/pwo#> .\n",
      "@prefix ns3: <http://purl.org/dc/terms/> .\n",
      "\n",
      "_:Ne9958bd310e74e429b625a4a54e30446 {\n",
      "    <http://purl.org/nanopub/temp/mynanopub#plan> a <http://purl.org/net/p-plan#Plan> ;\n",
      "        ns3:description \"This is a test workflow.\" ;\n",
      "        ns2:hasFirstStep <http://purl.org/np/RACLlhNijmCk4AX_2PuoBPHKfY1T6jieGaUPVFv-fWCAg#step> .\n",
      "\n",
      "    <http://purl.org/np/RACLlhNijmCk4AX_2PuoBPHKfY1T6jieGaUPVFv-fWCAg#step> ns1:precedes <http://purl.org/np/RANBLu3UN2ngnjY5Hzrn7S5GpqFdz8_BBy92bDlt991X4#step> .\n",
      "\n",
      "    <http://purl.org/np/RANBLu3UN2ngnjY5Hzrn7S5GpqFdz8_BBy92bDlt991X4#step> ns1:precedes <http://purl.org/np/RA5D8NzM2OXPZAWNlADQ8hZdVu1k0HnmVmgl20apjhU8M#step> .\n",
      "}\n",
      "\n",
      "\n"
     ]
    }
   ],
   "source": [
    "# Print workflow rdf\n",
    "print(workflow)"
   ]
  },
  {
   "cell_type": "code",
   "execution_count": 41,
   "metadata": {},
   "outputs": [
    {
     "data": {
      "image/png": "[encoded data removed]",
      "text/plain": [
       "<Figure size 432x288 with 1 Axes>"
      ]
     },
     "metadata": {},
     "output_type": "display_data"
    }
   ],
   "source": [
    "# What does the graph look like?\n",
    "workflow.draw()"
   ]
  },
  {
   "cell_type": "markdown",
   "metadata": {},
   "source": [
    "# What if we want to add computational steps?\n",
    "You can convert a python function to a FairStep and add it to the plex workflow."
   ]
  },
  {
   "cell_type": "code",
   "execution_count": 42,
   "metadata": {},
   "outputs": [],
   "source": [
    "# Define your computational step as a function\n",
    "def a_computational_step(x, y):\n",
    "    \"\"\"A test function that adds two numbers\"\"\"\n",
    "    return x + y"
   ]
  },
  {
   "cell_type": "code",
   "execution_count": 43,
   "metadata": {},
   "outputs": [],
   "source": [
    "# Make it a FairStep and add it to the workflow\n",
    "new_step = FairStep(func=a_computational_step)\n",
    "workflow.add(new_step)"
   ]
  },
  {
   "cell_type": "markdown",
   "metadata": {},
   "source": [
    "# Alternatively, use the @fairstep decorator\n",
    "Use the decorator on any function that defines a computational step you wish to carry out. Each time it is called, a FairStep describing that step will be created and added to the plex workflow. This includes any input variables and their values."
   ]
  },
  {
   "cell_type": "code",
   "execution_count": 44,
   "metadata": {
    "ExecutionTime": {
     "end_time": "2020-08-26T17:00:44.103279Z",
     "start_time": "2020-08-26T17:00:44.099215Z"
    },
    "provenance": [
     {
      "end_time": "Unknown",
      "execution_time": "Unknown",
      "outputs": [],
      "source": "",
      "start_time": "Unknown"
     },
     {
      "end_time": "2020-08-26T16:30:40.506Z",
      "execution_time": "129ms",
      "outputs": [
       {
        "ename": "AttributeError",
        "evalue": "'FairStep' object has no attribute 'uri'",
        "output_type": "error",
        "traceback": [
         "\u001b[0;31m---------------------------------------------------------------------------\u001b[0m",
         "\u001b[0;31mAttributeError\u001b[0m                            Traceback (most recent call last)",
         "\u001b[0;32m<ipython-input-15-29754db2b68d>\u001b[0m in \u001b[0;36m<module>\u001b[0;34m\u001b[0m\n\u001b[0;32m----> 1\u001b[0;31m \u001b[0mworkflow\u001b[0m\u001b[0;34m.\u001b[0m\u001b[0mset_first_step\u001b[0m\u001b[0;34m(\u001b[0m\u001b[0mstep1\u001b[0m\u001b[0;34m)\u001b[0m\u001b[0;34m\u001b[0m\u001b[0;34m\u001b[0m\u001b[0m\n\u001b[0m",
         "\u001b[0;32m~/code/FAIRWorkbench/fairworkflows/fairworkflow.py\u001b[0m in \u001b[0;36mset_first_step\u001b[0;34m(self, step)\u001b[0m\n\u001b[1;32m     18\u001b[0m \u001b[0;34m\u001b[0m\u001b[0m\n\u001b[1;32m     19\u001b[0m     \u001b[0;32mdef\u001b[0m \u001b[0mset_first_step\u001b[0m\u001b[0;34m(\u001b[0m\u001b[0mself\u001b[0m\u001b[0;34m,\u001b[0m \u001b[0mstep\u001b[0m\u001b[0;34m:\u001b[0m\u001b[0mFairStep\u001b[0m\u001b[0;34m)\u001b[0m\u001b[0;34m:\u001b[0m\u001b[0;34m\u001b[0m\u001b[0;34m\u001b[0m\u001b[0m\n\u001b[0;32m---> 20\u001b[0;31m         \u001b[0mself\u001b[0m\u001b[0;34m.\u001b[0m\u001b[0m_rdf\u001b[0m\u001b[0;34m.\u001b[0m\u001b[0madd\u001b[0m\u001b[0;34m(\u001b[0m \u001b[0;34m(\u001b[0m\u001b[0mself\u001b[0m\u001b[0;34m.\u001b[0m\u001b[0mthis_plan\u001b[0m\u001b[0;34m,\u001b[0m \u001b[0mNanopub\u001b[0m\u001b[0;34m.\u001b[0m\u001b[0mPWO\u001b[0m\u001b[0;34m.\u001b[0m\u001b[0mhasFirstStep\u001b[0m\u001b[0;34m,\u001b[0m \u001b[0mstep\u001b[0m\u001b[0;34m.\u001b[0m\u001b[0muri\u001b[0m\u001b[0;34m)\u001b[0m \u001b[0;34m)\u001b[0m\u001b[0;34m\u001b[0m\u001b[0;34m\u001b[0m\u001b[0m\n\u001b[0m\u001b[1;32m     21\u001b[0m \u001b[0;34m\u001b[0m\u001b[0m\n\u001b[1;32m     22\u001b[0m     \u001b[0;32mdef\u001b[0m \u001b[0madd_step\u001b[0m\u001b[0;34m(\u001b[0m\u001b[0mself\u001b[0m\u001b[0;34m,\u001b[0m \u001b[0mnew_step\u001b[0m\u001b[0;34m,\u001b[0m \u001b[0mprecedes_step\u001b[0m\u001b[0;34m)\u001b[0m\u001b[0;34m:\u001b[0m\u001b[0;34m\u001b[0m\u001b[0;34m\u001b[0m\u001b[0m\n",
         "\u001b[0;31mAttributeError\u001b[0m: 'FairStep' object has no attribute 'uri'"
        ]
       }
      ],
      "source": "workflow.set_first_step(step1)",
      "start_time": "2020-08-26T16:30:40.377Z"
     },
     {
      "end_time": "2020-08-26T16:31:52.812Z",
      "execution_time": "3ms",
      "outputs": [],
      "source": "workflow.set_first_step(step1)",
      "start_time": "2020-08-26T16:31:52.809Z"
     },
     {
      "end_time": "2020-08-26T16:32:03.853Z",
      "execution_time": "4ms",
      "outputs": [
       {
        "name": "stdout",
        "output_type": "stream",
        "text": "Workflow URI = http://purl.org/nanopub/temp/mynanopub#plan\n@prefix ns1: <http://purl.org/dc/terms/> .\n@prefix ns2: <http://purl.org/spar/pwo#> .\n\n_:N7155822cf92641f88e2644e5db3fdb70 {\n    <http://purl.org/nanopub/temp/mynanopub#plan> a <http://purl.org/net/p-plan#Plan> ;\n        ns1:description \"A test workflow.\" ;\n        ns2:hasFirstStep <http://purl.org/np/RANBLu3UN2ngnjY5Hzrn7S5GpqFdz8_BBy92bDlt991X4#step> .\n}\n\n\n"
       }
      ],
      "source": "workflow.set_first_step(step1)\nprint(workflow)",
      "start_time": "2020-08-26T16:32:03.849Z"
     },
     {
      "end_time": "2020-08-26T16:32:37.197Z",
      "execution_time": "4ms",
      "outputs": [
       {
        "name": "stdout",
        "output_type": "stream",
        "text": "Workflow URI = http://purl.org/nanopub/temp/mynanopub#plan\n@prefix ns1: <http://purl.org/dc/terms/> .\n@prefix ns2: <http://purl.org/spar/pwo#> .\n\n_:Neb53e22d50a241f38b6e6c2c3de82b12 {\n    <http://purl.org/nanopub/temp/mynanopub#plan> a <http://purl.org/net/p-plan#Plan> ;\n        ns1:description \"A test workflow.\" ;\n        ns2:hasFirstStep <http://purl.org/np/RANBLu3UN2ngnjY5Hzrn7S5GpqFdz8_BBy92bDlt991X4#step> .\n}\n\n\n"
       }
      ],
      "source": "workflow.set_first_step(step1)\nprint(workflow)",
      "start_time": "2020-08-26T16:32:37.193Z"
     },
     {
      "end_time": "2020-08-26T16:35:04.450Z",
      "execution_time": "4ms",
      "outputs": [
       {
        "name": "stdout",
        "output_type": "stream",
        "text": "Workflow URI = http://purl.org/nanopub/temp/mynanopub#plan\n@prefix ns1: <http://purl.org/dc/terms/> .\n@prefix ns2: <http://purl.org/spar/pwo#> .\n\n_:Ncbfc3476a1df46f1946737fbb70d6fe8 {\n    <http://purl.org/nanopub/temp/mynanopub#plan> a <http://purl.org/net/p-plan#Plan> ;\n        ns1:description \"A test workflow.\" ;\n        ns2:hasFirstStep <http://purl.org/np/RANBLu3UN2ngnjY5Hzrn7S5GpqFdz8_BBy92bDlt991X4#step> .\n}\n\n\n"
       }
      ],
      "source": "workflow.set_first_step(step1)\nprint(workflow)",
      "start_time": "2020-08-26T16:35:04.446Z"
     },
     {
      "end_time": "2020-08-26T16:38:20.247Z",
      "execution_time": "4ms",
      "outputs": [
       {
        "name": "stdout",
        "output_type": "stream",
        "text": "Workflow URI = http://purl.org/nanopub/temp/mynanopub#plan\n@prefix ns1: <http://purl.org/dc/terms/> .\n@prefix ns2: <http://purl.org/spar/pwo#> .\n\n_:Nfb4b37ca8ead468e8e5702ec31ca7262 {\n    <http://purl.org/nanopub/temp/mynanopub#plan> a <http://purl.org/net/p-plan#Plan> ;\n        ns1:description \"A test workflow.\" ;\n        ns2:hasFirstStep <http://purl.org/np/RANBLu3UN2ngnjY5Hzrn7S5GpqFdz8_BBy92bDlt991X4#step> .\n}\n\n\n"
       }
      ],
      "source": "workflow.set_first_step(step1)\nprint(workflow)",
      "start_time": "2020-08-26T16:38:20.243Z"
     },
     {
      "end_time": "2020-08-26T16:41:00.966Z",
      "execution_time": "4ms",
      "outputs": [
       {
        "name": "stdout",
        "output_type": "stream",
        "text": "Workflow URI = http://purl.org/nanopub/temp/mynanopub#plan\n@prefix ns1: <http://purl.org/dc/terms/> .\n@prefix ns2: <http://purl.org/spar/pwo#> .\n\n_:N125fb95aab2d44cc98d704c055b4b06b {\n    <http://purl.org/nanopub/temp/mynanopub#plan> a <http://purl.org/net/p-plan#Plan> ;\n        ns1:description \"A test workflow.\" ;\n        ns2:hasFirstStep <http://purl.org/np/RANBLu3UN2ngnjY5Hzrn7S5GpqFdz8_BBy92bDlt991X4#step> .\n}\n\n\n"
       }
      ],
      "source": "workflow.set_first_step(step1)\nprint(workflow)",
      "start_time": "2020-08-26T16:41:00.962Z"
     },
     {
      "end_time": "2020-08-26T16:43:41.673Z",
      "execution_time": "5ms",
      "outputs": [
       {
        "name": "stdout",
        "output_type": "stream",
        "text": "Workflow URI = http://purl.org/nanopub/temp/mynanopub#plan\n@prefix ns1: <http://purl.org/dc/terms/> .\n@prefix ns2: <http://purl.org/spar/pwo#> .\n\n_:N61ffd43f04674f0a90bfa89ce5c782b7 {\n    <http://purl.org/nanopub/temp/mynanopub#plan> a <http://purl.org/net/p-plan#Plan> ;\n        ns1:description \"A test workflow.\" ;\n        ns2:hasFirstStep <http://purl.org/np/RANBLu3UN2ngnjY5Hzrn7S5GpqFdz8_BBy92bDlt991X4#step> .\n}\n\n\n"
       }
      ],
      "source": "workflow.set_first_step(step1)\nprint(workflow)",
      "start_time": "2020-08-26T16:43:41.668Z"
     },
     {
      "end_time": "2020-08-26T17:00:44.103Z",
      "execution_time": "4ms",
      "outputs": [
       {
        "name": "stdout",
        "output_type": "stream",
        "text": "Workflow URI = http://purl.org/nanopub/temp/mynanopub#plan\n@prefix ns1: <http://purl.org/dc/terms/> .\n@prefix ns2: <http://purl.org/spar/pwo#> .\n\n_:N198b5517fb85496798e6e792a2201342 {\n    <http://purl.org/nanopub/temp/mynanopub#plan> a <http://purl.org/net/p-plan#Plan> ;\n        ns1:description \"A test workflow.\" ;\n        ns2:hasFirstStep <http://purl.org/np/RANBLu3UN2ngnjY5Hzrn7S5GpqFdz8_BBy92bDlt991X4#step> .\n}\n\n\n"
       }
      ],
      "source": "workflow.set_first_step(step1)\nprint(workflow)",
      "start_time": "2020-08-26T17:00:44.099Z"
     }
    ]
   },
   "outputs": [],
   "source": [
    "@fairstep(workflow)\n",
    "def another_computational_step(a, b):\n",
    "    \"\"\"Another script task\"\"\"\n",
    "    return a * b"
   ]
  },
  {
   "cell_type": "code",
   "execution_count": 45,
   "metadata": {},
   "outputs": [],
   "source": [
    "# Run the step\n",
    "another_computational_step(1, 5)"
   ]
  },
  {
   "cell_type": "code",
   "execution_count": 46,
   "metadata": {},
   "outputs": [],
   "source": [
    "# Run it again with different inputs\n",
    "another_computational_step(4, 3)"
   ]
  },
  {
   "cell_type": "code",
   "execution_count": 47,
   "metadata": {},
   "outputs": [
    {
     "name": "stdout",
     "output_type": "stream",
     "text": [
      "Workflow URI = http://purl.org/nanopub/temp/mynanopub#plan\n",
      "@prefix ns1: <http://www.ontologydesignpatterns.org/ont/dul/DUL.owl#> .\n",
      "@prefix ns2: <http://purl.org/spar/pwo#> .\n",
      "@prefix ns3: <http://purl.org/dc/terms/> .\n",
      "\n",
      "_:Ne9958bd310e74e429b625a4a54e30446 {\n",
      "    <http://purl.org/nanopub/temp/mynanopub#plan> a <http://purl.org/net/p-plan#Plan> ;\n",
      "        ns3:description \"This is a test workflow.\" ;\n",
      "        ns2:hasFirstStep <http://purl.org/np/RACLlhNijmCk4AX_2PuoBPHKfY1T6jieGaUPVFv-fWCAg#step> .\n",
      "\n",
      "    <http://purl.org/nanopub/temp/mynanopub#functiona_computational_step1598826014.2922711> ns1:precedes <http://purl.org/nanopub/temp/mynanopub#functionanother_computational_step1598826014.307491> .\n",
      "\n",
      "    <http://purl.org/nanopub/temp/mynanopub#functionanother_computational_step1598826014.307491> ns1:precedes <http://purl.org/nanopub/temp/mynanopub#functionanother_computational_step1598826014.316319> .\n",
      "\n",
      "    <http://purl.org/np/RACLlhNijmCk4AX_2PuoBPHKfY1T6jieGaUPVFv-fWCAg#step> ns1:precedes <http://purl.org/nanopub/temp/mynanopub#functiona_computational_step1598826014.2922711>,\n",
      "            <http://purl.org/np/RANBLu3UN2ngnjY5Hzrn7S5GpqFdz8_BBy92bDlt991X4#step> .\n",
      "\n",
      "    <http://purl.org/np/RANBLu3UN2ngnjY5Hzrn7S5GpqFdz8_BBy92bDlt991X4#step> ns1:precedes <http://purl.org/np/RA5D8NzM2OXPZAWNlADQ8hZdVu1k0HnmVmgl20apjhU8M#step> .\n",
      "}\n",
      "\n",
      "\n"
     ]
    }
   ],
   "source": [
    "# Both computational steps have now been added to the plex workflow\n",
    "print(workflow)"
   ]
  },
  {
   "cell_type": "markdown",
   "metadata": {},
   "source": [
    "# Walking the workflow graph\n",
    "We can now ask the FairWorkflow object to give us each step of the workflow we have constructed, one at a time. This is in the correct order (taking into account precedence defined earlier)."
   ]
  },
  {
   "cell_type": "code",
   "execution_count": 48,
   "metadata": {},
   "outputs": [
    {
     "name": "stdout",
     "output_type": "stream",
     "text": [
      "Step URI = http://purl.org/np/RACLlhNijmCk4AX_2PuoBPHKfY1T6jieGaUPVFv-fWCAg#step\n",
      "@prefix ns1: <http://purl.org/dc/terms/> .\n",
      "\n",
      "_:Nefd35d8386a549e4b677035e4ce02abc {\n",
      "    <http://purl.org/np/RACLlhNijmCk4AX_2PuoBPHKfY1T6jieGaUPVFv-fWCAg#step> a <http://dkm.fbk.eu/index.php/BPMN2_Ontology#ManualTask>,\n",
      "            <http://purl.org/net/p-plan#Step> ;\n",
      "        ns1:description \"Preheat an oven to 350 degrees F (175 degrees C).\" .\n",
      "}\n",
      "\n",
      "\n",
      "Step URI = http://purl.org/np/RANBLu3UN2ngnjY5Hzrn7S5GpqFdz8_BBy92bDlt991X4#step\n",
      "@prefix ns1: <http://purl.org/dc/terms/> .\n",
      "\n",
      "_:N0d96c773efab47eabe228b98182414ff {\n",
      "    <http://purl.org/np/RANBLu3UN2ngnjY5Hzrn7S5GpqFdz8_BBy92bDlt991X4#step> a <http://dkm.fbk.eu/index.php/BPMN2_Ontology#ManualTask>,\n",
      "            <http://purl.org/net/p-plan#Step> ;\n",
      "        ns1:description \"Melt the butter in a skillet over medium heat. Add the apple and onion to the melted butter, season with the curry powder, and cook and stir until the apple and onion are tender, 7 to 10 minutes. Stir the mushroom soup and half-and-half into the mixture until completely combined; spoon over the chicken pieces.\" .\n",
      "}\n",
      "\n",
      "\n",
      "Step URI = http://purl.org/np/RA5D8NzM2OXPZAWNlADQ8hZdVu1k0HnmVmgl20apjhU8M#step\n",
      "@prefix ns1: <http://purl.org/dc/terms/> .\n",
      "\n",
      "_:Nb259931d41db4dc5b247e92e73cf106c {\n",
      "    <http://purl.org/np/RA5D8NzM2OXPZAWNlADQ8hZdVu1k0HnmVmgl20apjhU8M#step> a <http://dkm.fbk.eu/index.php/BPMN2_Ontology#ManualTask>,\n",
      "            <http://purl.org/net/p-plan#Step> ;\n",
      "        ns1:description \"Arrange the chicken pieces in a single layer in a 9x13-inch baking dish. Season the chicken liberally with salt, pepper, and the paprika; set aside.\" .\n",
      "}\n",
      "\n",
      "\n",
      "Step URI = http://purl.org/nanopub/temp/mynanopub#functiona_computational_step1598826014.2922711\n",
      "@prefix ns1: <http://purl.org/dc/terms/> .\n",
      "\n",
      "_:N81118fa35fa1426b90b9a3719c4ee76d {\n",
      "    <http://purl.org/nanopub/temp/mynanopub#functiona_computational_step1598826014.2922711> ns1:description \"\"\"def a_computational_step(x, y):\n",
      "    \\\"\\\"\\\"A test function that adds two numbers\\\"\\\"\\\"\n",
      "    return x + y\n",
      "\"\"\" .\n",
      "}\n",
      "\n",
      "\n",
      "Step URI = http://purl.org/nanopub/temp/mynanopub#functionanother_computational_step1598826014.307491\n",
      "@prefix ns1: <http://purl.org/dc/terms/> .\n",
      "\n",
      "_:Ne855ba0b0bed4d8f9470cf3df21dc77f {\n",
      "    <http://purl.org/nanopub/temp/mynanopub#functionanother_computational_step1598826014.307491> ns1:description \"\"\"@fairstep(workflow)\n",
      "def another_computational_step(a, b):\n",
      "    \\\"\\\"\\\"Another script task\\\"\\\"\\\"\n",
      "    return a * b\n",
      "\"\"\" .\n",
      "}\n",
      "\n",
      "\n",
      "Step URI = http://purl.org/nanopub/temp/mynanopub#functionanother_computational_step1598826014.316319\n",
      "@prefix ns1: <http://purl.org/dc/terms/> .\n",
      "\n",
      "_:N854672f75350413faa01dfc187068c70 {\n",
      "    <http://purl.org/nanopub/temp/mynanopub#functionanother_computational_step1598826014.316319> ns1:description \"\"\"@fairstep(workflow)\n",
      "def another_computational_step(a, b):\n",
      "    \\\"\\\"\\\"Another script task\\\"\\\"\\\"\n",
      "    return a * b\n",
      "\"\"\" .\n",
      "}\n",
      "\n",
      "\n"
     ]
    }
   ],
   "source": [
    "for step in workflow:\n",
    "    print(step)"
   ]
  }
 ],
 "metadata": {
  "kernelspec": {
   "display_name": "Python 3",
   "language": "python",
   "name": "python3"
  },
  "language_info": {
   "codemirror_mode": {
    "name": "ipython",
    "version": 3
   },
   "file_extension": ".py",
   "mimetype": "text/x-python",
   "name": "python",
   "nbconvert_exporter": "python",
   "pygments_lexer": "ipython3",
   "version": "3.8.5"
  }
 },
 "nbformat": 4,
 "nbformat_minor": 4
}
