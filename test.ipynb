{
 "cells": [
  {
   "cell_type": "code",
   "execution_count": 1,
   "metadata": {},
   "outputs": [],
   "source": [
    "from fairworkflows import fairstep\n",
    "from scriptcwl import WorkflowGenerator"
   ]
  },
  {
   "cell_type": "code",
   "execution_count": 2,
   "metadata": {},
   "outputs": [
    {
     "name": "stdout",
     "output_type": "stream",
     "text": [
      "Created cwltool at  /Users/robinrichardson/code/FAIRWorkbench/steps/add.cwl\n"
     ]
    }
   ],
   "source": [
    "@fairstep\n",
    "def add(x: int, y: int) -> int:\n",
    "    return x + y"
   ]
  },
  {
   "cell_type": "code",
   "execution_count": 3,
   "metadata": {},
   "outputs": [
    {
     "name": "stdout",
     "output_type": "stream",
     "text": [
      "Created cwltool at  /Users/robinrichardson/code/FAIRWorkbench/steps/mult.cwl\n"
     ]
    }
   ],
   "source": [
    "@fairstep\n",
    "def mult(z: int, w: int) -> int:\n",
    "    return z * w"
   ]
  },
  {
   "cell_type": "code",
   "execution_count": 5,
   "metadata": {},
   "outputs": [
    {
     "name": "stderr",
     "output_type": "stream",
     "text": [
      "Resolved './steps/mult.cwl' to 'file:///Users/robinrichardson/code/FAIRWorkbench/steps/mult.cwl'\n",
      "Resolved './steps/add.cwl' to 'file:///Users/robinrichardson/code/FAIRWorkbench/steps/add.cwl'\n",
      "Resolved '/var/folders/6f/tyqhwp0x5rzd1t6d_61ghy800000gn/T/tmpqyx0jyip' to 'file:///var/folders/6f/tyqhwp0x5rzd1t6d_61ghy800000gn/T/tmpqyx0jyip'\n"
     ]
    }
   ],
   "source": [
    "with WorkflowGenerator() as wf:\n",
    "    wf.load(steps_dir='./steps/')\n",
    "\n",
    "    num1 = wf.add_input(num1='int')\n",
    "    num2 = wf.add_input(num2='int')\n",
    "\n",
    "    answer1 = wf.add(x=num1, y=num2)\n",
    "    answer2 = wf.mult(z=answer1, w=num2)\n",
    "\n",
    "    wf.add_outputs(final_answer=answer2)\n",
    "\n",
    "    wf.save('test_add_mult.cwl', mode='abs')"
   ]
  },
  {
   "cell_type": "code",
   "execution_count": 6,
   "metadata": {},
   "outputs": [
    {
     "name": "stdout",
     "output_type": "stream",
     "text": [
      "\u001b[1;30mINFO\u001b[0m /usr/local/bin/cwltool 2.0.20200312183052\n",
      "\u001b[1;30mINFO\u001b[0m Resolved 'test_add_mult.cwl' to 'file:///Users/robinrichardson/code/FAIRWorkbench/test_add_mult.cwl'\n",
      "\u001b[1;30mINFO\u001b[0m [workflow ] start\n",
      "\u001b[1;30mINFO\u001b[0m [workflow ] starting step add\n",
      "\u001b[1;30mINFO\u001b[0m [step add] start\n",
      "\u001b[1;30mINFO\u001b[0m [job add] /private/tmp/docker_tmpvk1afvom$ python3 \\\n",
      "    /Users/robinrichardson/code/FAIRWorkbench/steps/add.py \\\n",
      "    5 \\\n",
      "    10 > /private/tmp/docker_tmpvk1afvom/cwl.output.json\n",
      "\u001b[1;30mINFO\u001b[0m [job add] completed success\n",
      "\u001b[1;30mINFO\u001b[0m [step add] completed success\n",
      "\u001b[1;30mINFO\u001b[0m [workflow ] starting step mult\n",
      "\u001b[1;30mINFO\u001b[0m [step mult] start\n",
      "\u001b[1;30mINFO\u001b[0m [job mult] /private/tmp/docker_tmpv7ykxlvl$ python3 \\\n",
      "    /Users/robinrichardson/code/FAIRWorkbench/steps/mult.py \\\n",
      "    15 \\\n",
      "    10 > /private/tmp/docker_tmpv7ykxlvl/cwl.output.json\n",
      "\u001b[1;30mINFO\u001b[0m [job mult] completed success\n",
      "\u001b[1;30mINFO\u001b[0m [step mult] completed success\n",
      "\u001b[1;30mINFO\u001b[0m [workflow ] completed success\n",
      "{\n",
      "    \"final_answer\": 150\n",
      "}\n",
      "\u001b[1;30mINFO\u001b[0m Final process status is success\n"
     ]
    }
   ],
   "source": [
    "! cwltool test_add_mult.cwl --num1 5 --num2 10"
   ]
  },
  {
   "cell_type": "code",
   "execution_count": null,
   "metadata": {},
   "outputs": [],
   "source": []
  }
 ],
 "metadata": {
  "kernelspec": {
   "display_name": "Python 3",
   "language": "python",
   "name": "python3"
  },
  "language_info": {
   "codemirror_mode": {
    "name": "ipython",
    "version": 3
   },
   "file_extension": ".py",
   "mimetype": "text/x-python",
   "name": "python",
   "nbconvert_exporter": "python",
   "pygments_lexer": "ipython3",
   "version": "3.7.7"
  }
 },
 "nbformat": 4,
 "nbformat_minor": 4
}
