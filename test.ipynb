{
 "cells": [
  {
   "cell_type": "code",
   "execution_count": 6,
   "metadata": {},
   "outputs": [],
   "source": [
    "from fairworkflows import fairstep\n",
    "from scriptcwl import WorkflowGenerator"
   ]
  },
  {
   "cell_type": "markdown",
   "metadata": {},
   "source": [
    "# Steps"
   ]
  },
  {
   "cell_type": "code",
   "execution_count": 7,
   "metadata": {},
   "outputs": [
    {
     "name": "stdout",
     "output_type": "stream",
     "text": [
      "Created cwltool at  /Users/robinrichardson/code/FAIRWorkbench/steps/add.cwl\n"
     ]
    }
   ],
   "source": [
    "@fairstep\n",
    "def add(x: int, y: int) -> int:\n",
    "    return x + y"
   ]
  },
  {
   "cell_type": "code",
   "execution_count": 8,
   "metadata": {},
   "outputs": [
    {
     "name": "stdout",
     "output_type": "stream",
     "text": [
      "Created cwltool at  /Users/robinrichardson/code/FAIRWorkbench/steps/mult.cwl\n"
     ]
    }
   ],
   "source": [
    "@fairstep\n",
    "def mult(z: int, w: int) -> int:\n",
    "    return z * w"
   ]
  },
  {
   "cell_type": "markdown",
   "metadata": {},
   "source": [
    "# Workflow"
   ]
  },
  {
   "cell_type": "code",
   "execution_count": 9,
   "metadata": {},
   "outputs": [
    {
     "name": "stderr",
     "output_type": "stream",
     "text": [
      "Resolved './steps/mult.cwl' to 'file:///Users/robinrichardson/code/FAIRWorkbench/steps/mult.cwl'\n",
      "Resolved './steps/add.cwl' to 'file:///Users/robinrichardson/code/FAIRWorkbench/steps/add.cwl'\n",
      "Resolved '/var/folders/6f/tyqhwp0x5rzd1t6d_61ghy800000gn/T/tmpdg2gb98o' to 'file:///var/folders/6f/tyqhwp0x5rzd1t6d_61ghy800000gn/T/tmpdg2gb98o'\n"
     ]
    }
   ],
   "source": [
    "with WorkflowGenerator() as wf:\n",
    "    wf.load(steps_dir='./steps/')\n",
    "\n",
    "    num1 = wf.add_input(num1='int')\n",
    "    num2 = wf.add_input(num2='int')\n",
    "\n",
    "    answer1 = wf.add(x=num1, y=num2)\n",
    "    answer2 = wf.mult(z=answer1, w=num2)\n",
    "\n",
    "    wf.add_outputs(final_answer=answer2)\n",
    "\n",
    "    wf.save('test_add_mult.cwl', mode='abs')"
   ]
  },
  {
   "cell_type": "markdown",
   "metadata": {},
   "source": [
    "# Execution"
   ]
  },
  {
   "cell_type": "code",
   "execution_count": 10,
   "metadata": {},
   "outputs": [
    {
     "name": "stdout",
     "output_type": "stream",
     "text": [
      "\u001b[1;30mINFO\u001b[0m /usr/local/bin/cwltool 2.0.20200312183052\n",
      "\u001b[1;30mINFO\u001b[0m Resolved 'test_add_mult.cwl' to 'file:///Users/robinrichardson/code/FAIRWorkbench/test_add_mult.cwl'\n",
      "\u001b[1;30mINFO\u001b[0m [workflow ] start\n",
      "\u001b[1;30mINFO\u001b[0m [workflow ] starting step add\n",
      "\u001b[1;30mINFO\u001b[0m [step add] start\n",
      "\u001b[1;30mINFO\u001b[0m [job add] /private/tmp/docker_tmpjk8juz95$ python3 \\\n",
      "    /Users/robinrichardson/code/FAIRWorkbench/steps/add.py \\\n",
      "    5 \\\n",
      "    10 > /private/tmp/docker_tmpjk8juz95/cwl.output.json\n",
      "\u001b[1;30mINFO\u001b[0m [job add] completed success\n",
      "\u001b[1;30mINFO\u001b[0m [step add] completed success\n",
      "\u001b[1;30mINFO\u001b[0m [workflow ] starting step mult\n",
      "\u001b[1;30mINFO\u001b[0m [step mult] start\n",
      "\u001b[1;30mINFO\u001b[0m [job mult] /private/tmp/docker_tmpfk9s8ak6$ python3 \\\n",
      "    /Users/robinrichardson/code/FAIRWorkbench/steps/mult.py \\\n",
      "    15 \\\n",
      "    10 > /private/tmp/docker_tmpfk9s8ak6/cwl.output.json\n",
      "\u001b[1;30mINFO\u001b[0m [job mult] completed success\n",
      "\u001b[1;30mINFO\u001b[0m [step mult] completed success\n",
      "\u001b[1;30mINFO\u001b[0m [workflow ] completed success\n",
      "{\n",
      "    \"final_answer\": 150\n",
      "}\n",
      "\u001b[1;30mINFO\u001b[0m Final process status is success\n"
     ]
    }
   ],
   "source": [
    "! cwltool test_add_mult.cwl --num1 5 --num2 10"
   ]
  },
  {
   "cell_type": "code",
   "execution_count": 1,
   "metadata": {},
   "outputs": [
    {
     "ename": "TypeError",
     "evalue": "'dict' object is not callable",
     "output_type": "error",
     "traceback": [
      "\u001b[0;31m---------------------------------------------------------------------------\u001b[0m",
      "\u001b[0;31mTypeError\u001b[0m                                 Traceback (most recent call last)",
      "\u001b[0;32m<ipython-input-1-30ada484e5f7>\u001b[0m in \u001b[0;36m<module>\u001b[0;34m\u001b[0m\n\u001b[1;32m      1\u001b[0m \u001b[0;32mfrom\u001b[0m \u001b[0mfairworkflows\u001b[0m \u001b[0;32mimport\u001b[0m \u001b[0mNanopub\u001b[0m\u001b[0;34m\u001b[0m\u001b[0;34m\u001b[0m\u001b[0m\n\u001b[0;32m----> 2\u001b[0;31m \u001b[0mnp\u001b[0m \u001b[0;34m=\u001b[0m \u001b[0mNanopub\u001b[0m\u001b[0;34m.\u001b[0m\u001b[0mfetch\u001b[0m\u001b[0;34m(\u001b[0m\u001b[0;34m'http://purl.org/np/RApJG4fwj0szOMBMiYGmYvd5MCtRle6VbwkMJUb1SxxDM'\u001b[0m\u001b[0;34m)\u001b[0m\u001b[0;34m\u001b[0m\u001b[0;34m\u001b[0m\u001b[0m\n\u001b[0m\u001b[1;32m      3\u001b[0m \u001b[0mprint\u001b[0m\u001b[0;34m(\u001b[0m\u001b[0mnp\u001b[0m\u001b[0;34m)\u001b[0m\u001b[0;34m\u001b[0m\u001b[0;34m\u001b[0m\u001b[0m\n",
      "\u001b[0;32m~/code/FAIRWorkbench/fairworkflows/nanopub.py\u001b[0m in \u001b[0;36mfetch\u001b[0;34m(uri, format)\u001b[0m\n\u001b[1;32m    210\u001b[0m             \u001b[0mnanopub_rdf\u001b[0m \u001b[0;34m=\u001b[0m \u001b[0mrdflib\u001b[0m\u001b[0;34m.\u001b[0m\u001b[0mConjunctiveGraph\u001b[0m\u001b[0;34m(\u001b[0m\u001b[0;34m)\u001b[0m\u001b[0;34m\u001b[0m\u001b[0;34m\u001b[0m\u001b[0m\n\u001b[1;32m    211\u001b[0m             \u001b[0mnanopub_rdf\u001b[0m\u001b[0;34m.\u001b[0m\u001b[0mparse\u001b[0m\u001b[0;34m(\u001b[0m\u001b[0mdata\u001b[0m\u001b[0;34m=\u001b[0m\u001b[0mr\u001b[0m\u001b[0;34m.\u001b[0m\u001b[0mtext\u001b[0m\u001b[0;34m,\u001b[0m \u001b[0mformat\u001b[0m\u001b[0;34m=\u001b[0m\u001b[0mparse_format\u001b[0m\u001b[0;34m)\u001b[0m\u001b[0;34m\u001b[0m\u001b[0;34m\u001b[0m\u001b[0m\n\u001b[0;32m--> 212\u001b[0;31m             \u001b[0;32mreturn\u001b[0m \u001b[0mNanopub\u001b[0m\u001b[0;34m.\u001b[0m\u001b[0mNanopubObj\u001b[0m\u001b[0;34m(\u001b[0m\u001b[0mrdf\u001b[0m\u001b[0;34m=\u001b[0m\u001b[0mnanopub_rdf\u001b[0m\u001b[0;34m,\u001b[0m \u001b[0msource_uri\u001b[0m\u001b[0;34m=\u001b[0m\u001b[0muri\u001b[0m\u001b[0;34m)\u001b[0m\u001b[0;34m\u001b[0m\u001b[0;34m\u001b[0m\u001b[0m\n\u001b[0m\u001b[1;32m    213\u001b[0m \u001b[0;34m\u001b[0m\u001b[0m\n\u001b[1;32m    214\u001b[0m \u001b[0;34m\u001b[0m\u001b[0m\n",
      "\u001b[0;32m~/code/FAIRWorkbench/fairworkflows/nanopub.py\u001b[0m in \u001b[0;36m__init__\u001b[0;34m(self, rdf, source_uri)\u001b[0m\n\u001b[1;32m     59\u001b[0m             \u001b[0;32mfor\u001b[0m \u001b[0mexpected\u001b[0m \u001b[0;32min\u001b[0m \u001b[0mexpected_graphs\u001b[0m\u001b[0;34m:\u001b[0m\u001b[0;34m\u001b[0m\u001b[0;34m\u001b[0m\u001b[0m\n\u001b[1;32m     60\u001b[0m                 \u001b[0;32mif\u001b[0m \u001b[0mexpected\u001b[0m \u001b[0;32mnot\u001b[0m \u001b[0;32min\u001b[0m \u001b[0mself\u001b[0m\u001b[0;34m.\u001b[0m\u001b[0mgraphs\u001b[0m\u001b[0;34m.\u001b[0m\u001b[0mkeys\u001b[0m\u001b[0;34m(\u001b[0m\u001b[0;34m)\u001b[0m\u001b[0;34m:\u001b[0m\u001b[0;34m\u001b[0m\u001b[0;34m\u001b[0m\u001b[0m\n\u001b[0;32m---> 61\u001b[0;31m                     \u001b[0;32mraise\u001b[0m \u001b[0mValueError\u001b[0m\u001b[0;34m(\u001b[0m\u001b[0;34mf'Expected to find {expected} graph in nanopub rdf, but not found. Graphs found: {self.graphs().keys()}.'\u001b[0m\u001b[0;34m)\u001b[0m\u001b[0;34m\u001b[0m\u001b[0;34m\u001b[0m\u001b[0m\n\u001b[0m\u001b[1;32m     62\u001b[0m \u001b[0;34m\u001b[0m\u001b[0m\n\u001b[1;32m     63\u001b[0m         \u001b[0;34m@\u001b[0m\u001b[0mproperty\u001b[0m\u001b[0;34m\u001b[0m\u001b[0;34m\u001b[0m\u001b[0m\n",
      "\u001b[0;31mTypeError\u001b[0m: 'dict' object is not callable"
     ]
    }
   ],
   "source": [
    "from fairworkflows import Nanopub\n",
    "np = Nanopub.fetch('http://purl.org/np/RApJG4fwj0szOMBMiYGmYvd5MCtRle6VbwkMJUb1SxxDM')\n",
    "print(np)"
   ]
  },
  {
   "cell_type": "code",
   "execution_count": null,
   "metadata": {},
   "outputs": [],
   "source": []
  }
 ],
 "metadata": {
  "kernelspec": {
   "display_name": "Python 3",
   "language": "python",
   "name": "python3"
  },
  "language_info": {
   "codemirror_mode": {
    "name": "ipython",
    "version": 3
   },
   "file_extension": ".py",
   "mimetype": "text/x-python",
   "name": "python",
   "nbconvert_exporter": "python",
   "pygments_lexer": "ipython3",
   "version": "3.7.7"
  }
 },
 "nbformat": 4,
 "nbformat_minor": 4
}
