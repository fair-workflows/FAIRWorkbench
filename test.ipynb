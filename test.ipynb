{
 "cells": [
  {
   "cell_type": "code",
   "execution_count": 1,
   "metadata": {
    "ExecutionTime": {
     "end_time": "2020-08-24T11:16:50.836628Z",
     "start_time": "2020-08-24T11:16:50.474717Z"
    },
    "provenance": [
     {
      "end_time": "Unknown",
      "execution_time": "Unknown",
      "outputs": [],
      "source": "from fairworkflows import fairstep\nfrom scriptcwl import WorkflowGenerator",
      "start_time": "Unknown"
     },
     {
      "end_time": "2020-08-24T09:22:55.425Z",
      "execution_time": "1.17s",
      "outputs": [
       {
        "ename": "ImportError",
        "evalue": "cannot import name 'get_listing' from 'cwltool.utils' (/usr/local/lib/python3.8/site-packages/cwltool/utils.py)",
        "output_type": "error",
        "traceback": [
         "\u001b[0;31m---------------------------------------------------------------------------\u001b[0m",
         "\u001b[0;31mImportError\u001b[0m                               Traceback (most recent call last)",
         "\u001b[0;32m<ipython-input-1-e4f2d7115e30>\u001b[0m in \u001b[0;36m<module>\u001b[0;34m\u001b[0m\n\u001b[0;32m----> 1\u001b[0;31m \u001b[0;32mfrom\u001b[0m \u001b[0mfairworkflows\u001b[0m \u001b[0;32mimport\u001b[0m \u001b[0mfairstep\u001b[0m\u001b[0;34m\u001b[0m\u001b[0;34m\u001b[0m\u001b[0m\n\u001b[0m\u001b[1;32m      2\u001b[0m \u001b[0;32mfrom\u001b[0m \u001b[0mscriptcwl\u001b[0m \u001b[0;32mimport\u001b[0m \u001b[0mWorkflowGenerator\u001b[0m\u001b[0;34m\u001b[0m\u001b[0;34m\u001b[0m\u001b[0m\n",
         "\u001b[0;32m~/code/FAIRWorkbench/fairworkflows/__init__.py\u001b[0m in \u001b[0;36m<module>\u001b[0;34m\u001b[0m\n\u001b[1;32m      3\u001b[0m \u001b[0;32mfrom\u001b[0m \u001b[0;34m.\u001b[0m\u001b[0mfairstep\u001b[0m \u001b[0;32mimport\u001b[0m \u001b[0mfairstep\u001b[0m\u001b[0;34m\u001b[0m\u001b[0;34m\u001b[0m\u001b[0m\n\u001b[1;32m      4\u001b[0m \u001b[0;32mfrom\u001b[0m \u001b[0;34m.\u001b[0m\u001b[0mnanopub\u001b[0m \u001b[0;32mimport\u001b[0m \u001b[0mNanopub\u001b[0m\u001b[0;34m\u001b[0m\u001b[0;34m\u001b[0m\u001b[0m\n\u001b[0;32m----> 5\u001b[0;31m \u001b[0;32mfrom\u001b[0m \u001b[0;34m.\u001b[0m\u001b[0mro_crate\u001b[0m \u001b[0;32mimport\u001b[0m \u001b[0mROCrate\u001b[0m\u001b[0;34m\u001b[0m\u001b[0;34m\u001b[0m\u001b[0m\n\u001b[0m\u001b[1;32m      6\u001b[0m \u001b[0;32mfrom\u001b[0m \u001b[0;34m.\u001b[0m\u001b[0mworkflowhub\u001b[0m \u001b[0;32mimport\u001b[0m \u001b[0mWorkflowhub\u001b[0m\u001b[0;34m\u001b[0m\u001b[0;34m\u001b[0m\u001b[0m\n\u001b[1;32m      7\u001b[0m \u001b[0;32mfrom\u001b[0m \u001b[0;34m.\u001b[0m\u001b[0mmanualstep\u001b[0m \u001b[0;32mimport\u001b[0m \u001b[0mmanualstep\u001b[0m\u001b[0;34m\u001b[0m\u001b[0;34m\u001b[0m\u001b[0m\n",
         "\u001b[0;32m~/code/FAIRWorkbench/fairworkflows/ro_crate.py\u001b[0m in \u001b[0;36m<module>\u001b[0;34m\u001b[0m\n\u001b[1;32m      5\u001b[0m \u001b[0;32mimport\u001b[0m \u001b[0mtempfile\u001b[0m\u001b[0;34m\u001b[0m\u001b[0;34m\u001b[0m\u001b[0m\n\u001b[1;32m      6\u001b[0m \u001b[0;34m\u001b[0m\u001b[0m\n\u001b[0;32m----> 7\u001b[0;31m \u001b[0;32mfrom\u001b[0m \u001b[0;34m.\u001b[0m \u001b[0;32mimport\u001b[0m \u001b[0mcwl\u001b[0m\u001b[0;34m\u001b[0m\u001b[0;34m\u001b[0m\u001b[0m\n\u001b[0m\u001b[1;32m      8\u001b[0m \u001b[0;34m\u001b[0m\u001b[0m\n\u001b[1;32m      9\u001b[0m \u001b[0mMETADATA_FILE\u001b[0m \u001b[0;34m=\u001b[0m \u001b[0;34m'ro-crate-metadata.jsonld'\u001b[0m\u001b[0;34m\u001b[0m\u001b[0;34m\u001b[0m\u001b[0m\n",
         "\u001b[0;32m~/code/FAIRWorkbench/fairworkflows/cwl.py\u001b[0m in \u001b[0;36m<module>\u001b[0;34m\u001b[0m\n\u001b[1;32m      4\u001b[0m \u001b[0;32mfrom\u001b[0m \u001b[0mtyping\u001b[0m \u001b[0;32mimport\u001b[0m \u001b[0mList\u001b[0m\u001b[0;34m,\u001b[0m \u001b[0mUnion\u001b[0m\u001b[0;34m,\u001b[0m \u001b[0mDict\u001b[0m\u001b[0;34m,\u001b[0m \u001b[0mOptional\u001b[0m\u001b[0;34m\u001b[0m\u001b[0;34m\u001b[0m\u001b[0m\n\u001b[1;32m      5\u001b[0m \u001b[0;32mimport\u001b[0m \u001b[0mtempfile\u001b[0m\u001b[0;34m\u001b[0m\u001b[0;34m\u001b[0m\u001b[0m\n\u001b[0;32m----> 6\u001b[0;31m \u001b[0;32mfrom\u001b[0m \u001b[0mtoil\u001b[0m\u001b[0;34m.\u001b[0m\u001b[0mcwl\u001b[0m \u001b[0;32mimport\u001b[0m \u001b[0mcwltoil\u001b[0m\u001b[0;34m\u001b[0m\u001b[0;34m\u001b[0m\u001b[0m\n\u001b[0m\u001b[1;32m      7\u001b[0m \u001b[0;34m\u001b[0m\u001b[0m\n\u001b[1;32m      8\u001b[0m \u001b[0;32mfrom\u001b[0m \u001b[0;34m.\u001b[0m\u001b[0mexceptions\u001b[0m \u001b[0;32mimport\u001b[0m \u001b[0mCWLException\u001b[0m\u001b[0;34m\u001b[0m\u001b[0;34m\u001b[0m\u001b[0m\n",
         "\u001b[0;32m/usr/local/lib/python3.8/site-packages/toil/cwl/cwltoil.py\u001b[0m in \u001b[0;36m<module>\u001b[0;34m\u001b[0m\n\u001b[1;32m     76\u001b[0m from cwltool.software_requirements import (\n\u001b[1;32m     77\u001b[0m     DependenciesConfiguration, get_container_from_software_requirements)\n\u001b[0;32m---> 78\u001b[0;31m \u001b[0;32mfrom\u001b[0m \u001b[0mcwltool\u001b[0m\u001b[0;34m.\u001b[0m\u001b[0mutils\u001b[0m \u001b[0;32mimport\u001b[0m \u001b[0maslist\u001b[0m\u001b[0;34m,\u001b[0m \u001b[0mconvert_pathsep_to_unix\u001b[0m\u001b[0;34m,\u001b[0m \u001b[0mget_listing\u001b[0m\u001b[0;34m,\u001b[0m \u001b[0mnormalizeFilesDirs\u001b[0m\u001b[0;34m,\u001b[0m \u001b[0mCWLObjectType\u001b[0m\u001b[0;34m\u001b[0m\u001b[0;34m\u001b[0m\u001b[0m\n\u001b[0m\u001b[1;32m     79\u001b[0m \u001b[0;32mfrom\u001b[0m \u001b[0mcwltool\u001b[0m\u001b[0;34m.\u001b[0m\u001b[0mmutation\u001b[0m \u001b[0;32mimport\u001b[0m \u001b[0mMutationManager\u001b[0m\u001b[0;34m\u001b[0m\u001b[0;34m\u001b[0m\u001b[0m\n\u001b[1;32m     80\u001b[0m \u001b[0;34m\u001b[0m\u001b[0m\n",
         "\u001b[0;31mImportError\u001b[0m: cannot import name 'get_listing' from 'cwltool.utils' (/usr/local/lib/python3.8/site-packages/cwltool/utils.py)"
        ]
       }
      ],
      "source": "from fairworkflows import fairstep\nfrom scriptcwl import WorkflowGenerator",
      "start_time": "2020-08-24T09:22:54.251Z"
     },
     {
      "end_time": "2020-08-24T11:16:50.836Z",
      "execution_time": "362ms",
      "outputs": [],
      "source": "from fairworkflows import fairstep\nfrom scriptcwl import WorkflowGenerator",
      "start_time": "2020-08-24T11:16:50.474Z"
     }
    ]
   },
   "outputs": [],
   "source": [
    "from fairworkflows import fairstep\n",
    "from scriptcwl import WorkflowGenerator"
   ]
  },
  {
   "cell_type": "code",
   "execution_count": null,
   "metadata": {},
   "outputs": [],
   "source": []
  },
  {
   "cell_type": "markdown",
   "metadata": {
    "provenance": [
     {
      "last_modified": "2020-08-04T10:30:37.259Z",
      "source": "# Steps"
     }
    ]
   },
   "source": [
    "# Steps"
   ]
  },
  {
   "cell_type": "code",
   "execution_count": 7,
   "metadata": {
    "provenance": [
     {
      "end_time": "Unknown",
      "execution_time": "Unknown",
      "outputs": [
       {
        "name": "stdout",
        "output_type": "stream",
        "text": "Created cwltool at  /Users/robinrichardson/code/FAIRWorkbench/steps/add.cwl\n"
       }
      ],
      "source": "@fairstep\ndef add(x: int, y: int) -> int:\n    return x + y",
      "start_time": "Unknown"
     }
    ]
   },
   "outputs": [
    {
     "name": "stdout",
     "output_type": "stream",
     "text": [
      "Created cwltool at  /Users/robinrichardson/code/FAIRWorkbench/steps/add.cwl\n"
     ]
    }
   ],
   "source": [
    "@fairstep\n",
    "def add(x: int, y: int) -> int:\n",
    "    return x + y"
   ]
  },
  {
   "cell_type": "code",
   "execution_count": 8,
   "metadata": {
    "provenance": [
     {
      "end_time": "Unknown",
      "execution_time": "Unknown",
      "outputs": [
       {
        "name": "stdout",
        "output_type": "stream",
        "text": "Created cwltool at  /Users/robinrichardson/code/FAIRWorkbench/steps/mult.cwl\n"
       }
      ],
      "source": "@fairstep\ndef mult(z: int, w: int) -> int:\n    return z * w",
      "start_time": "Unknown"
     }
    ]
   },
   "outputs": [
    {
     "name": "stdout",
     "output_type": "stream",
     "text": [
      "Created cwltool at  /Users/robinrichardson/code/FAIRWorkbench/steps/mult.cwl\n"
     ]
    }
   ],
   "source": [
    "@fairstep\n",
    "def mult(z: int, w: int) -> int:\n",
    "    return z * w"
   ]
  },
  {
   "cell_type": "markdown",
   "metadata": {
    "provenance": [
     {
      "last_modified": "2020-08-04T10:30:37.259Z",
      "source": "# Workflow"
     }
    ]
   },
   "source": [
    "# Workflow"
   ]
  },
  {
   "cell_type": "code",
   "execution_count": 9,
   "metadata": {
    "provenance": [
     {
      "end_time": "Unknown",
      "execution_time": "Unknown",
      "outputs": [
       {
        "name": "stderr",
        "output_type": "stream",
        "text": "Resolved './steps/mult.cwl' to 'file:///Users/robinrichardson/code/FAIRWorkbench/steps/mult.cwl'\nResolved './steps/add.cwl' to 'file:///Users/robinrichardson/code/FAIRWorkbench/steps/add.cwl'\nResolved '/var/folders/6f/tyqhwp0x5rzd1t6d_61ghy800000gn/T/tmpdg2gb98o' to 'file:///var/folders/6f/tyqhwp0x5rzd1t6d_61ghy800000gn/T/tmpdg2gb98o'\n"
       }
      ],
      "source": "with WorkflowGenerator() as wf:\n    wf.load(steps_dir='./steps/')\n\n    num1 = wf.add_input(num1='int')\n    num2 = wf.add_input(num2='int')\n\n    answer1 = wf.add(x=num1, y=num2)\n    answer2 = wf.mult(z=answer1, w=num2)\n\n    wf.add_outputs(final_answer=answer2)\n\n    wf.save('test_add_mult.cwl', mode='abs')",
      "start_time": "Unknown"
     }
    ]
   },
   "outputs": [
    {
     "name": "stderr",
     "output_type": "stream",
     "text": [
      "Resolved './steps/mult.cwl' to 'file:///Users/robinrichardson/code/FAIRWorkbench/steps/mult.cwl'\n",
      "Resolved './steps/add.cwl' to 'file:///Users/robinrichardson/code/FAIRWorkbench/steps/add.cwl'\n",
      "Resolved '/var/folders/6f/tyqhwp0x5rzd1t6d_61ghy800000gn/T/tmpdg2gb98o' to 'file:///var/folders/6f/tyqhwp0x5rzd1t6d_61ghy800000gn/T/tmpdg2gb98o'\n"
     ]
    }
   ],
   "source": [
    "with WorkflowGenerator() as wf:\n",
    "    wf.load(steps_dir='./steps/')\n",
    "\n",
    "    num1 = wf.add_input(num1='int')\n",
    "    num2 = wf.add_input(num2='int')\n",
    "\n",
    "    answer1 = wf.add(x=num1, y=num2)\n",
    "    answer2 = wf.mult(z=answer1, w=num2)\n",
    "\n",
    "    wf.add_outputs(final_answer=answer2)\n",
    "\n",
    "    wf.save('test_add_mult.cwl', mode='abs')"
   ]
  },
  {
   "cell_type": "markdown",
   "metadata": {
    "provenance": [
     {
      "last_modified": "2020-08-04T10:30:37.259Z",
      "source": "# Execution"
     }
    ]
   },
   "source": [
    "# Execution"
   ]
  },
  {
   "cell_type": "code",
   "execution_count": 10,
   "metadata": {
    "provenance": [
     {
      "end_time": "Unknown",
      "execution_time": "Unknown",
      "outputs": [
       {
        "name": "stdout",
        "output_type": "stream",
        "text": "\u001b[1;30mINFO\u001b[0m /usr/local/bin/cwltool 2.0.20200312183052\n\u001b[1;30mINFO\u001b[0m Resolved 'test_add_mult.cwl' to 'file:///Users/robinrichardson/code/FAIRWorkbench/test_add_mult.cwl'\n\u001b[1;30mINFO\u001b[0m [workflow ] start\n\u001b[1;30mINFO\u001b[0m [workflow ] starting step add\n\u001b[1;30mINFO\u001b[0m [step add] start\n\u001b[1;30mINFO\u001b[0m [job add] /private/tmp/docker_tmpjk8juz95$ python3 \\\n    /Users/robinrichardson/code/FAIRWorkbench/steps/add.py \\\n    5 \\\n    10 > /private/tmp/docker_tmpjk8juz95/cwl.output.json\n\u001b[1;30mINFO\u001b[0m [job add] completed success\n\u001b[1;30mINFO\u001b[0m [step add] completed success\n\u001b[1;30mINFO\u001b[0m [workflow ] starting step mult\n\u001b[1;30mINFO\u001b[0m [step mult] start\n\u001b[1;30mINFO\u001b[0m [job mult] /private/tmp/docker_tmpfk9s8ak6$ python3 \\\n    /Users/robinrichardson/code/FAIRWorkbench/steps/mult.py \\\n    15 \\\n    10 > /private/tmp/docker_tmpfk9s8ak6/cwl.output.json\n\u001b[1;30mINFO\u001b[0m [job mult] completed success\n\u001b[1;30mINFO\u001b[0m [step mult] completed success\n\u001b[1;30mINFO\u001b[0m [workflow ] completed success\n{\n    \"final_answer\": 150\n}\n\u001b[1;30mINFO\u001b[0m Final process status is success\n"
       }
      ],
      "source": "! cwltool test_add_mult.cwl --num1 5 --num2 10",
      "start_time": "Unknown"
     }
    ]
   },
   "outputs": [
    {
     "name": "stdout",
     "output_type": "stream",
     "text": [
      "\u001b[1;30mINFO\u001b[0m /usr/local/bin/cwltool 2.0.20200312183052\n",
      "\u001b[1;30mINFO\u001b[0m Resolved 'test_add_mult.cwl' to 'file:///Users/robinrichardson/code/FAIRWorkbench/test_add_mult.cwl'\n",
      "\u001b[1;30mINFO\u001b[0m [workflow ] start\n",
      "\u001b[1;30mINFO\u001b[0m [workflow ] starting step add\n",
      "\u001b[1;30mINFO\u001b[0m [step add] start\n",
      "\u001b[1;30mINFO\u001b[0m [job add] /private/tmp/docker_tmpjk8juz95$ python3 \\\n",
      "    /Users/robinrichardson/code/FAIRWorkbench/steps/add.py \\\n",
      "    5 \\\n",
      "    10 > /private/tmp/docker_tmpjk8juz95/cwl.output.json\n",
      "\u001b[1;30mINFO\u001b[0m [job add] completed success\n",
      "\u001b[1;30mINFO\u001b[0m [step add] completed success\n",
      "\u001b[1;30mINFO\u001b[0m [workflow ] starting step mult\n",
      "\u001b[1;30mINFO\u001b[0m [step mult] start\n",
      "\u001b[1;30mINFO\u001b[0m [job mult] /private/tmp/docker_tmpfk9s8ak6$ python3 \\\n",
      "    /Users/robinrichardson/code/FAIRWorkbench/steps/mult.py \\\n",
      "    15 \\\n",
      "    10 > /private/tmp/docker_tmpfk9s8ak6/cwl.output.json\n",
      "\u001b[1;30mINFO\u001b[0m [job mult] completed success\n",
      "\u001b[1;30mINFO\u001b[0m [step mult] completed success\n",
      "\u001b[1;30mINFO\u001b[0m [workflow ] completed success\n",
      "{\n",
      "    \"final_answer\": 150\n",
      "}\n",
      "\u001b[1;30mINFO\u001b[0m Final process status is success\n"
     ]
    }
   ],
   "source": [
    "! cwltool test_add_mult.cwl --num1 5 --num2 10"
   ]
  },
  {
   "cell_type": "code",
   "execution_count": 1,
   "metadata": {
    "provenance": [
     {
      "end_time": "Unknown",
      "execution_time": "Unknown",
      "outputs": [
       {
        "ename": "TypeError",
        "evalue": "'dict' object is not callable",
        "output_type": "error",
        "traceback": [
         "\u001b[0;31m---------------------------------------------------------------------------\u001b[0m",
         "\u001b[0;31mTypeError\u001b[0m                                 Traceback (most recent call last)",
         "\u001b[0;32m<ipython-input-1-30ada484e5f7>\u001b[0m in \u001b[0;36m<module>\u001b[0;34m\u001b[0m\n\u001b[1;32m      1\u001b[0m \u001b[0;32mfrom\u001b[0m \u001b[0mfairworkflows\u001b[0m \u001b[0;32mimport\u001b[0m \u001b[0mNanopub\u001b[0m\u001b[0;34m\u001b[0m\u001b[0;34m\u001b[0m\u001b[0m\n\u001b[0;32m----> 2\u001b[0;31m \u001b[0mnp\u001b[0m \u001b[0;34m=\u001b[0m \u001b[0mNanopub\u001b[0m\u001b[0;34m.\u001b[0m\u001b[0mfetch\u001b[0m\u001b[0;34m(\u001b[0m\u001b[0;34m'http://purl.org/np/RApJG4fwj0szOMBMiYGmYvd5MCtRle6VbwkMJUb1SxxDM'\u001b[0m\u001b[0;34m)\u001b[0m\u001b[0;34m\u001b[0m\u001b[0;34m\u001b[0m\u001b[0m\n\u001b[0m\u001b[1;32m      3\u001b[0m \u001b[0mprint\u001b[0m\u001b[0;34m(\u001b[0m\u001b[0mnp\u001b[0m\u001b[0;34m)\u001b[0m\u001b[0;34m\u001b[0m\u001b[0;34m\u001b[0m\u001b[0m\n",
         "\u001b[0;32m~/code/FAIRWorkbench/fairworkflows/nanopub.py\u001b[0m in \u001b[0;36mfetch\u001b[0;34m(uri, format)\u001b[0m\n\u001b[1;32m    210\u001b[0m             \u001b[0mnanopub_rdf\u001b[0m \u001b[0;34m=\u001b[0m \u001b[0mrdflib\u001b[0m\u001b[0;34m.\u001b[0m\u001b[0mConjunctiveGraph\u001b[0m\u001b[0;34m(\u001b[0m\u001b[0;34m)\u001b[0m\u001b[0;34m\u001b[0m\u001b[0;34m\u001b[0m\u001b[0m\n\u001b[1;32m    211\u001b[0m             \u001b[0mnanopub_rdf\u001b[0m\u001b[0;34m.\u001b[0m\u001b[0mparse\u001b[0m\u001b[0;34m(\u001b[0m\u001b[0mdata\u001b[0m\u001b[0;34m=\u001b[0m\u001b[0mr\u001b[0m\u001b[0;34m.\u001b[0m\u001b[0mtext\u001b[0m\u001b[0;34m,\u001b[0m \u001b[0mformat\u001b[0m\u001b[0;34m=\u001b[0m\u001b[0mparse_format\u001b[0m\u001b[0;34m)\u001b[0m\u001b[0;34m\u001b[0m\u001b[0;34m\u001b[0m\u001b[0m\n\u001b[0;32m--> 212\u001b[0;31m             \u001b[0;32mreturn\u001b[0m \u001b[0mNanopub\u001b[0m\u001b[0;34m.\u001b[0m\u001b[0mNanopubObj\u001b[0m\u001b[0;34m(\u001b[0m\u001b[0mrdf\u001b[0m\u001b[0;34m=\u001b[0m\u001b[0mnanopub_rdf\u001b[0m\u001b[0;34m,\u001b[0m \u001b[0msource_uri\u001b[0m\u001b[0;34m=\u001b[0m\u001b[0muri\u001b[0m\u001b[0;34m)\u001b[0m\u001b[0;34m\u001b[0m\u001b[0;34m\u001b[0m\u001b[0m\n\u001b[0m\u001b[1;32m    213\u001b[0m \u001b[0;34m\u001b[0m\u001b[0m\n\u001b[1;32m    214\u001b[0m \u001b[0;34m\u001b[0m\u001b[0m\n",
         "\u001b[0;32m~/code/FAIRWorkbench/fairworkflows/nanopub.py\u001b[0m in \u001b[0;36m__init__\u001b[0;34m(self, rdf, source_uri)\u001b[0m\n\u001b[1;32m     59\u001b[0m             \u001b[0;32mfor\u001b[0m \u001b[0mexpected\u001b[0m \u001b[0;32min\u001b[0m \u001b[0mexpected_graphs\u001b[0m\u001b[0;34m:\u001b[0m\u001b[0;34m\u001b[0m\u001b[0;34m\u001b[0m\u001b[0m\n\u001b[1;32m     60\u001b[0m                 \u001b[0;32mif\u001b[0m \u001b[0mexpected\u001b[0m \u001b[0;32mnot\u001b[0m \u001b[0;32min\u001b[0m \u001b[0mself\u001b[0m\u001b[0;34m.\u001b[0m\u001b[0mgraphs\u001b[0m\u001b[0;34m.\u001b[0m\u001b[0mkeys\u001b[0m\u001b[0;34m(\u001b[0m\u001b[0;34m)\u001b[0m\u001b[0;34m:\u001b[0m\u001b[0;34m\u001b[0m\u001b[0;34m\u001b[0m\u001b[0m\n\u001b[0;32m---> 61\u001b[0;31m                     \u001b[0;32mraise\u001b[0m \u001b[0mValueError\u001b[0m\u001b[0;34m(\u001b[0m\u001b[0;34mf'Expected to find {expected} graph in nanopub rdf, but not found. Graphs found: {self.graphs().keys()}.'\u001b[0m\u001b[0;34m)\u001b[0m\u001b[0;34m\u001b[0m\u001b[0;34m\u001b[0m\u001b[0m\n\u001b[0m\u001b[1;32m     62\u001b[0m \u001b[0;34m\u001b[0m\u001b[0m\n\u001b[1;32m     63\u001b[0m         \u001b[0;34m@\u001b[0m\u001b[0mproperty\u001b[0m\u001b[0;34m\u001b[0m\u001b[0;34m\u001b[0m\u001b[0m\n",
         "\u001b[0;31mTypeError\u001b[0m: 'dict' object is not callable"
        ]
       }
      ],
      "source": "from fairworkflows import Nanopub\nnp = Nanopub.fetch('http://purl.org/np/RApJG4fwj0szOMBMiYGmYvd5MCtRle6VbwkMJUb1SxxDM')\nprint(np)",
      "start_time": "Unknown"
     }
    ]
   },
   "outputs": [
    {
     "ename": "TypeError",
     "evalue": "'dict' object is not callable",
     "output_type": "error",
     "traceback": [
      "\u001b[0;31m---------------------------------------------------------------------------\u001b[0m",
      "\u001b[0;31mTypeError\u001b[0m                                 Traceback (most recent call last)",
      "\u001b[0;32m<ipython-input-1-30ada484e5f7>\u001b[0m in \u001b[0;36m<module>\u001b[0;34m\u001b[0m\n\u001b[1;32m      1\u001b[0m \u001b[0;32mfrom\u001b[0m \u001b[0mfairworkflows\u001b[0m \u001b[0;32mimport\u001b[0m \u001b[0mNanopub\u001b[0m\u001b[0;34m\u001b[0m\u001b[0;34m\u001b[0m\u001b[0m\n\u001b[0;32m----> 2\u001b[0;31m \u001b[0mnp\u001b[0m \u001b[0;34m=\u001b[0m \u001b[0mNanopub\u001b[0m\u001b[0;34m.\u001b[0m\u001b[0mfetch\u001b[0m\u001b[0;34m(\u001b[0m\u001b[0;34m'http://purl.org/np/RApJG4fwj0szOMBMiYGmYvd5MCtRle6VbwkMJUb1SxxDM'\u001b[0m\u001b[0;34m)\u001b[0m\u001b[0;34m\u001b[0m\u001b[0;34m\u001b[0m\u001b[0m\n\u001b[0m\u001b[1;32m      3\u001b[0m \u001b[0mprint\u001b[0m\u001b[0;34m(\u001b[0m\u001b[0mnp\u001b[0m\u001b[0;34m)\u001b[0m\u001b[0;34m\u001b[0m\u001b[0;34m\u001b[0m\u001b[0m\n",
      "\u001b[0;32m~/code/FAIRWorkbench/fairworkflows/nanopub.py\u001b[0m in \u001b[0;36mfetch\u001b[0;34m(uri, format)\u001b[0m\n\u001b[1;32m    210\u001b[0m             \u001b[0mnanopub_rdf\u001b[0m \u001b[0;34m=\u001b[0m \u001b[0mrdflib\u001b[0m\u001b[0;34m.\u001b[0m\u001b[0mConjunctiveGraph\u001b[0m\u001b[0;34m(\u001b[0m\u001b[0;34m)\u001b[0m\u001b[0;34m\u001b[0m\u001b[0;34m\u001b[0m\u001b[0m\n\u001b[1;32m    211\u001b[0m             \u001b[0mnanopub_rdf\u001b[0m\u001b[0;34m.\u001b[0m\u001b[0mparse\u001b[0m\u001b[0;34m(\u001b[0m\u001b[0mdata\u001b[0m\u001b[0;34m=\u001b[0m\u001b[0mr\u001b[0m\u001b[0;34m.\u001b[0m\u001b[0mtext\u001b[0m\u001b[0;34m,\u001b[0m \u001b[0mformat\u001b[0m\u001b[0;34m=\u001b[0m\u001b[0mparse_format\u001b[0m\u001b[0;34m)\u001b[0m\u001b[0;34m\u001b[0m\u001b[0;34m\u001b[0m\u001b[0m\n\u001b[0;32m--> 212\u001b[0;31m             \u001b[0;32mreturn\u001b[0m \u001b[0mNanopub\u001b[0m\u001b[0;34m.\u001b[0m\u001b[0mNanopubObj\u001b[0m\u001b[0;34m(\u001b[0m\u001b[0mrdf\u001b[0m\u001b[0;34m=\u001b[0m\u001b[0mnanopub_rdf\u001b[0m\u001b[0;34m,\u001b[0m \u001b[0msource_uri\u001b[0m\u001b[0;34m=\u001b[0m\u001b[0muri\u001b[0m\u001b[0;34m)\u001b[0m\u001b[0;34m\u001b[0m\u001b[0;34m\u001b[0m\u001b[0m\n\u001b[0m\u001b[1;32m    213\u001b[0m \u001b[0;34m\u001b[0m\u001b[0m\n\u001b[1;32m    214\u001b[0m \u001b[0;34m\u001b[0m\u001b[0m\n",
      "\u001b[0;32m~/code/FAIRWorkbench/fairworkflows/nanopub.py\u001b[0m in \u001b[0;36m__init__\u001b[0;34m(self, rdf, source_uri)\u001b[0m\n\u001b[1;32m     59\u001b[0m             \u001b[0;32mfor\u001b[0m \u001b[0mexpected\u001b[0m \u001b[0;32min\u001b[0m \u001b[0mexpected_graphs\u001b[0m\u001b[0;34m:\u001b[0m\u001b[0;34m\u001b[0m\u001b[0;34m\u001b[0m\u001b[0m\n\u001b[1;32m     60\u001b[0m                 \u001b[0;32mif\u001b[0m \u001b[0mexpected\u001b[0m \u001b[0;32mnot\u001b[0m \u001b[0;32min\u001b[0m \u001b[0mself\u001b[0m\u001b[0;34m.\u001b[0m\u001b[0mgraphs\u001b[0m\u001b[0;34m.\u001b[0m\u001b[0mkeys\u001b[0m\u001b[0;34m(\u001b[0m\u001b[0;34m)\u001b[0m\u001b[0;34m:\u001b[0m\u001b[0;34m\u001b[0m\u001b[0;34m\u001b[0m\u001b[0m\n\u001b[0;32m---> 61\u001b[0;31m                     \u001b[0;32mraise\u001b[0m \u001b[0mValueError\u001b[0m\u001b[0;34m(\u001b[0m\u001b[0;34mf'Expected to find {expected} graph in nanopub rdf, but not found. Graphs found: {self.graphs().keys()}.'\u001b[0m\u001b[0;34m)\u001b[0m\u001b[0;34m\u001b[0m\u001b[0;34m\u001b[0m\u001b[0m\n\u001b[0m\u001b[1;32m     62\u001b[0m \u001b[0;34m\u001b[0m\u001b[0m\n\u001b[1;32m     63\u001b[0m         \u001b[0;34m@\u001b[0m\u001b[0mproperty\u001b[0m\u001b[0;34m\u001b[0m\u001b[0;34m\u001b[0m\u001b[0m\n",
      "\u001b[0;31mTypeError\u001b[0m: 'dict' object is not callable"
     ]
    }
   ],
   "source": [
    "from fairworkflows import Nanopub\n",
    "np = Nanopub.fetch('http://purl.org/np/RApJG4fwj0szOMBMiYGmYvd5MCtRle6VbwkMJUb1SxxDM')\n",
    "print(np)"
   ]
  },
  {
   "cell_type": "code",
   "execution_count": null,
   "metadata": {
    "provenance": [
     {
      "end_time": "Unknown",
      "execution_time": "Unknown",
      "outputs": [],
      "source": "",
      "start_time": "Unknown"
     }
    ]
   },
   "outputs": [],
   "source": []
  }
 ],
 "metadata": {
  "kernelspec": {
   "display_name": "Python 3",
   "language": "python",
   "name": "python3"
  },
  "language_info": {
   "codemirror_mode": {
    "name": "ipython",
    "version": 3
   },
   "file_extension": ".py",
   "mimetype": "text/x-python",
   "name": "python",
   "nbconvert_exporter": "python",
   "pygments_lexer": "ipython3",
   "version": "3.8.5"
  }
 },
 "nbformat": 4,
 "nbformat_minor": 4
}
