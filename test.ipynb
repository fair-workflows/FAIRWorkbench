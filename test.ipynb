{
 "cells": [
  {
   "cell_type": "code",
   "execution_count": 4,
   "metadata": {},
   "outputs": [],
   "source": [
    "import fairworkflows as fair\n",
    "from fairworkflows import Nanopub, Workflowhub"
   ]
  },
  {
   "cell_type": "code",
   "execution_count": 2,
   "metadata": {},
   "outputs": [
    {
     "data": {
      "application/vnd.jupyter.widget-view+json": {
       "model_id": "dcacc0a3ac2544e28276f33acc735350",
       "version_major": 2,
       "version_minor": 0
      },
      "text/plain": [
       "interactive(children=(Dropdown(description='source', options=('nanopub', 'workflowhub', 'FAIR Data Point'), va…"
      ]
     },
     "metadata": {},
     "output_type": "display_data"
    }
   ],
   "source": [
    "fair.search()"
   ]
  },
  {
   "cell_type": "code",
   "execution_count": 5,
   "metadata": {},
   "outputs": [],
   "source": [
    "np = Nanopub.fetch('http://purl.org/np/RAtpy2wjYJtUUFDHB_qpSiqNR5ALN9dGHDwS97CWfuVe0')"
   ]
  },
  {
   "cell_type": "code",
   "execution_count": 6,
   "metadata": {},
   "outputs": [
    {
     "data": {
      "text/plain": [
       "fairworkflows.fairdata.FairData"
      ]
     },
     "execution_count": 6,
     "metadata": {},
     "output_type": "execute_result"
    }
   ],
   "source": [
    "type(np)"
   ]
  },
  {
   "cell_type": "code",
   "execution_count": 7,
   "metadata": {},
   "outputs": [
    {
     "name": "stdout",
     "output_type": "stream",
     "text": [
      "Source URI = http://purl.org/np/RAtpy2wjYJtUUFDHB_qpSiqNR5ALN9dGHDwS97CWfuVe0\n",
      "@prefix this: <http://purl.org/np/RAtpy2wjYJtUUFDHB_qpSiqNR5ALN9dGHDwS97CWfuVe0> .\n",
      "@prefix sub: <http://purl.org/np/RAtpy2wjYJtUUFDHB_qpSiqNR5ALN9dGHDwS97CWfuVe0#> .\n",
      "@prefix xsd: <http://www.w3.org/2001/XMLSchema#> .\n",
      "@prefix rdf: <http://www.w3.org/1999/02/22-rdf-syntax-ns#> .\n",
      "@prefix rdfs: <http://www.w3.org/2000/01/rdf-schema#> .\n",
      "@prefix dct: <http://purl.org/dc/terms/> .\n",
      "@prefix prov: <http://www.w3.org/ns/prov#> .\n",
      "@prefix np: <http://www.nanopub.org/nschema#> .\n",
      "@prefix orcid: <https://orcid.org/> .\n",
      "@prefix nt: <https://w3id.org/np/o/ntemplate/> .\n",
      "@prefix icc: <https://w3id.org/fair/icc/terms/> .\n",
      "@prefix npx: <http://purl.org/nanopub/x/> .\n",
      "\n",
      "sub:Head {\n",
      "  this: np:hasAssertion sub:assertion;\n",
      "    np:hasProvenance sub:provenance;\n",
      "    np:hasPublicationInfo sub:pubinfo;\n",
      "    a np:Nanopublication .\n",
      "}\n",
      "\n",
      "sub:assertion {\n",
      "  sub:assertion a nt:AssertionTemplate;\n",
      "    rdfs:label \"Defining a FAIR IN community\";\n",
      "    nt:hasStatement sub:st0, sub:st1, sub:st2, sub:st3 .\n",
      "  \n",
      "  sub:comment a nt:LiteralPlaceholder;\n",
      "    rdfs:label \"description of the community in one sentence\" .\n",
      "  \n",
      "  sub:community a nt:LocalResource;\n",
      "    rdfs:label \"This community\" .\n",
      "  \n",
      "  sub:name a nt:LiteralPlaceholder;\n",
      "    rdfs:label \"the name of your community\" .\n",
      "  \n",
      "  sub:st0 rdf:object icc:Community;\n",
      "    rdf:predicate rdf:type;\n",
      "    rdf:subject sub:community;\n",
      "    a rdf:Statement;\n",
      "    nt:statementOrder 0 .\n",
      "  \n",
      "  sub:st1 rdf:object sub:name;\n",
      "    rdf:predicate rdfs:label;\n",
      "    rdf:subject sub:community;\n",
      "    a rdf:Statement;\n",
      "    nt:statementOrder 1 .\n",
      "  \n",
      "  sub:st2 rdf:object sub:comment;\n",
      "    rdf:predicate rdfs:comment;\n",
      "    rdf:subject sub:community;\n",
      "    a rdf:Statement;\n",
      "    nt:statementOrder 2 .\n",
      "  \n",
      "  sub:st3 rdf:object sub:website;\n",
      "    rdf:predicate rdfs:seeAlso;\n",
      "    rdf:subject sub:community;\n",
      "    a rdf:Statement;\n",
      "    nt:statementOrder 3 .\n",
      "  \n",
      "  sub:website a nt:UriPlaceholder;\n",
      "    rdfs:label \"a link to the community's website\" .\n",
      "  \n",
      "  rdf:type rdfs:label \"is a\" .\n",
      "  \n",
      "  rdfs:comment rdfs:label \"has the description\" .\n",
      "  \n",
      "  rdfs:label rdfs:label \"is called\" .\n",
      "  \n",
      "  rdfs:seeAlso rdfs:label \"has the website\" .\n",
      "  \n",
      "  icc:Community rdfs:label \"FAIR IN community\" .\n",
      "}\n",
      "\n",
      "sub:provenance {\n",
      "  sub:assertion prov:wasAttributedTo orcid:0000-0002-1267-0234 .\n",
      "}\n",
      "\n",
      "sub:pubinfo {\n",
      "  sub:sig npx:hasAlgorithm \"RSA\";\n",
      "    npx:hasPublicKey \"MIGfMA0GCSqGSIb3DQEBAQUAA4GNADCBiQKBgQCwUtewGCpT5vIfXYE1bmf/Uqu1ojqnWdYxv+ySO80ul8Gu7m8KoyPAwuvaPj0lvPtHrg000qMmkxzKhYknEjq8v7EerxZNYp5B3/3+5ZpuWOYAs78UnQVjbHSmDdmryr4D4VvvNIiUmd0yxci47dTFUj4DvfHnGd6hVe5+goqdcwIDAQAB\";\n",
      "    npx:hasSignature \"OgO8vE3pvBSVlnv8gtvtacvvSmnsY8qvIBHNaOWoqHnRjvTwKNw5tsKoNzOkFkGpUgC2o51y+Jkp5gUZW/G5xXat902g+iv3aRZuT8XK0ud9474G4s6aqFxbL0VWMvSSUKiaeAO2XWFOvN8lroOb53OW5TKj4qmBN0s8ZRPnlk4=\";\n",
      "    npx:hasSignatureTarget this: .\n",
      "  \n",
      "  this: dct:created \"2020-04-17T07:15:38.273+02:00\"^^xsd:dateTime;\n",
      "    dct:creator orcid:0000-0002-1267-0234 .\n",
      "}\n",
      "\n"
     ]
    }
   ],
   "source": [
    "print(np)"
   ]
  },
  {
   "cell_type": "code",
   "execution_count": 8,
   "metadata": {},
   "outputs": [
    {
     "ename": "FileNotFoundError",
     "evalue": "[Errno 2] No such file or directory: '/var/folders/6f/tyqhwp0x5rzd1t6d_61ghy800000gn/T/tmpsmn5bjvz/signed.temp.trig'",
     "output_type": "error",
     "traceback": [
      "\u001b[0;31m---------------------------------------------------------------------------\u001b[0m",
      "\u001b[0;31mFileNotFoundError\u001b[0m                         Traceback (most recent call last)",
      "\u001b[0;32m<ipython-input-8-becd85f7be44>\u001b[0m in \u001b[0;36m<module>\u001b[0;34m\u001b[0m\n\u001b[0;32m----> 1\u001b[0;31m \u001b[0mNanopub\u001b[0m\u001b[0;34m.\u001b[0m\u001b[0mclaim\u001b[0m\u001b[0;34m(\u001b[0m\u001b[0;34m'Test claim'\u001b[0m\u001b[0;34m)\u001b[0m\u001b[0;34m\u001b[0m\u001b[0;34m\u001b[0m\u001b[0m\n\u001b[0m",
      "\u001b[0;32m~/code/FAIRWorkbench/fairworkflows/nanopub.py\u001b[0m in \u001b[0;36mclaim\u001b[0;34m(text, rdftriple)\u001b[0m\n\u001b[1;32m    160\u001b[0m             \u001b[0massertionrdf\u001b[0m\u001b[0;34m.\u001b[0m\u001b[0madd\u001b[0m\u001b[0;34m(\u001b[0m\u001b[0mrdftriple\u001b[0m\u001b[0;34m)\u001b[0m\u001b[0;34m\u001b[0m\u001b[0;34m\u001b[0m\u001b[0m\n\u001b[1;32m    161\u001b[0m \u001b[0;34m\u001b[0m\u001b[0m\n\u001b[0;32m--> 162\u001b[0;31m         \u001b[0mNanopub\u001b[0m\u001b[0;34m.\u001b[0m\u001b[0mpublish\u001b[0m\u001b[0;34m(\u001b[0m\u001b[0massertionrdf\u001b[0m\u001b[0;34m)\u001b[0m\u001b[0;34m\u001b[0m\u001b[0;34m\u001b[0m\u001b[0m\n\u001b[0m",
      "\u001b[0;32m~/code/FAIRWorkbench/fairworkflows/nanopub.py\u001b[0m in \u001b[0;36mpublish\u001b[0;34m(assertionrdf, uri)\u001b[0m\n\u001b[1;32m    142\u001b[0m         \u001b[0;31m# Sign the nanopub and publish it\u001b[0m\u001b[0;34m\u001b[0m\u001b[0;34m\u001b[0m\u001b[0;34m\u001b[0m\u001b[0m\n\u001b[1;32m    143\u001b[0m         \u001b[0msigned_file\u001b[0m \u001b[0;34m=\u001b[0m \u001b[0mwrapper\u001b[0m\u001b[0;34m.\u001b[0m\u001b[0msign\u001b[0m\u001b[0;34m(\u001b[0m\u001b[0munsigned_fname\u001b[0m\u001b[0;34m)\u001b[0m\u001b[0;34m\u001b[0m\u001b[0;34m\u001b[0m\u001b[0m\n\u001b[0;32m--> 144\u001b[0;31m         \u001b[0mnanopuburi\u001b[0m \u001b[0;34m=\u001b[0m \u001b[0mwrapper\u001b[0m\u001b[0;34m.\u001b[0m\u001b[0mpublish\u001b[0m\u001b[0;34m(\u001b[0m\u001b[0msigned_file\u001b[0m\u001b[0;34m)\u001b[0m\u001b[0;34m\u001b[0m\u001b[0;34m\u001b[0m\u001b[0m\n\u001b[0m\u001b[1;32m    145\u001b[0m \u001b[0;34m\u001b[0m\u001b[0m\n\u001b[1;32m    146\u001b[0m         \u001b[0mprint\u001b[0m\u001b[0;34m(\u001b[0m\u001b[0;34mf'Published to {nanopuburi}'\u001b[0m\u001b[0;34m)\u001b[0m\u001b[0;34m\u001b[0m\u001b[0;34m\u001b[0m\u001b[0m\n",
      "\u001b[0;32m~/code/FAIRWorkbench/fairworkflows/wrapper.py\u001b[0m in \u001b[0;36mpublish\u001b[0;34m(signed)\u001b[0m\n\u001b[1;32m     17\u001b[0m     \u001b[0mos\u001b[0m\u001b[0;34m.\u001b[0m\u001b[0msystem\u001b[0m\u001b[0;34m(\u001b[0m\u001b[0;34mf'{NANOPUB_SCRIPT} publish '\u001b[0m \u001b[0;34m+\u001b[0m \u001b[0msigned\u001b[0m\u001b[0;34m)\u001b[0m\u001b[0;34m\u001b[0m\u001b[0;34m\u001b[0m\u001b[0m\n\u001b[1;32m     18\u001b[0m \u001b[0;34m\u001b[0m\u001b[0m\n\u001b[0;32m---> 19\u001b[0;31m     \u001b[0;32mreturn\u001b[0m \u001b[0mextract_nanopub_url\u001b[0m\u001b[0;34m(\u001b[0m\u001b[0msigned\u001b[0m\u001b[0;34m)\u001b[0m\u001b[0;34m\u001b[0m\u001b[0;34m\u001b[0m\u001b[0m\n\u001b[0m\u001b[1;32m     20\u001b[0m \u001b[0;34m\u001b[0m\u001b[0m\n\u001b[1;32m     21\u001b[0m \u001b[0;34m\u001b[0m\u001b[0m\n",
      "\u001b[0;32m~/code/FAIRWorkbench/fairworkflows/wrapper.py\u001b[0m in \u001b[0;36mextract_nanopub_url\u001b[0;34m(signed)\u001b[0m\n\u001b[1;32m     24\u001b[0m     \u001b[0;31m# (this is pretty horrible, switch to python version as soon as it is ready)\u001b[0m\u001b[0;34m\u001b[0m\u001b[0;34m\u001b[0m\u001b[0;34m\u001b[0m\u001b[0m\n\u001b[1;32m     25\u001b[0m     \u001b[0mextracturl\u001b[0m \u001b[0;34m=\u001b[0m \u001b[0mrdflib\u001b[0m\u001b[0;34m.\u001b[0m\u001b[0mGraph\u001b[0m\u001b[0;34m(\u001b[0m\u001b[0;34m)\u001b[0m\u001b[0;34m\u001b[0m\u001b[0;34m\u001b[0m\u001b[0m\n\u001b[0;32m---> 26\u001b[0;31m     \u001b[0mextracturl\u001b[0m\u001b[0;34m.\u001b[0m\u001b[0mparse\u001b[0m\u001b[0;34m(\u001b[0m\u001b[0msigned\u001b[0m\u001b[0;34m,\u001b[0m \u001b[0mformat\u001b[0m\u001b[0;34m=\u001b[0m\u001b[0;34m\"trig\"\u001b[0m\u001b[0;34m)\u001b[0m\u001b[0;34m\u001b[0m\u001b[0;34m\u001b[0m\u001b[0m\n\u001b[0m\u001b[1;32m     27\u001b[0m     \u001b[0;32mreturn\u001b[0m \u001b[0mdict\u001b[0m\u001b[0;34m(\u001b[0m\u001b[0mextracturl\u001b[0m\u001b[0;34m.\u001b[0m\u001b[0mnamespaces\u001b[0m\u001b[0;34m(\u001b[0m\u001b[0;34m)\u001b[0m\u001b[0;34m)\u001b[0m\u001b[0;34m[\u001b[0m\u001b[0;34m'this'\u001b[0m\u001b[0;34m]\u001b[0m\u001b[0;34m.\u001b[0m\u001b[0m__str__\u001b[0m\u001b[0;34m(\u001b[0m\u001b[0;34m)\u001b[0m\u001b[0;34m\u001b[0m\u001b[0;34m\u001b[0m\u001b[0m\n\u001b[1;32m     28\u001b[0m \u001b[0;34m\u001b[0m\u001b[0m\n",
      "\u001b[0;32m/usr/local/lib/python3.7/site-packages/rdflib/graph.py\u001b[0m in \u001b[0;36mparse\u001b[0;34m(self, source, publicID, format, location, file, data, **args)\u001b[0m\n\u001b[1;32m   1032\u001b[0m         source = create_input_source(source=source, publicID=publicID,\n\u001b[1;32m   1033\u001b[0m                                      \u001b[0mlocation\u001b[0m\u001b[0;34m=\u001b[0m\u001b[0mlocation\u001b[0m\u001b[0;34m,\u001b[0m \u001b[0mfile\u001b[0m\u001b[0;34m=\u001b[0m\u001b[0mfile\u001b[0m\u001b[0;34m,\u001b[0m\u001b[0;34m\u001b[0m\u001b[0;34m\u001b[0m\u001b[0m\n\u001b[0;32m-> 1034\u001b[0;31m                                      data=data, format=format)\n\u001b[0m\u001b[1;32m   1035\u001b[0m         \u001b[0;32mif\u001b[0m \u001b[0mformat\u001b[0m \u001b[0;32mis\u001b[0m \u001b[0;32mNone\u001b[0m\u001b[0;34m:\u001b[0m\u001b[0;34m\u001b[0m\u001b[0;34m\u001b[0m\u001b[0m\n\u001b[1;32m   1036\u001b[0m             \u001b[0mformat\u001b[0m \u001b[0;34m=\u001b[0m \u001b[0msource\u001b[0m\u001b[0;34m.\u001b[0m\u001b[0mcontent_type\u001b[0m\u001b[0;34m\u001b[0m\u001b[0;34m\u001b[0m\u001b[0m\n",
      "\u001b[0;32m/usr/local/lib/python3.7/site-packages/rdflib/parser.py\u001b[0m in \u001b[0;36mcreate_input_source\u001b[0;34m(source, publicID, location, file, data, format)\u001b[0m\n\u001b[1;32m    182\u001b[0m         \u001b[0;32mif\u001b[0m \u001b[0mabsolute_location\u001b[0m\u001b[0;34m.\u001b[0m\u001b[0mstartswith\u001b[0m\u001b[0;34m(\u001b[0m\u001b[0;34m\"file:///\"\u001b[0m\u001b[0;34m)\u001b[0m\u001b[0;34m:\u001b[0m\u001b[0;34m\u001b[0m\u001b[0;34m\u001b[0m\u001b[0m\n\u001b[1;32m    183\u001b[0m             \u001b[0mfilename\u001b[0m \u001b[0;34m=\u001b[0m \u001b[0murl2pathname\u001b[0m\u001b[0;34m(\u001b[0m\u001b[0mabsolute_location\u001b[0m\u001b[0;34m.\u001b[0m\u001b[0mreplace\u001b[0m\u001b[0;34m(\u001b[0m\u001b[0;34m\"file:///\"\u001b[0m\u001b[0;34m,\u001b[0m \u001b[0;34m\"/\"\u001b[0m\u001b[0;34m)\u001b[0m\u001b[0;34m)\u001b[0m\u001b[0;34m\u001b[0m\u001b[0;34m\u001b[0m\u001b[0m\n\u001b[0;32m--> 184\u001b[0;31m             \u001b[0mfile\u001b[0m \u001b[0;34m=\u001b[0m \u001b[0mopen\u001b[0m\u001b[0;34m(\u001b[0m\u001b[0mfilename\u001b[0m\u001b[0;34m,\u001b[0m \u001b[0;34m\"rb\"\u001b[0m\u001b[0;34m)\u001b[0m\u001b[0;34m\u001b[0m\u001b[0;34m\u001b[0m\u001b[0m\n\u001b[0m\u001b[1;32m    185\u001b[0m         \u001b[0;32melse\u001b[0m\u001b[0;34m:\u001b[0m\u001b[0;34m\u001b[0m\u001b[0;34m\u001b[0m\u001b[0m\n\u001b[1;32m    186\u001b[0m             \u001b[0minput_source\u001b[0m \u001b[0;34m=\u001b[0m \u001b[0mURLInputSource\u001b[0m\u001b[0;34m(\u001b[0m\u001b[0mabsolute_location\u001b[0m\u001b[0;34m,\u001b[0m \u001b[0mformat\u001b[0m\u001b[0;34m)\u001b[0m\u001b[0;34m\u001b[0m\u001b[0;34m\u001b[0m\u001b[0m\n",
      "\u001b[0;31mFileNotFoundError\u001b[0m: [Errno 2] No such file or directory: '/var/folders/6f/tyqhwp0x5rzd1t6d_61ghy800000gn/T/tmpsmn5bjvz/signed.temp.trig'"
     ]
    }
   ],
   "source": [
    "Nanopub.claim('Test claim')"
   ]
  },
  {
   "cell_type": "code",
   "execution_count": null,
   "metadata": {},
   "outputs": [],
   "source": []
  }
 ],
 "metadata": {
  "kernelspec": {
   "display_name": "Python 3",
   "language": "python",
   "name": "python3"
  },
  "language_info": {
   "codemirror_mode": {
    "name": "ipython",
    "version": 3
   },
   "file_extension": ".py",
   "mimetype": "text/x-python",
   "name": "python",
   "nbconvert_exporter": "python",
   "pygments_lexer": "ipython3",
   "version": "3.7.7"
  }
 },
 "nbformat": 4,
 "nbformat_minor": 4
}
